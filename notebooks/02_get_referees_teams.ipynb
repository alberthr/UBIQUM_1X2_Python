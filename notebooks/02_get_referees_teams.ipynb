{
 "cells": [
  {
   "cell_type": "code",
   "execution_count": 3,
   "metadata": {},
   "outputs": [
    {
     "data": {
      "text/plain": [
       "'C:\\\\Users\\\\T420\\\\Desktop\\\\UBIQUM\\\\5 PROJECT\\\\Quiniela\\\\notebooks'"
      ]
     },
     "execution_count": 3,
     "metadata": {},
     "output_type": "execute_result"
    }
   ],
   "source": [
    "import os\n",
    "os.getcwd()"
   ]
  },
  {
   "cell_type": "code",
   "execution_count": 4,
   "metadata": {},
   "outputs": [
    {
     "data": {
      "text/html": [
       "<div>\n",
       "<style scoped>\n",
       "    .dataframe tbody tr th:only-of-type {\n",
       "        vertical-align: middle;\n",
       "    }\n",
       "\n",
       "    .dataframe tbody tr th {\n",
       "        vertical-align: top;\n",
       "    }\n",
       "\n",
       "    .dataframe thead th {\n",
       "        text-align: right;\n",
       "    }\n",
       "</style>\n",
       "<table border=\"1\" class=\"dataframe\">\n",
       "  <thead>\n",
       "    <tr style=\"text-align: right;\">\n",
       "      <th></th>\n",
       "      <th>name</th>\n",
       "      <th>league_id</th>\n",
       "      <th>season</th>\n",
       "      <th>season_start</th>\n",
       "      <th>season_end</th>\n",
       "    </tr>\n",
       "  </thead>\n",
       "  <tbody>\n",
       "    <tr>\n",
       "      <td>0</td>\n",
       "      <td>Primera Division</td>\n",
       "      <td>30</td>\n",
       "      <td>2017</td>\n",
       "      <td>2017-08-18</td>\n",
       "      <td>2018-05-20</td>\n",
       "    </tr>\n",
       "    <tr>\n",
       "      <td>1</td>\n",
       "      <td>Segunda Division</td>\n",
       "      <td>33</td>\n",
       "      <td>2017</td>\n",
       "      <td>2017-08-18</td>\n",
       "      <td>2018-06-16</td>\n",
       "    </tr>\n",
       "    <tr>\n",
       "      <td>2</td>\n",
       "      <td>Primera Division</td>\n",
       "      <td>64</td>\n",
       "      <td>2016</td>\n",
       "      <td>2016-08-19</td>\n",
       "      <td>2017-05-21</td>\n",
       "    </tr>\n",
       "    <tr>\n",
       "      <td>3</td>\n",
       "      <td>Segunda Division</td>\n",
       "      <td>65</td>\n",
       "      <td>2016</td>\n",
       "      <td>2016-08-19</td>\n",
       "      <td>2017-06-24</td>\n",
       "    </tr>\n",
       "    <tr>\n",
       "      <td>4</td>\n",
       "      <td>Primera Division</td>\n",
       "      <td>87</td>\n",
       "      <td>2018</td>\n",
       "      <td>2018-08-17</td>\n",
       "      <td>2019-05-19</td>\n",
       "    </tr>\n",
       "  </tbody>\n",
       "</table>\n",
       "</div>"
      ],
      "text/plain": [
       "               name  league_id  season season_start  season_end\n",
       "0  Primera Division         30    2017   2017-08-18  2018-05-20\n",
       "1  Segunda Division         33    2017   2017-08-18  2018-06-16\n",
       "2  Primera Division         64    2016   2016-08-19  2017-05-21\n",
       "3  Segunda Division         65    2016   2016-08-19  2017-06-24\n",
       "4  Primera Division         87    2018   2018-08-17  2019-05-19"
      ]
     },
     "execution_count": 4,
     "metadata": {},
     "output_type": "execute_result"
    }
   ],
   "source": [
    "import pandas as pd \n",
    " \n",
    "df = pd.read_csv(\"../bbdd/spain_leagues.csv\") \n",
    "df.head()"
   ]
  },
  {
   "cell_type": "code",
   "execution_count": 12,
   "metadata": {},
   "outputs": [],
   "source": [
    "league_id = df['league_id'][(df['name'] == 'Primera Division') | (df['name'] == 'Segunda Division')]"
   ]
  },
  {
   "cell_type": "code",
   "execution_count": 13,
   "metadata": {},
   "outputs": [
    {
     "data": {
      "text/plain": [
       "0      30\n",
       "1      33\n",
       "2      64\n",
       "3      65\n",
       "4      87\n",
       "5      88\n",
       "9     730\n",
       "10    731\n",
       "11    732\n",
       "12    733\n",
       "13    734\n",
       "14    735\n",
       "15    775\n",
       "16    776\n",
       "Name: league_id, dtype: int64"
      ]
     },
     "execution_count": 13,
     "metadata": {},
     "output_type": "execute_result"
    }
   ],
   "source": [
    "for i in league_id:\n",
    "    print()"
   ]
  },
  {
   "cell_type": "code",
   "execution_count": 20,
   "metadata": {},
   "outputs": [],
   "source": [
    "import requests\n",
    "\n",
    "headers = {'x-rapidapi-key': \"28d61524ab5698a1f8edb9e9ed577221\"}\n",
    "teams = []\n",
    "referee = []\n",
    "\n",
    "for i in league_id:\n",
    "    url = \"https://server1.api-football.com/fixtures/league/\"+str(i)\n",
    "    response = requests.request(\"GET\", url, headers=headers)\n",
    "    spain_leagues = response.json()\n",
    "    \n",
    "    for k in spain_leagues['api']['fixtures']:\n",
    "        teams.append(k['homeTeam']['team_name'])\n",
    "        teams.append(k['awayTeam']['team_name'])\n",
    "        referee.append(k['referee'])   "
   ]
  },
  {
   "cell_type": "code",
   "execution_count": 24,
   "metadata": {},
   "outputs": [],
   "source": [
    "teams_list = list(set(teams))\n",
    "referee_list = list(set(referee))"
   ]
  },
  {
   "cell_type": "code",
   "execution_count": 32,
   "metadata": {},
   "outputs": [],
   "source": [
    "import pandas as pd\n",
    "\n",
    "df = pd.DataFrame(teams_list, columns=[\"teams\"])\n",
    "df.to_excel('../bbdd/teams_list.xlsx', index=False)\n",
    "\n",
    "df = pd.DataFrame(referee_list, columns=[\"referees\"])\n",
    "df.to_excel('../bbdd/referees_list.xlsx', index=False, )"
   ]
  },
  {
   "cell_type": "code",
   "execution_count": null,
   "metadata": {},
   "outputs": [],
   "source": []
  }
 ],
 "metadata": {
  "kernelspec": {
   "display_name": "Python 3",
   "language": "python",
   "name": "python3"
  },
  "language_info": {
   "codemirror_mode": {
    "name": "ipython",
    "version": 3
   },
   "file_extension": ".py",
   "mimetype": "text/x-python",
   "name": "python",
   "nbconvert_exporter": "python",
   "pygments_lexer": "ipython3",
   "version": "3.7.4"
  }
 },
 "nbformat": 4,
 "nbformat_minor": 2
}
