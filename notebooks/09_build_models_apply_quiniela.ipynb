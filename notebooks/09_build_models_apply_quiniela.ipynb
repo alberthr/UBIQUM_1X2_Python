{
 "cells": [
  {
   "cell_type": "code",
   "execution_count": 2,
   "metadata": {},
   "outputs": [
    {
     "data": {
      "text/plain": [
       "'C:\\\\Users\\\\Albert\\\\Desktop\\\\DATA SCIENCE\\\\UBIQUM\\\\UBIQUM_1X2_Python\\\\notebooks'"
      ]
     },
     "execution_count": 2,
     "metadata": {},
     "output_type": "execute_result"
    }
   ],
   "source": [
    "import os\n",
    "os.getcwd()"
   ]
  },
  {
   "cell_type": "code",
   "execution_count": 3,
   "metadata": {},
   "outputs": [],
   "source": [
    "import pandas as pd\n",
    "\n",
    "xl = pd.ExcelFile('../bbdd/FULL_BBDD_with_features.xlsx')\n",
    "df = xl.parse(xl.sheet_names[0])"
   ]
  },
  {
   "cell_type": "code",
   "execution_count": null,
   "metadata": {},
   "outputs": [],
   "source": []
  },
  {
   "cell_type": "code",
   "execution_count": null,
   "metadata": {},
   "outputs": [],
   "source": []
  },
  {
   "cell_type": "code",
   "execution_count": 4,
   "metadata": {},
   "outputs": [
    {
     "data": {
      "text/plain": [
       "Index(['TEMPORADA', 'LIGA', 'JORNADA', 'FECHA', 'LOCAL', 'VISITANTE', 'GOL L',\n",
       "       'GOL V', 'ARBITRO', 'QUINIELA', 'last2_hometeam_w', 'last2_hometeam_d',\n",
       "       'last2_hometeam_l', 'last5_hometeam_w', 'last5_hometeam_d',\n",
       "       'last5_hometeam_l', 'last10_hometeam_w', 'last10_hometeam_d',\n",
       "       'last10_hometeam_l', 'last2_awayteam_w', 'last2_awayteam_d',\n",
       "       'last2_awayteam_l', 'last5_awayteam_w', 'last5_awayteam_d',\n",
       "       'last5_awayteam_l', 'last10_awayteam_w', 'last10_awayteam_d',\n",
       "       'last10_awayteam_l', 'league_local_local_w', 'league_local_local_d',\n",
       "       'league_local_local_l', 'league_visitor_visitor_w',\n",
       "       'league_visitor_visitor_d', 'league_visitor_visitor_l', 'h2h_last_10_h',\n",
       "       'h2h_last_10_d', 'h2h_last_10_a', 'h2h_5_homeaway_h',\n",
       "       'h2h_5_homeaway_d', 'h2h_5_homeaway_a'],\n",
       "      dtype='object')"
      ]
     },
     "execution_count": 4,
     "metadata": {},
     "output_type": "execute_result"
    }
   ],
   "source": [
    "df.drop(df.columns[[i[0:4]=='ref_' for i in df.columns]], axis=1, inplace=True)\n",
    "df.columns"
   ]
  },
  {
   "cell_type": "markdown",
   "metadata": {},
   "source": [
    "### Preparing models (create train and test, scaling, filtering information)"
   ]
  },
  {
   "cell_type": "code",
   "execution_count": 5,
   "metadata": {},
   "outputs": [],
   "source": [
    "from sklearn.model_selection import train_test_split\n",
    "from sklearn.preprocessing import scale"
   ]
  },
  {
   "cell_type": "markdown",
   "metadata": {},
   "source": [
    "Select what part of the dataframe i want to model and create the final dataframe"
   ]
  },
  {
   "cell_type": "code",
   "execution_count": 6,
   "metadata": {},
   "outputs": [],
   "source": [
    "jornada_cut = 10\n",
    "league_selec = 1\n",
    "selec = df[(df['JORNADA']>=jornada_cut) & (df['LIGA'] == league_selec)]"
   ]
  },
  {
   "cell_type": "code",
   "execution_count": 7,
   "metadata": {},
   "outputs": [],
   "source": [
    "dummy1 = pd.get_dummies(selec.LOCAL)\n",
    "dummy2 = pd.get_dummies(selec.VISITANTE)\n",
    "quiniela = pd.get_dummies(selec.QUINIELA)\n",
    "dummy2.columns = [i+\"_2\" for i in dummy2.columns]\n",
    "selec = pd.concat([selec, dummy1, dummy2, quiniela], axis=1)"
   ]
  },
  {
   "cell_type": "markdown",
   "metadata": {},
   "source": [
    "Save variables from models"
   ]
  },
  {
   "cell_type": "code",
   "execution_count": 8,
   "metadata": {},
   "outputs": [
    {
     "data": {
      "text/plain": [
       "Index(['TEMPORADA', 'LIGA', 'JORNADA', 'FECHA', 'LOCAL', 'VISITANTE', 'GOL L',\n",
       "       'GOL V', 'ARBITRO', 'QUINIELA',\n",
       "       ...\n",
       "       'Sporting Gijon_2', 'Tenerife_2', 'Valencia_2', 'Valladolid_2',\n",
       "       'Villarreal_2', 'Xerez C.D._2', 'Zaragoza_2', '1', '2', 'X'],\n",
       "      dtype='object', length=127)"
      ]
     },
     "execution_count": 8,
     "metadata": {},
     "output_type": "execute_result"
    }
   ],
   "source": [
    "selec.columns"
   ]
  },
  {
   "cell_type": "code",
   "execution_count": 9,
   "metadata": {},
   "outputs": [],
   "source": [
    "import pickle\n",
    "pickle.dump(selec.columns, open('../models/variables.sav', 'wb'))"
   ]
  },
  {
   "cell_type": "markdown",
   "metadata": {},
   "source": [
    "### Logistic Regression for \"1\""
   ]
  },
  {
   "cell_type": "code",
   "execution_count": 10,
   "metadata": {},
   "outputs": [],
   "source": [
    "x_col = list(selec.columns[[((i[-2:] in ['_l', '_w', '_d', '_h','_a' ]) | (i in dummy1.columns) |  \n",
    "                             (i in dummy2.columns)) for i in list(selec.columns)]])\n",
    "X = selec[x_col]\n",
    "y = selec['1']"
   ]
  },
  {
   "cell_type": "code",
   "execution_count": 11,
   "metadata": {},
   "outputs": [],
   "source": [
    "X_train, X_test, y_train, y_test = train_test_split(X, y, test_size=0.30, random_state=100)"
   ]
  },
  {
   "cell_type": "code",
   "execution_count": 12,
   "metadata": {
    "scrolled": true
   },
   "outputs": [
    {
     "name": "stdout",
     "output_type": "stream",
     "text": [
      "F1-Score: 0.5808 | Kappa: 0.2197\n"
     ]
    }
   ],
   "source": [
    "from sklearn.metrics import make_scorer, accuracy_score, cohen_kappa_score, confusion_matrix, classification_report, f1_score\n",
    "from sklearn.linear_model import LogisticRegression\n",
    "\n",
    "clf_1 = LogisticRegression(solver='lbfgs')\n",
    "clf_1.fit(X_train, y_train)\n",
    "predslog_1 = clf_1.predict(X_test)\n",
    "probslog_1 = clf_1.predict_proba(X_test)[:,1]\n",
    "print('F1-Score:', round(f1_score(y_test, predslog_1),4), \"|\", \"Kappa:\", round(cohen_kappa_score(y_test, predslog_1),4))"
   ]
  },
  {
   "cell_type": "code",
   "execution_count": 13,
   "metadata": {},
   "outputs": [
    {
     "data": {
      "text/plain": [
       "<matplotlib.legend.Legend at 0x20f4e138f60>"
      ]
     },
     "execution_count": 13,
     "metadata": {},
     "output_type": "execute_result"
    },
    {
     "data": {
      "image/png": "[encoded data removed]",
      "text/plain": [
       "<Figure size 432x288 with 1 Axes>"
      ]
     },
     "metadata": {
      "needs_background": "light"
     },
     "output_type": "display_data"
    }
   ],
   "source": [
    "import matplotlib.pyplot as plt\n",
    "lr = clf_1.predict_proba(X_test)[:,1]\n",
    "plt.hist(lr, bins = 20, alpha = 0.3, label='results')\n",
    "plt.legend()"
   ]
  },
  {
   "cell_type": "markdown",
   "metadata": {},
   "source": [
    "Save model"
   ]
  },
  {
   "cell_type": "code",
   "execution_count": 14,
   "metadata": {},
   "outputs": [],
   "source": [
    "import pickle\n",
    "pickle.dump(clf_1, open('../models/model1.sav', 'wb'))"
   ]
  },
  {
   "cell_type": "markdown",
   "metadata": {},
   "source": [
    "### Logistic Regression for \"2\""
   ]
  },
  {
   "cell_type": "code",
   "execution_count": 15,
   "metadata": {},
   "outputs": [],
   "source": [
    "x_col = list(selec.columns[[((i[-2:] in ['_l', '_w', '_d', '_h','_a' ]) | (i in dummy1.columns) |  \n",
    "                             (i in dummy2.columns)) for i in list(selec.columns)]])\n",
    "X = selec[x_col]\n",
    "y = selec['2']"
   ]
  },
  {
   "cell_type": "code",
   "execution_count": 16,
   "metadata": {},
   "outputs": [],
   "source": [
    "X_train, X_test, y_train, y_test = train_test_split(X, y, test_size=0.30, random_state=100)"
   ]
  },
  {
   "cell_type": "code",
   "execution_count": 17,
   "metadata": {
    "scrolled": true
   },
   "outputs": [
    {
     "name": "stdout",
     "output_type": "stream",
     "text": [
      "F1-Score: 0.2204 | Kappa: 0.1262\n"
     ]
    }
   ],
   "source": [
    "from sklearn.metrics import make_scorer, accuracy_score, cohen_kappa_score, confusion_matrix, classification_report, f1_score\n",
    "from sklearn.linear_model import LogisticRegression\n",
    "\n",
    "clf_2 = LogisticRegression(solver='lbfgs', max_iter=1000)\n",
    "clf_2.fit(X_train, y_train)\n",
    "predslog_2 = clf_2.predict(X_test)\n",
    "probslog_2 = clf_2.predict_proba(X_test)[:,1]\n",
    "print('F1-Score:', round(f1_score(y_test, predslog_2),4), \"|\", \"Kappa:\", round(cohen_kappa_score(y_test, predslog_2),4))"
   ]
  },
  {
   "cell_type": "code",
   "execution_count": 18,
   "metadata": {},
   "outputs": [
    {
     "data": {
      "text/plain": [
       "<matplotlib.legend.Legend at 0x20f4fcbfb00>"
      ]
     },
     "execution_count": 18,
     "metadata": {},
     "output_type": "execute_result"
    },
    {
     "data": {
      "image/png": "[encoded data removed]",
      "text/plain": [
       "<Figure size 432x288 with 1 Axes>"
      ]
     },
     "metadata": {
      "needs_background": "light"
     },
     "output_type": "display_data"
    }
   ],
   "source": [
    "import matplotlib.pyplot as plt\n",
    "lr = clf_2.predict_proba(X_test)[:,1]\n",
    "plt.hist(lr, bins = 20, alpha = 0.3, label='results')\n",
    "plt.legend()"
   ]
  },
  {
   "cell_type": "markdown",
   "metadata": {},
   "source": [
    "Save model"
   ]
  },
  {
   "cell_type": "code",
   "execution_count": 19,
   "metadata": {},
   "outputs": [],
   "source": [
    "import pickle\n",
    "pickle.dump(clf_2, open('../models/model2.sav', 'wb'))"
   ]
  },
  {
   "cell_type": "markdown",
   "metadata": {},
   "source": [
    "### Logistic Regression for \"X\""
   ]
  },
  {
   "cell_type": "code",
   "execution_count": 20,
   "metadata": {},
   "outputs": [],
   "source": [
    "x_col = list(selec.columns[[((i[-2:] in ['_l', '_w', '_d', '_h','_a' ]) | (i in dummy1.columns) |  \n",
    "                             (i in dummy2.columns)) for i in list(selec.columns)]])\n",
    "X = selec[x_col]\n",
    "y = selec['X']"
   ]
  },
  {
   "cell_type": "code",
   "execution_count": 21,
   "metadata": {},
   "outputs": [],
   "source": [
    "X_train, X_test, y_train, y_test = train_test_split(X, y, test_size=0.30, random_state=100)"
   ]
  },
  {
   "cell_type": "code",
   "execution_count": 22,
   "metadata": {
    "scrolled": true
   },
   "outputs": [
    {
     "name": "stdout",
     "output_type": "stream",
     "text": [
      "F1-Score: 0.0 | Kappa: -0.0034\n"
     ]
    }
   ],
   "source": [
    "from sklearn.metrics import make_scorer, accuracy_score, cohen_kappa_score, confusion_matrix, classification_report, f1_score\n",
    "from sklearn.linear_model import LogisticRegression\n",
    "\n",
    "clf_x = LogisticRegression(solver='lbfgs', max_iter=1000)\n",
    "clf_x.fit(X_train, y_train)\n",
    "predslog_X = clf_x.predict(X_test)\n",
    "probslog_X = clf_x.predict_proba(X_test)[:,1]\n",
    "print('F1-Score:', round(f1_score(y_test, predslog_X),4), \"|\", \"Kappa:\", round(cohen_kappa_score(y_test, predslog_X),4))"
   ]
  },
  {
   "cell_type": "code",
   "execution_count": 23,
   "metadata": {},
   "outputs": [
    {
     "data": {
      "text/plain": [
       "<matplotlib.legend.Legend at 0x20f4e1c2668>"
      ]
     },
     "execution_count": 23,
     "metadata": {},
     "output_type": "execute_result"
    },
    {
     "data": {
      "image/png": "[encoded data removed]",
      "text/plain": [
       "<Figure size 432x288 with 1 Axes>"
      ]
     },
     "metadata": {
      "needs_background": "light"
     },
     "output_type": "display_data"
    }
   ],
   "source": [
    "import matplotlib.pyplot as plt\n",
    "lr = clf_x.predict_proba(X_test)[:,1]\n",
    "plt.hist(lr, bins = 20, alpha = 0.3, label='results')\n",
    "plt.legend()"
   ]
  },
  {
   "cell_type": "markdown",
   "metadata": {},
   "source": [
    "Save model"
   ]
  },
  {
   "cell_type": "code",
   "execution_count": 24,
   "metadata": {},
   "outputs": [],
   "source": [
    "import pickle\n",
    "pickle.dump(clf_x, open('../models/modelx.sav', 'wb'))"
   ]
  },
  {
   "cell_type": "code",
   "execution_count": 25,
   "metadata": {},
   "outputs": [],
   "source": [
    "pickle.dump(X_train.columns, open('../models/training.sav', 'wb'))"
   ]
  },
  {
   "cell_type": "markdown",
   "metadata": {},
   "source": [
    "### Paste Probabilities for 1X2 in new DF"
   ]
  },
  {
   "cell_type": "code",
   "execution_count": 26,
   "metadata": {},
   "outputs": [],
   "source": [
    "import pandas as pd \n",
    "import numpy as np\n",
    "zip_probs = list(zip(probslog_1, probslog_X, probslog_2)) \n",
    "probs_1X2 = pd.DataFrame(zip_probs, columns = ['predslog_1', 'predslog_X', 'predslog_2']) "
   ]
  },
  {
   "cell_type": "code",
   "execution_count": 27,
   "metadata": {},
   "outputs": [],
   "source": [
    "probs_1X2['1'] = probs_1X2.apply(lambda x: x[0]/(x[0]+x[1]+x[2]), axis=1)\n",
    "probs_1X2['X'] = probs_1X2.apply(lambda x: x[1]/(x[0]+x[1]+x[2]), axis=1)\n",
    "probs_1X2['2'] = probs_1X2.apply(lambda x: x[2]/(x[0]+x[1]+x[2]), axis=1)\n",
    "probs_1X2.drop([\"predslog_1\", \"predslog_X\", \"predslog_2\"], axis=1, inplace=True)"
   ]
  },
  {
   "cell_type": "code",
   "execution_count": 41,
   "metadata": {},
   "outputs": [
    {
     "data": {
      "text/html": [
       "<div>\n",
       "<style scoped>\n",
       "    .dataframe tbody tr th:only-of-type {\n",
       "        vertical-align: middle;\n",
       "    }\n",
       "\n",
       "    .dataframe tbody tr th {\n",
       "        vertical-align: top;\n",
       "    }\n",
       "\n",
       "    .dataframe thead th {\n",
       "        text-align: right;\n",
       "    }\n",
       "</style>\n",
       "<table border=\"1\" class=\"dataframe\">\n",
       "  <thead>\n",
       "    <tr style=\"text-align: right;\">\n",
       "      <th></th>\n",
       "      <th>1</th>\n",
       "      <th>X</th>\n",
       "      <th>2</th>\n",
       "    </tr>\n",
       "  </thead>\n",
       "  <tbody>\n",
       "    <tr>\n",
       "      <th>1760</th>\n",
       "      <td>0.513840</td>\n",
       "      <td>0.222325</td>\n",
       "      <td>0.263836</td>\n",
       "    </tr>\n",
       "    <tr>\n",
       "      <th>1761</th>\n",
       "      <td>0.472778</td>\n",
       "      <td>0.280332</td>\n",
       "      <td>0.246891</td>\n",
       "    </tr>\n",
       "    <tr>\n",
       "      <th>1762</th>\n",
       "      <td>0.760476</td>\n",
       "      <td>0.131222</td>\n",
       "      <td>0.108302</td>\n",
       "    </tr>\n",
       "    <tr>\n",
       "      <th>1763</th>\n",
       "      <td>0.506676</td>\n",
       "      <td>0.216007</td>\n",
       "      <td>0.277316</td>\n",
       "    </tr>\n",
       "    <tr>\n",
       "      <th>1764</th>\n",
       "      <td>0.186194</td>\n",
       "      <td>0.258021</td>\n",
       "      <td>0.555785</td>\n",
       "    </tr>\n",
       "    <tr>\n",
       "      <th>1765</th>\n",
       "      <td>0.403608</td>\n",
       "      <td>0.336703</td>\n",
       "      <td>0.259688</td>\n",
       "    </tr>\n",
       "    <tr>\n",
       "      <th>1766</th>\n",
       "      <td>0.579179</td>\n",
       "      <td>0.192570</td>\n",
       "      <td>0.228251</td>\n",
       "    </tr>\n",
       "    <tr>\n",
       "      <th>1767</th>\n",
       "      <td>0.186326</td>\n",
       "      <td>0.162577</td>\n",
       "      <td>0.651097</td>\n",
       "    </tr>\n",
       "    <tr>\n",
       "      <th>1768</th>\n",
       "      <td>0.338264</td>\n",
       "      <td>0.329775</td>\n",
       "      <td>0.331960</td>\n",
       "    </tr>\n",
       "    <tr>\n",
       "      <th>1769</th>\n",
       "      <td>0.485177</td>\n",
       "      <td>0.289327</td>\n",
       "      <td>0.225495</td>\n",
       "    </tr>\n",
       "  </tbody>\n",
       "</table>\n",
       "</div>"
      ],
      "text/plain": [
       "             1         X         2\n",
       "1760  0.513840  0.222325  0.263836\n",
       "1761  0.472778  0.280332  0.246891\n",
       "1762  0.760476  0.131222  0.108302\n",
       "1763  0.506676  0.216007  0.277316\n",
       "1764  0.186194  0.258021  0.555785\n",
       "1765  0.403608  0.336703  0.259688\n",
       "1766  0.579179  0.192570  0.228251\n",
       "1767  0.186326  0.162577  0.651097\n",
       "1768  0.338264  0.329775  0.331960\n",
       "1769  0.485177  0.289327  0.225495"
      ]
     },
     "execution_count": 41,
     "metadata": {},
     "output_type": "execute_result"
    }
   ],
   "source": [
    "probs_1X2.tail(10)"
   ]
  },
  {
   "cell_type": "markdown",
   "metadata": {},
   "source": [
    "### Probabilities for current Quiniela"
   ]
  },
  {
   "cell_type": "code",
   "execution_count": 29,
   "metadata": {},
   "outputs": [],
   "source": [
    "import pandas as pd\n",
    "\n",
    "xl = pd.ExcelFile('../bbdd/QUINIELA_2_FEATURES.xlsx')\n",
    "quiniela = xl.parse(xl.sheet_names[0])"
   ]
  },
  {
   "cell_type": "markdown",
   "metadata": {},
   "source": [
    "I create columns for each team since models include them."
   ]
  },
  {
   "cell_type": "code",
   "execution_count": 30,
   "metadata": {},
   "outputs": [],
   "source": [
    "dummy1 = pd.get_dummies(quiniela.LOCAL)\n",
    "dummy2 = pd.get_dummies(quiniela.VISITANTE)\n",
    "dummy2.columns = [i+\"_2\" for i in dummy2.columns]\n",
    "quiniela = pd.concat([quiniela, dummy1, dummy2], axis=1)"
   ]
  },
  {
   "cell_type": "markdown",
   "metadata": {},
   "source": [
    "Afterwards I detect and create columns with 0 values for teams not in Quiniela since they also will the in the model"
   ]
  },
  {
   "cell_type": "code",
   "execution_count": 31,
   "metadata": {},
   "outputs": [],
   "source": [
    "add_col = [i for i in list(selec.columns) if i not in list(quiniela.columns)]\n",
    "add_col = [i for i in add_col if i not in ['GOL L', 'GOL V', 'QUINIELA', 'ARBITRO', '1', 'X', '2']]"
   ]
  },
  {
   "cell_type": "code",
   "execution_count": 32,
   "metadata": {},
   "outputs": [],
   "source": [
    "for i in add_col:\n",
    "    quiniela[i] = 0"
   ]
  },
  {
   "cell_type": "markdown",
   "metadata": {},
   "source": [
    "Calculate probabilities from the models"
   ]
  },
  {
   "cell_type": "code",
   "execution_count": 33,
   "metadata": {},
   "outputs": [],
   "source": [
    "probslog_1 = clf_1.predict_proba(quiniela[X_train.columns])[:,1]\n",
    "probslog_X = clf_x.predict_proba(quiniela[X_train.columns])[:,1]\n",
    "probslog_2 = clf_2.predict_proba(quiniela[X_train.columns])[:,1]"
   ]
  },
  {
   "cell_type": "code",
   "execution_count": 46,
   "metadata": {},
   "outputs": [
    {
     "data": {
      "text/plain": [
       "{'C': 1.0,\n",
       " 'class_weight': None,\n",
       " 'dual': False,\n",
       " 'fit_intercept': True,\n",
       " 'intercept_scaling': 1,\n",
       " 'l1_ratio': None,\n",
       " 'max_iter': 100,\n",
       " 'multi_class': 'auto',\n",
       " 'n_jobs': None,\n",
       " 'penalty': 'l2',\n",
       " 'random_state': None,\n",
       " 'solver': 'lbfgs',\n",
       " 'tol': 0.0001,\n",
       " 'verbose': 0,\n",
       " 'warm_start': False}"
      ]
     },
     "execution_count": 46,
     "metadata": {},
     "output_type": "execute_result"
    }
   ],
   "source": [
    "clf_1."
   ]
  },
  {
   "cell_type": "code",
   "execution_count": 34,
   "metadata": {},
   "outputs": [],
   "source": [
    "extreme=1"
   ]
  },
  {
   "cell_type": "code",
   "execution_count": 36,
   "metadata": {},
   "outputs": [
    {
     "data": {
      "text/plain": [
       "array([0.16097943, 0.56752651, 0.09592299, 0.25049964, 0.27539509,\n",
       "       0.30130975, 0.26040111, 0.11193162, 0.27221099, 0.23358374,\n",
       "       0.1740856 , 0.21232729, 0.38434623, 0.1591058 , 0.60036833])"
      ]
     },
     "execution_count": 36,
     "metadata": {},
     "output_type": "execute_result"
    }
   ],
   "source": [
    "probslog_2"
   ]
  },
  {
   "cell_type": "code",
   "execution_count": 68,
   "metadata": {},
   "outputs": [],
   "source": [
    "import pandas as pd \n",
    "import numpy as np\n",
    "zip_probs = list(zip(probslog_1**extreme, probslog_X**extreme, probslog_2**extreme, quiniela.LOCAL, quiniela.VISITANTE)) \n",
    "probs_1X2 = pd.DataFrame(zip_probs, columns = ['predslog_1', 'predslog_X', 'predslog_2', 'LOCAL', 'VISITANTE']) "
   ]
  },
  {
   "cell_type": "markdown",
   "metadata": {},
   "source": [
    "Rescale to sum 1"
   ]
  },
  {
   "cell_type": "code",
   "execution_count": 69,
   "metadata": {},
   "outputs": [],
   "source": [
    "probs_1X2['1'] = probs_1X2.apply(lambda x: x[0]/(x[0]+x[1]+x[2]), axis=1)\n",
    "probs_1X2['X'] = probs_1X2.apply(lambda x: x[1]/(x[0]+x[1]+x[2]), axis=1)\n",
    "probs_1X2['2'] = probs_1X2.apply(lambda x: x[2]/(x[0]+x[1]+x[2]), axis=1)\n",
    "probs_1X2.drop([\"predslog_1\", \"predslog_X\", \"predslog_2\"], axis=1, inplace=True)"
   ]
  },
  {
   "cell_type": "code",
   "execution_count": 70,
   "metadata": {},
   "outputs": [
    {
     "name": "stdout",
     "output_type": "stream",
     "text": [
      "6.120851675821892\n",
      "3.6903476023400374\n",
      "3.1888007218380716\n"
     ]
    }
   ],
   "source": [
    "print(sum(probs_1X2['1'][0:13]))\n",
    "print(sum(probs_1X2['X'][0:13]))\n",
    "print(sum(probs_1X2['2'][0:13]))"
   ]
  },
  {
   "cell_type": "code",
   "execution_count": 72,
   "metadata": {
    "scrolled": true
   },
   "outputs": [
    {
     "name": "stdout",
     "output_type": "stream",
     "text": [
      "           1         X         2\n",
      "0   0.461652  0.148939  0.389410\n",
      "1   0.402096  0.412225  0.185679\n",
      "2   0.269233  0.397453  0.333315\n",
      "3   0.379726  0.301218  0.319056\n",
      "4   0.487163  0.175857  0.336980\n",
      "5   0.339838  0.399467  0.260696\n",
      "6   0.447437  0.188135  0.364427\n",
      "7   0.764903  0.134933  0.100164\n",
      "8   0.532238  0.258305  0.209456\n",
      "9   0.418441  0.444155  0.137404\n",
      "10  0.579742  0.335101  0.085157\n",
      "11  0.508958  0.276006  0.215036\n",
      "12  0.529426  0.218554  0.252021\n",
      "13  0.439021  0.317640  0.243339\n",
      "14  0.826436  0.092115  0.081449\n"
     ]
    }
   ],
   "source": [
    "print(probs_1X2[['1','X','2']])"
   ]
  },
  {
   "cell_type": "code",
   "execution_count": 117,
   "metadata": {},
   "outputs": [],
   "source": [
    "probs_1X2.to_excel(\"../bbdd/QUINIELA_3_PROBS.xlsx\", index=False)"
   ]
  },
  {
   "cell_type": "code",
   "execution_count": null,
   "metadata": {},
   "outputs": [],
   "source": []
  }
 ],
 "metadata": {
  "kernelspec": {
   "display_name": "Python 3",
   "language": "python",
   "name": "python3"
  },
  "language_info": {
   "codemirror_mode": {
    "name": "ipython",
    "version": 3
   },
   "file_extension": ".py",
   "mimetype": "text/x-python",
   "name": "python",
   "nbconvert_exporter": "python",
   "pygments_lexer": "ipython3",
   "version": "3.7.4"
  }
 },
 "nbformat": 4,
 "nbformat_minor": 2
}
