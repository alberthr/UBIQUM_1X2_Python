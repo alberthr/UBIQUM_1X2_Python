{
 "cells": [
  {
   "cell_type": "code",
   "execution_count": 1,
   "metadata": {},
   "outputs": [
    {
     "data": {
      "text/plain": [
       "'C:\\\\Users\\\\T420\\\\Desktop\\\\UBIQUM\\\\5 PROJECT\\\\Quiniela\\\\notebooks'"
      ]
     },
     "execution_count": 1,
     "metadata": {},
     "output_type": "execute_result"
    }
   ],
   "source": [
    "import os\n",
    "os.getcwd()"
   ]
  },
  {
   "cell_type": "code",
   "execution_count": 2,
   "metadata": {},
   "outputs": [
    {
     "name": "stdout",
     "output_type": "stream",
     "text": [
      "   TEMPORADA  LIGA  JORNADA      FECHA          LOCAL         VISITANTE  \\\n",
      "0       1999     1        1 1999-08-21       Mallorca       Real Madrid   \n",
      "1       1999     1        1 1999-08-21  Athletic Club        Real Betis   \n",
      "2       1999     2        1 1999-08-21        Leganes       Mérida C.P.   \n",
      "3       1999     1        1 1999-08-21       Valencia  Racing Santander   \n",
      "4       1999     2        1 1999-08-21    U.E. Lleida        Villarreal   \n",
      "\n",
      "   GOL L  GOL V          ARBITRO QUINIELA  \n",
      "0      1      2    LOSANTOS OMAR        2  \n",
      "1      1      0  MEJUTO GONZALEZ        1  \n",
      "2      1      1       NAVAS LASA        X  \n",
      "3      1      2    PRADOS GARCIA        2  \n",
      "4      2      2    RUBIO INIESTA        X  \n"
     ]
    },
    {
     "data": {
      "text/plain": [
       "(16840, 10)"
      ]
     },
     "execution_count": 2,
     "metadata": {},
     "output_type": "execute_result"
    }
   ],
   "source": [
    "import pandas as pd\n",
    "\n",
    "xl = pd.ExcelFile('../bbdd/FULL_BBDD_CLEAN.xlsx')\n",
    "df = xl.parse(xl.sheet_names[0])\n",
    "print(df.head())\n",
    "df.shape"
   ]
  },
  {
   "cell_type": "code",
   "execution_count": 11,
   "metadata": {},
   "outputs": [],
   "source": [
    "# ROW INFORMATION\n",
    "row = df.shape[0]-1\n",
    "season = df['TEMPORADA'][row]\n",
    "home_team = df['LOCAL'][row]\n",
    "away_team = df['VISITANTE'][row]\n",
    "league = df['LIGA'][row]\n",
    "league_day = df['JORNADA'][row]\n",
    "referee = df['ARBITRO'][row]\n",
    "date = df['FECHA'][row]"
   ]
  },
  {
   "cell_type": "code",
   "execution_count": 52,
   "metadata": {},
   "outputs": [
    {
     "name": "stdout",
     "output_type": "stream",
     "text": [
      "(0.0, 1.0, 0.0)\n",
      "(0.5, 0.5, 0.0)\n",
      "(0.2, 0.6, 0.20000000000000007)\n",
      "(0.6, 0.4, 0.0)\n",
      "(0.3, 0.4, 0.29999999999999993)\n",
      "(0.5, 0.3, 0.2)\n"
     ]
    }
   ],
   "source": [
    "# last n games of home or away team\n",
    "\n",
    "def last_games(league, team, league_day, season, ngames):\n",
    "    select = df[(df['LIGA']==league) & ((df['LOCAL']==team) | (df['VISITANTE']==team)) & \n",
    "            (df['JORNADA'] < league_day) & (df['TEMPORADA']==season)][:ngames]\n",
    "    games = select.shape[0]\n",
    "    WINS = (sum(select['QUINIELA'][select.LOCAL==team]=='1') + sum(select['QUINIELA'][select.VISITANTE==team]=='2'))/games\n",
    "    DRAW = sum(select['QUINIELA']=='X')/games\n",
    "    LOSE = (1 - WINS - DRAW)\n",
    "    return(WINS, DRAW, LOSE)\n",
    "\n",
    "print(last_games(league=league, team=home_team, league_day=league_day, season=season, ngames=2))\n",
    "print(last_games(league=league, team=away_team, league_day=league_day, season=season, ngames=2))\n",
    "print(last_games(league=league, team=home_team, league_day=league_day, season=season, ngames=5))\n",
    "print(last_games(league=league, team=away_team, league_day=league_day, season=season, ngames=5))\n",
    "print(last_games(league=league, team=home_team, league_day=league_day, season=season, ngames=10))\n",
    "print(last_games(league=league, team=away_team, league_day=league_day, season=season, ngames=10))"
   ]
  },
  {
   "cell_type": "code",
   "execution_count": 5,
   "metadata": {},
   "outputs": [
    {
     "name": "stdout",
     "output_type": "stream",
     "text": [
      "(0.5, 0.2, 0.3)\n"
     ]
    }
   ],
   "source": [
    "# total league. local as a local\n",
    "\n",
    "select = df[(df['LIGA']==league) & ((df['LOCAL']==home_team)) & \n",
    "            (df['JORNADA'] < league_day) & (df['TEMPORADA']==season)]  \n",
    "games = select.shape[0]\n",
    "H_WINS = (sum(select['QUINIELA'][select.LOCAL==home_team]=='1'))/games\n",
    "H_DRAW = sum(select['QUINIELA']=='X')/games\n",
    "H_LOSE = (1 - H_WINS - H_DRAW)\n",
    "print((H_WINS, H_DRAW, H_LOSE))"
   ]
  },
  {
   "cell_type": "code",
   "execution_count": 6,
   "metadata": {},
   "outputs": [
    {
     "name": "stdout",
     "output_type": "stream",
     "text": [
      "(0.15, 0.4, 0.44999999999999996)\n"
     ]
    }
   ],
   "source": [
    "# total league. visitor as a visitor\n",
    "\n",
    "select = df[(df['LIGA']==league) & ((df['VISITANTE']==away_team)) & \n",
    "            (df['JORNADA'] < league_day) & (df['TEMPORADA']==season)]\n",
    "games = select.shape[0]\n",
    "V_WINS = (sum(select['QUINIELA'][select.VISITANTE==away_team]=='2'))/games\n",
    "V_DRAW = sum(select['QUINIELA']=='X')/games\n",
    "V_LOSE = (1 - V_WINS - V_DRAW)\n",
    "print((V_WINS, V_DRAW, V_LOSE))"
   ]
  },
  {
   "cell_type": "code",
   "execution_count": 35,
   "metadata": {},
   "outputs": [
    {
     "name": "stdout",
     "output_type": "stream",
     "text": [
      "(0.4, 0.3, 0.3)\n"
     ]
    }
   ],
   "source": [
    "# h2h last 10 games total\n",
    "\n",
    "select = df[(df['FECHA'] < date) & (((df['LOCAL']==home_team) & (df['VISITANTE']==away_team)) |  \n",
    "            ((df['LOCAL']==away_team) & (df['VISITANTE']==home_team)))][:10]\n",
    "\n",
    "games = select.shape[0]\n",
    "HOME = (sum(select['QUINIELA'][select.LOCAL==home_team]=='1') + sum(select['QUINIELA'][select.VISITANTE==home_team]=='2'))/games\n",
    "DRAW = sum(select['QUINIELA']=='X')/games\n",
    "AWAY = (1 - HOME - DRAW)\n",
    "print((HOME, DRAW, AWAY))"
   ]
  },
  {
   "cell_type": "code",
   "execution_count": 37,
   "metadata": {},
   "outputs": [
    {
     "name": "stdout",
     "output_type": "stream",
     "text": [
      "(0.6, 0.0, 0.4)\n"
     ]
    }
   ],
   "source": [
    "# h2h last 5 games with same home and away\n",
    "\n",
    "select = df[(df['FECHA'] < date) & (df['LOCAL']==home_team) & (df['VISITANTE']==away_team)][:5]\n",
    "games = select.shape[0]\n",
    "HOME = sum(select['QUINIELA'][select.LOCAL==home_team]=='1')/games\n",
    "DRAW = sum(select['QUINIELA'][select.LOCAL==home_team]=='X')/games\n",
    "AWAY = (1 - HOME - DRAW)\n",
    "print((HOME, DRAW, AWAY))"
   ]
  },
  {
   "cell_type": "code",
   "execution_count": 46,
   "metadata": {},
   "outputs": [
    {
     "name": "stdout",
     "output_type": "stream",
     "text": [
      "(0.4, 0.0, 0.6)\n"
     ]
    }
   ],
   "source": [
    "# referee: historical results with home team\n",
    "\n",
    "select = df[(df['FECHA'] < date) & ((df['LOCAL']==home_team) | (df['VISITANTE']==home_team)) & (df['ARBITRO']==referee)]\n",
    "games = select.shape[0]\n",
    "WINS = (sum(select['QUINIELA'][select.LOCAL==home_team]=='1') + sum(select['QUINIELA'][select.VISITANTE==home_team]=='2'))/games\n",
    "DRAW = sum(select['QUINIELA']=='X')/games\n",
    "LOSE = (1 - WINS - DRAW)\n",
    "print((WINS, DRAW, LOSE))"
   ]
  },
  {
   "cell_type": "code",
   "execution_count": 43,
   "metadata": {},
   "outputs": [
    {
     "name": "stdout",
     "output_type": "stream",
     "text": [
      "(0.3333333333333333, 0.6666666666666666, 1.1102230246251565e-16)\n"
     ]
    }
   ],
   "source": [
    "# referee: historical results with away team\n",
    "\n",
    "select = df[(df['FECHA'] < date) & ((df['LOCAL']==away_team) | (df['VISITANTE']==away_team)) & (df['ARBITRO']==referee)]\n",
    "games = select.shape[0]\n",
    "WINS = (sum(select['QUINIELA'][select.LOCAL==away_team]=='1') + sum(select['QUINIELA'][select.VISITANTE==away_team]=='2'))/games\n",
    "DRAW = sum(select['QUINIELA']=='X')/games\n",
    "LOSE = (1 - WINS - DRAW)\n",
    "print((WINS, DRAW, LOSE))"
   ]
  },
  {
   "cell_type": "code",
   "execution_count": 49,
   "metadata": {},
   "outputs": [
    {
     "name": "stdout",
     "output_type": "stream",
     "text": [
      "(1.0, 0.0, 0.0)\n"
     ]
    }
   ],
   "source": [
    "# referee: historical results with home team at home\n",
    "\n",
    "select = df[(df['FECHA'] < date) & (df['LOCAL']==home_team) & (df['ARBITRO']==referee)]\n",
    "games = select.shape[0]\n",
    "WINS = (sum(select['QUINIELA'][select.LOCAL==home_team]=='1') + sum(select['QUINIELA'][select.VISITANTE==home_team]=='2'))/games\n",
    "DRAW = sum(select['QUINIELA']=='X')/games\n",
    "LOSE = (1 - WINS - DRAW)\n",
    "print((WINS, DRAW, LOSE))"
   ]
  },
  {
   "cell_type": "code",
   "execution_count": 51,
   "metadata": {},
   "outputs": [
    {
     "name": "stdout",
     "output_type": "stream",
     "text": [
      "(0.0, 1.0, 0.0)\n"
     ]
    }
   ],
   "source": [
    "# referee: historical results with away team playing away\n",
    "\n",
    "select = df[(df['FECHA'] < date) & (df['VISITANTE']==away_team) & (df['ARBITRO']==referee)]\n",
    "games = select.shape[0]\n",
    "WINS = (sum(select['QUINIELA'][select.LOCAL==away_team]=='1') + sum(select['QUINIELA'][select.VISITANTE==away_team]=='2'))/games\n",
    "DRAW = sum(select['QUINIELA']=='X')/games\n",
    "LOSE = (1 - WINS - DRAW)\n",
    "print((WINS, DRAW, LOSE))"
   ]
  },
  {
   "cell_type": "code",
   "execution_count": null,
   "metadata": {},
   "outputs": [],
   "source": []
  }
 ],
 "metadata": {
  "kernelspec": {
   "display_name": "Python 3",
   "language": "python",
   "name": "python3"
  },
  "language_info": {
   "codemirror_mode": {
    "name": "ipython",
    "version": 3
   },
   "file_extension": ".py",
   "mimetype": "text/x-python",
   "name": "python",
   "nbconvert_exporter": "python",
   "pygments_lexer": "ipython3",
   "version": "3.7.4"
  }
 },
 "nbformat": 4,
 "nbformat_minor": 2
}
