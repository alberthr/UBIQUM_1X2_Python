{
 "cells": [
  {
   "cell_type": "markdown",
   "metadata": {},
   "source": [
    "### ADD FEATURES TO QUINIELA"
   ]
  },
  {
   "cell_type": "code",
   "execution_count": null,
   "metadata": {},
   "outputs": [],
   "source": [
    "import os\n",
    "os.getcwd()"
   ]
  },
  {
   "cell_type": "code",
   "execution_count": null,
   "metadata": {},
   "outputs": [],
   "source": [
    "import pandas as pd\n",
    "\n",
    "xl = pd.ExcelFile('../bbdd/FULL_BBDD_only_results.xlsx')\n",
    "df = xl.parse(xl.sheet_names[0])"
   ]
  },
  {
   "cell_type": "markdown",
   "metadata": {},
   "source": [
    "### Check names with dictionary"
   ]
  },
  {
   "cell_type": "code",
   "execution_count": 6,
   "metadata": {},
   "outputs": [],
   "source": [
    "import json\n",
    "\n",
    "with open('../bbdd/teams_dict.json') as json_file:\n",
    "    teams_dict = json.load(json_file)\n",
    "    \n",
    "with open('../bbdd/referees_dict.json') as json_file:\n",
    "    referees_dict = json.load(json_file)"
   ]
  },
  {
   "cell_type": "code",
   "execution_count": 7,
   "metadata": {},
   "outputs": [],
   "source": [
    "df = quiniela_df.copy()"
   ]
  },
  {
   "cell_type": "code",
   "execution_count": 8,
   "metadata": {},
   "outputs": [],
   "source": [
    "df['LOCAL'] = [teams_dict[i] for i in df['LOCAL']]\n",
    "df['VISITANTE'] = [teams_dict[i] for i in df['VISITANTE']]"
   ]
  },
  {
   "cell_type": "markdown",
   "metadata": {},
   "source": [
    "Next piece of code is meant to use only if new team names are found"
   ]
  },
  {
   "cell_type": "code",
   "execution_count": 9,
   "metadata": {},
   "outputs": [],
   "source": [
    "#teams_dict.update({'Mirandés':'Mirandes'})"
   ]
  },
  {
   "cell_type": "code",
   "execution_count": 10,
   "metadata": {},
   "outputs": [],
   "source": [
    "#teams_dict['Betis']"
   ]
  },
  {
   "cell_type": "code",
   "execution_count": 11,
   "metadata": {},
   "outputs": [],
   "source": [
    "#with open('../bbdd/teams_dict.json', 'w') as outfile:\n",
    "#    json.dump(teams_dict, outfile)"
   ]
  },
  {
   "cell_type": "markdown",
   "metadata": {},
   "source": [
    "Check next Quiniela"
   ]
  },
  {
   "cell_type": "code",
   "execution_count": 12,
   "metadata": {},
   "outputs": [
    {
     "data": {
      "text/html": [
       "<div>\n",
       "<style scoped>\n",
       "    .dataframe tbody tr th:only-of-type {\n",
       "        vertical-align: middle;\n",
       "    }\n",
       "\n",
       "    .dataframe tbody tr th {\n",
       "        vertical-align: top;\n",
       "    }\n",
       "\n",
       "    .dataframe thead th {\n",
       "        text-align: right;\n",
       "    }\n",
       "</style>\n",
       "<table border=\"1\" class=\"dataframe\">\n",
       "  <thead>\n",
       "    <tr style=\"text-align: right;\">\n",
       "      <th></th>\n",
       "      <th>LOCAL</th>\n",
       "      <th>VISITANTE</th>\n",
       "    </tr>\n",
       "  </thead>\n",
       "  <tbody>\n",
       "    <tr>\n",
       "      <th>0</th>\n",
       "      <td>Mallorca</td>\n",
       "      <td>Sevilla</td>\n",
       "    </tr>\n",
       "    <tr>\n",
       "      <th>1</th>\n",
       "      <td>Villarreal</td>\n",
       "      <td>Getafe</td>\n",
       "    </tr>\n",
       "    <tr>\n",
       "      <th>2</th>\n",
       "      <td>Valladolid</td>\n",
       "      <td>Valencia</td>\n",
       "    </tr>\n",
       "  </tbody>\n",
       "</table>\n",
       "</div>"
      ],
      "text/plain": [
       "        LOCAL VISITANTE\n",
       "0    Mallorca   Sevilla\n",
       "1  Villarreal    Getafe\n",
       "2  Valladolid  Valencia"
      ]
     },
     "execution_count": 12,
     "metadata": {},
     "output_type": "execute_result"
    }
   ],
   "source": [
    "df.head(3)"
   ]
  },
  {
   "cell_type": "markdown",
   "metadata": {},
   "source": [
    "### Function to add features to current Quiniela"
   ]
  },
  {
   "cell_type": "code",
   "execution_count": 13,
   "metadata": {},
   "outputs": [],
   "source": [
    "# last n games of home or away team\n",
    "\n",
    "def last_games(df, league, team, date, season, ngames):\n",
    "    select = df[(df['LIGA']==league) & ((df['LOCAL']==team) | (df['VISITANTE']==team)) & \n",
    "            (df['FECHA'] < date) & (df['TEMPORADA']==season)][:ngames]\n",
    "    games = select.shape[0] + 1/2\n",
    "    WINS = (sum(select['QUINIELA'][select.LOCAL==team]=='1') + sum(select['QUINIELA'][select.VISITANTE==team]=='2') + 1/6)/games\n",
    "    DRAW = (sum(select['QUINIELA']=='X') + 1/6)/games\n",
    "    LOSE = (1 - WINS - DRAW)\n",
    "    return(WINS, DRAW, LOSE)"
   ]
  },
  {
   "cell_type": "code",
   "execution_count": 14,
   "metadata": {},
   "outputs": [],
   "source": [
    "# total league. local as a local\n",
    "\n",
    "def league_local_local(df, league, home_team, date, season):\n",
    "    select = df[(df['LIGA']==league) & ((df['LOCAL']==home_team)) & \n",
    "            (df['FECHA'] < date) & (df['TEMPORADA']==season)]\n",
    "    games = select.shape[0] + 1/2\n",
    "    H_WINS = (sum(select['QUINIELA'][select.LOCAL==home_team]=='1') + 1/6)/games\n",
    "    H_DRAW = (sum(select['QUINIELA']=='X') + 1/6)/games\n",
    "    H_LOSE = (1 - H_WINS - H_DRAW)\n",
    "    return(H_WINS, H_DRAW, H_LOSE)"
   ]
  },
  {
   "cell_type": "code",
   "execution_count": 15,
   "metadata": {},
   "outputs": [],
   "source": [
    "# total league. local as a local\n",
    "\n",
    "def league_local_local(df, league, home_team, date, season):\n",
    "    select = df[(df['LIGA']==league) & ((df['LOCAL']==home_team)) & \n",
    "            (df['FECHA'] < date) & (df['TEMPORADA']==season)]\n",
    "    games = select.shape[0] + 1/2\n",
    "    H_WINS = (sum(select['QUINIELA'][select.LOCAL==home_team]=='1') + 1/6)/games\n",
    "    H_DRAW = (sum(select['QUINIELA']=='X') + 1/6)/games\n",
    "    H_LOSE = (1 - H_WINS - H_DRAW)\n",
    "    return(H_WINS, H_DRAW, H_LOSE)"
   ]
  },
  {
   "cell_type": "code",
   "execution_count": 16,
   "metadata": {},
   "outputs": [],
   "source": [
    "# total league. visitor as a visitor\n",
    "\n",
    "def league_visitor_visitor(df, league, away_team, date, season):\n",
    "    select = df[(df['LIGA']==league) & ((df['VISITANTE']==away_team)) & \n",
    "            (df['FECHA'] < date) & (df['TEMPORADA']==season)]\n",
    "    games = select.shape[0] + 1/2\n",
    "    V_WINS = (sum(select['QUINIELA'][select.VISITANTE==away_team]=='2') + 1/6)/games\n",
    "    V_DRAW = (sum(select['QUINIELA']=='X') + 1/6)/games\n",
    "    V_LOSE = (1 - V_WINS - V_DRAW)\n",
    "    return(V_WINS, V_DRAW, V_LOSE)"
   ]
  },
  {
   "cell_type": "code",
   "execution_count": 17,
   "metadata": {},
   "outputs": [],
   "source": [
    "# h2h last 10 games total\n",
    "\n",
    "def h2h_10_hda(df, date, home_team, away_team):\n",
    "    select = df[(df['FECHA'] < date) & (((df['LOCAL']==home_team) & (df['VISITANTE']==away_team)) |  \n",
    "            ((df['LOCAL']==away_team) & (df['VISITANTE']==home_team)))][:10]\n",
    "    games = select.shape[0] + 1/2\n",
    "    HOME = (sum(select['QUINIELA'][select.LOCAL==home_team]=='1') + \n",
    "            sum(select['QUINIELA'][select.VISITANTE==home_team]=='2') + 1/6)/games\n",
    "    DRAW = (sum(select['QUINIELA']=='X') + 1/6)/games\n",
    "    AWAY = (1 - HOME - DRAW)\n",
    "    return(HOME, DRAW, AWAY)"
   ]
  },
  {
   "cell_type": "code",
   "execution_count": 18,
   "metadata": {},
   "outputs": [],
   "source": [
    "# h2h last 5 games with same home and away\n",
    "\n",
    "def h2h_5_homeaway(df, date, home_team, away_team):\n",
    "    select = df[(df['FECHA'] < date) & (df['LOCAL']==home_team) & (df['VISITANTE']==away_team)][:5]\n",
    "    games = select.shape[0] + 1/2\n",
    "    HOME = (sum(select['QUINIELA'][select.LOCAL==home_team]=='1') + 1/6)/games\n",
    "    DRAW = (sum(select['QUINIELA'][select.LOCAL==home_team]=='X') + 1/6)/games\n",
    "    AWAY = (1 - HOME - DRAW)\n",
    "    return(HOME, DRAW, AWAY)"
   ]
  },
  {
   "cell_type": "markdown",
   "metadata": {},
   "source": [
    "### Add features to Quiniela"
   ]
  },
  {
   "cell_type": "code",
   "execution_count": 19,
   "metadata": {},
   "outputs": [],
   "source": [
    "import pandas as pd\n",
    "\n",
    "xl = pd.ExcelFile('../bbdd/FULL_BBDD_only_results.xlsx')\n",
    "historic = xl.parse(xl.sheet_names[0])"
   ]
  },
  {
   "cell_type": "code",
   "execution_count": 20,
   "metadata": {},
   "outputs": [],
   "source": [
    "select_1 = list(historic[(historic['TEMPORADA']==2019) & (historic['LIGA']==1)].LOCAL.unique())\n",
    "select_2 = list(historic[(historic['TEMPORADA']==2019) & (historic['LIGA']==2)].LOCAL.unique())\n",
    "teams_1 = { i : 1 for i in select_1 }\n",
    "teams_2 = { i : 2 for i in select_2 }\n",
    "teams_league_dict = {**teams_1, **teams_2}"
   ]
  },
  {
   "cell_type": "code",
   "execution_count": 21,
   "metadata": {},
   "outputs": [
    {
     "data": {
      "text/html": [
       "<div>\n",
       "<style scoped>\n",
       "    .dataframe tbody tr th:only-of-type {\n",
       "        vertical-align: middle;\n",
       "    }\n",
       "\n",
       "    .dataframe tbody tr th {\n",
       "        vertical-align: top;\n",
       "    }\n",
       "\n",
       "    .dataframe thead th {\n",
       "        text-align: right;\n",
       "    }\n",
       "</style>\n",
       "<table border=\"1\" class=\"dataframe\">\n",
       "  <thead>\n",
       "    <tr style=\"text-align: right;\">\n",
       "      <th></th>\n",
       "      <th>TEMPORADA</th>\n",
       "      <th>LIGA</th>\n",
       "      <th>JORNADA</th>\n",
       "      <th>FECHA</th>\n",
       "      <th>LOCAL</th>\n",
       "      <th>VISITANTE</th>\n",
       "    </tr>\n",
       "  </thead>\n",
       "  <tbody>\n",
       "    <tr>\n",
       "      <th>0</th>\n",
       "      <td>2019</td>\n",
       "      <td>1</td>\n",
       "      <td>X</td>\n",
       "      <td>2019-12-22</td>\n",
       "      <td>Mallorca</td>\n",
       "      <td>Sevilla</td>\n",
       "    </tr>\n",
       "    <tr>\n",
       "      <th>1</th>\n",
       "      <td>2019</td>\n",
       "      <td>1</td>\n",
       "      <td>X</td>\n",
       "      <td>2019-12-22</td>\n",
       "      <td>Villarreal</td>\n",
       "      <td>Getafe</td>\n",
       "    </tr>\n",
       "  </tbody>\n",
       "</table>\n",
       "</div>"
      ],
      "text/plain": [
       "   TEMPORADA  LIGA JORNADA       FECHA       LOCAL VISITANTE\n",
       "0       2019     1       X  2019-12-22    Mallorca   Sevilla\n",
       "1       2019     1       X  2019-12-22  Villarreal    Getafe"
      ]
     },
     "execution_count": 21,
     "metadata": {},
     "output_type": "execute_result"
    }
   ],
   "source": [
    "from datetime import datetime\n",
    "\n",
    "df['LIGA'] = [teams_league_dict[i] for i in df['LOCAL']]\n",
    "df['TEMPORADA'] = 2019\n",
    "df['JORNADA'] = 'X'\n",
    "df['FECHA'] = datetime.today().strftime('%Y-%m-%d')\n",
    "df = df[['TEMPORADA', 'LIGA', 'JORNADA', 'FECHA', 'LOCAL', 'VISITANTE']]\n",
    "df.head(2)"
   ]
  },
  {
   "cell_type": "code",
   "execution_count": 22,
   "metadata": {},
   "outputs": [],
   "source": [
    "df['last2_hometeam_wdl'] = df.apply(lambda x: last_games(historic, x[1], x[4], x[3], x[0], 2), axis=1)\n",
    "df['last5_hometeam_wdl'] = df.apply(lambda x: last_games(historic, x[1], x[4], x[3], x[0], 5), axis=1)\n",
    "df['last10_hometeam_wdl'] = df.apply(lambda x: last_games(historic, x[1], x[4], x[3], x[0], 10), axis=1)"
   ]
  },
  {
   "cell_type": "code",
   "execution_count": 23,
   "metadata": {},
   "outputs": [],
   "source": [
    "df['last2_awayteam_wdl'] = df.apply(lambda x: last_games(historic, x[1], x[5], x[3], x[0], 2), axis=1)\n",
    "df['last5_awayteam_wdl'] = df.apply(lambda x: last_games(historic, x[1], x[5], x[3], x[0], 5), axis=1)\n",
    "df['last10_awayteam_wdl'] = df.apply(lambda x: last_games(historic, x[1], x[5], x[3], x[0], 10), axis=1)"
   ]
  },
  {
   "cell_type": "code",
   "execution_count": 24,
   "metadata": {},
   "outputs": [],
   "source": [
    "df['league_local_local_wdl'] = df.apply(lambda x: league_local_local(historic, x[1], x[4], x[3], x[0]), axis=1)\n",
    "df['league_visitor_visitor_wdl'] = df.apply(lambda x: league_visitor_visitor(historic, x[1], x[5], x[3], x[0]), axis=1)"
   ]
  },
  {
   "cell_type": "code",
   "execution_count": 25,
   "metadata": {},
   "outputs": [],
   "source": [
    "df['h2h_last_10_hda'] = df.apply(lambda x: h2h_10_hda(historic, x[3], x[4], x[5]), axis=1)\n",
    "df['h2h_5_homeaway_hda'] = df.apply(lambda x: h2h_5_homeaway(historic, x[3], x[4], x[5]), axis=1)"
   ]
  },
  {
   "cell_type": "markdown",
   "metadata": {},
   "source": [
    "### Split tuples and delete columns"
   ]
  },
  {
   "cell_type": "code",
   "execution_count": 26,
   "metadata": {},
   "outputs": [],
   "source": [
    "columns = list(df.columns[[x[-3:] in ['wdl','hda'] for x in df.columns]])"
   ]
  },
  {
   "cell_type": "code",
   "execution_count": 27,
   "metadata": {},
   "outputs": [],
   "source": [
    "for i in columns:\n",
    "    field_type = i[-3:]\n",
    "    name1 = i[:-3] + field_type[0]\n",
    "    name2 = i[:-3] + field_type[1]\n",
    "    name3 = i[:-3] + field_type[2]\n",
    "    \n",
    "    df[name1] = df[i].apply(lambda x: x[0])\n",
    "    df[name2] = df[i].apply(lambda x: x[1])\n",
    "    df[name3] = df[i].apply(lambda x: x[2])"
   ]
  },
  {
   "cell_type": "code",
   "execution_count": 28,
   "metadata": {},
   "outputs": [],
   "source": [
    "df.drop(columns, inplace=True, axis=1)"
   ]
  },
  {
   "cell_type": "code",
   "execution_count": 29,
   "metadata": {},
   "outputs": [
    {
     "data": {
      "text/plain": [
       "Index(['TEMPORADA', 'LIGA', 'JORNADA', 'FECHA', 'LOCAL', 'VISITANTE',\n",
       "       'last2_hometeam_w', 'last2_hometeam_d', 'last2_hometeam_l',\n",
       "       'last5_hometeam_w', 'last5_hometeam_d', 'last5_hometeam_l',\n",
       "       'last10_hometeam_w', 'last10_hometeam_d', 'last10_hometeam_l',\n",
       "       'last2_awayteam_w', 'last2_awayteam_d', 'last2_awayteam_l',\n",
       "       'last5_awayteam_w', 'last5_awayteam_d', 'last5_awayteam_l',\n",
       "       'last10_awayteam_w', 'last10_awayteam_d', 'last10_awayteam_l',\n",
       "       'league_local_local_w', 'league_local_local_d', 'league_local_local_l',\n",
       "       'league_visitor_visitor_w', 'league_visitor_visitor_d',\n",
       "       'league_visitor_visitor_l', 'h2h_last_10_h', 'h2h_last_10_d',\n",
       "       'h2h_last_10_a', 'h2h_5_homeaway_h', 'h2h_5_homeaway_d',\n",
       "       'h2h_5_homeaway_a'],\n",
       "      dtype='object')"
      ]
     },
     "execution_count": 29,
     "metadata": {},
     "output_type": "execute_result"
    }
   ],
   "source": [
    "df.columns"
   ]
  },
  {
   "cell_type": "code",
   "execution_count": 31,
   "metadata": {},
   "outputs": [],
   "source": [
    "df.to_excel('../bbdd/QUINIELA_2_FEATURES.xlsx', index=False)"
   ]
  },
  {
   "cell_type": "code",
   "execution_count": null,
   "metadata": {},
   "outputs": [],
   "source": []
  }
 ],
 "metadata": {
  "kernelspec": {
   "display_name": "Python 3",
   "language": "python",
   "name": "python3"
  },
  "language_info": {
   "codemirror_mode": {
    "name": "ipython",
    "version": 3
   },
   "file_extension": ".py",
   "mimetype": "text/x-python",
   "name": "python",
   "nbconvert_exporter": "python",
   "pygments_lexer": "ipython3",
   "version": "3.7.3"
  }
 },
 "nbformat": 4,
 "nbformat_minor": 2
}
