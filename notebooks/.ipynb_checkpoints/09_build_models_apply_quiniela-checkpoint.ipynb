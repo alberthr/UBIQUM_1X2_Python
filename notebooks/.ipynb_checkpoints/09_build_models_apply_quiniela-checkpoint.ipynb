{
 "cells": [
  {
   "cell_type": "code",
   "execution_count": 31,
   "metadata": {},
   "outputs": [
    {
     "data": {
      "text/plain": [
       "'C:\\\\Users\\\\Albert\\\\Desktop\\\\DATA SCIENCE\\\\UBIQUM\\\\UBIQUM_1X2_Python\\\\notebooks'"
      ]
     },
     "execution_count": 31,
     "metadata": {},
     "output_type": "execute_result"
    }
   ],
   "source": [
    "import os\n",
    "os.getcwd()"
   ]
  },
  {
   "cell_type": "code",
   "execution_count": 32,
   "metadata": {},
   "outputs": [],
   "source": [
    "import pandas as pd\n",
    "\n",
    "xl = pd.ExcelFile('../bbdd/FULL_BBDD_with_features.xlsx')\n",
    "df = xl.parse(xl.sheet_names[0])"
   ]
  },
  {
   "cell_type": "code",
   "execution_count": 33,
   "metadata": {},
   "outputs": [
    {
     "data": {
      "text/plain": [
       "Index(['TEMPORADA', 'LIGA', 'JORNADA', 'FECHA', 'LOCAL', 'VISITANTE', 'GOL L',\n",
       "       'GOL V', 'ARBITRO', 'QUINIELA', 'last2_hometeam_w', 'last2_hometeam_d',\n",
       "       'last2_hometeam_l', 'last5_hometeam_w', 'last5_hometeam_d',\n",
       "       'last5_hometeam_l', 'last10_hometeam_w', 'last10_hometeam_d',\n",
       "       'last10_hometeam_l', 'last2_awayteam_w', 'last2_awayteam_d',\n",
       "       'last2_awayteam_l', 'last5_awayteam_w', 'last5_awayteam_d',\n",
       "       'last5_awayteam_l', 'last10_awayteam_w', 'last10_awayteam_d',\n",
       "       'last10_awayteam_l', 'league_local_local_w', 'league_local_local_d',\n",
       "       'league_local_local_l', 'league_visitor_visitor_w',\n",
       "       'league_visitor_visitor_d', 'league_visitor_visitor_l', 'h2h_last_10_h',\n",
       "       'h2h_last_10_d', 'h2h_last_10_a', 'h2h_5_homeaway_h',\n",
       "       'h2h_5_homeaway_d', 'h2h_5_homeaway_a'],\n",
       "      dtype='object')"
      ]
     },
     "execution_count": 33,
     "metadata": {},
     "output_type": "execute_result"
    }
   ],
   "source": [
    "df.drop(df.columns[[i[0:4]=='ref_' for i in df.columns]], axis=1, inplace=True)\n",
    "df.columns"
   ]
  },
  {
   "cell_type": "markdown",
   "metadata": {},
   "source": [
    "### Preparing models (create train and test, scaling, filtering information)"
   ]
  },
  {
   "cell_type": "code",
   "execution_count": 34,
   "metadata": {},
   "outputs": [],
   "source": [
    "from sklearn.model_selection import train_test_split\n",
    "from sklearn.preprocessing import scale"
   ]
  },
  {
   "cell_type": "markdown",
   "metadata": {},
   "source": [
    "Select what part of the dataframe i want to model and create the final dataframe"
   ]
  },
  {
   "cell_type": "code",
   "execution_count": 35,
   "metadata": {},
   "outputs": [],
   "source": [
    "jornada_cut = 10\n",
    "league_selec = 1\n",
    "selec = df[(df['JORNADA']>=jornada_cut) & (df['LIGA'] == league_selec)]"
   ]
  },
  {
   "cell_type": "code",
   "execution_count": 36,
   "metadata": {},
   "outputs": [],
   "source": [
    "dummy1 = pd.get_dummies(selec.LOCAL)\n",
    "dummy2 = pd.get_dummies(selec.VISITANTE)\n",
    "quiniela = pd.get_dummies(selec.QUINIELA)\n",
    "dummy2.columns = [i+\"_2\" for i in dummy2.columns]\n",
    "selec = pd.concat([selec, dummy1, dummy2, quiniela], axis=1)"
   ]
  },
  {
   "cell_type": "markdown",
   "metadata": {},
   "source": [
    "### Logistic Regression for \"1\""
   ]
  },
  {
   "cell_type": "code",
   "execution_count": 7,
   "metadata": {},
   "outputs": [],
   "source": [
    "x_col = list(selec.columns[[((i[-2:] in ['_l', '_w', '_d', '_h','_a' ]) | (i in dummy1.columns) |  \n",
    "                             (i in dummy2.columns)) for i in list(selec.columns)]])\n",
    "X = selec[x_col]\n",
    "y = selec['1']"
   ]
  },
  {
   "cell_type": "code",
   "execution_count": 8,
   "metadata": {},
   "outputs": [],
   "source": [
    "X_train, X_test, y_train, y_test = train_test_split(X, y, test_size=0.30, random_state=100)"
   ]
  },
  {
   "cell_type": "code",
   "execution_count": 9,
   "metadata": {
    "scrolled": true
   },
   "outputs": [
    {
     "name": "stdout",
     "output_type": "stream",
     "text": [
      "F1-Score: 0.5716 | Kappa: 0.2003\n"
     ]
    }
   ],
   "source": [
    "from sklearn.metrics import make_scorer, accuracy_score, cohen_kappa_score, confusion_matrix, classification_report, f1_score\n",
    "from sklearn.linear_model import LogisticRegression\n",
    "\n",
    "clf_1 = LogisticRegression(solver='lbfgs')\n",
    "clf_1.fit(X_train, y_train)\n",
    "predslog_1 = clf_1.predict(X_test)\n",
    "probslog_1 = clf_1.predict_proba(X_test)[:,1]\n",
    "print('F1-Score:', round(f1_score(y_test, predslog_1),4), \"|\", \"Kappa:\", round(cohen_kappa_score(y_test, predslog_1),4))"
   ]
  },
  {
   "cell_type": "code",
   "execution_count": 10,
   "metadata": {},
   "outputs": [
    {
     "data": {
      "text/plain": [
       "<matplotlib.legend.Legend at 0x29ce1099c50>"
      ]
     },
     "execution_count": 10,
     "metadata": {},
     "output_type": "execute_result"
    }
   ],
   "source": [
    "import matplotlib.pyplot as plt\n",
    "lr = clf_1.predict_proba(X_test)[:,1]\n",
    "plt.hist(lr, bins = 20, alpha = 0.3, label='results')\n",
    "plt.legend()"
   ]
  },
  {
   "cell_type": "markdown",
   "metadata": {},
   "source": [
    "### Logistic Regression for \"2\""
   ]
  },
  {
   "cell_type": "code",
   "execution_count": 11,
   "metadata": {},
   "outputs": [],
   "source": [
    "x_col = list(selec.columns[[((i[-2:] in ['_l', '_w', '_d', '_h','_a' ]) | (i in dummy1.columns) |  \n",
    "                             (i in dummy2.columns)) for i in list(selec.columns)]])\n",
    "X = selec[x_col]\n",
    "y = selec['2']"
   ]
  },
  {
   "cell_type": "code",
   "execution_count": 12,
   "metadata": {},
   "outputs": [],
   "source": [
    "X_train, X_test, y_train, y_test = train_test_split(X, y, test_size=0.30, random_state=100)"
   ]
  },
  {
   "cell_type": "code",
   "execution_count": 13,
   "metadata": {
    "scrolled": true
   },
   "outputs": [
    {
     "name": "stdout",
     "output_type": "stream",
     "text": [
      "F1-Score: 0.2644 | Kappa: 0.1502\n"
     ]
    }
   ],
   "source": [
    "from sklearn.metrics import make_scorer, accuracy_score, cohen_kappa_score, confusion_matrix, classification_report, f1_score\n",
    "from sklearn.linear_model import LogisticRegression\n",
    "\n",
    "clf_2 = LogisticRegression(solver='lbfgs', max_iter=1000)\n",
    "clf_2.fit(X_train, y_train)\n",
    "predslog_2 = clf_2.predict(X_test)\n",
    "probslog_2 = clf_2.predict_proba(X_test)[:,1]\n",
    "print('F1-Score:', round(f1_score(y_test, predslog_2),4), \"|\", \"Kappa:\", round(cohen_kappa_score(y_test, predslog_2),4))"
   ]
  },
  {
   "cell_type": "code",
   "execution_count": 14,
   "metadata": {},
   "outputs": [
    {
     "data": {
      "text/plain": [
       "<matplotlib.legend.Legend at 0x29ce2023518>"
      ]
     },
     "execution_count": 14,
     "metadata": {},
     "output_type": "execute_result"
    },
    {
     "data": {
      "image/png": "[encoded data removed]",
      "text/plain": [
       "<Figure size 432x288 with 1 Axes>"
      ]
     },
     "metadata": {
      "needs_background": "light"
     },
     "output_type": "display_data"
    }
   ],
   "source": [
    "import matplotlib.pyplot as plt\n",
    "lr = clf_2.predict_proba(X_test)[:,1]\n",
    "plt.hist(lr, bins = 20, alpha = 0.3, label='results')\n",
    "plt.legend()"
   ]
  },
  {
   "cell_type": "markdown",
   "metadata": {},
   "source": [
    "### Logistic Regression for \"X\""
   ]
  },
  {
   "cell_type": "code",
   "execution_count": 15,
   "metadata": {},
   "outputs": [],
   "source": [
    "x_col = list(selec.columns[[((i[-2:] in ['_l', '_w', '_d', '_h','_a' ]) | (i in dummy1.columns) |  \n",
    "                             (i in dummy2.columns)) for i in list(selec.columns)]])\n",
    "X = selec[x_col]\n",
    "y = selec['X']"
   ]
  },
  {
   "cell_type": "code",
   "execution_count": 16,
   "metadata": {},
   "outputs": [],
   "source": [
    "X_train, X_test, y_train, y_test = train_test_split(X, y, test_size=0.30, random_state=100)"
   ]
  },
  {
   "cell_type": "code",
   "execution_count": 17,
   "metadata": {
    "scrolled": true
   },
   "outputs": [
    {
     "name": "stdout",
     "output_type": "stream",
     "text": [
      "F1-Score: 0.0045 | Kappa: 0.0\n"
     ]
    }
   ],
   "source": [
    "from sklearn.metrics import make_scorer, accuracy_score, cohen_kappa_score, confusion_matrix, classification_report, f1_score\n",
    "from sklearn.linear_model import LogisticRegression\n",
    "\n",
    "clf_x = LogisticRegression(solver='lbfgs', max_iter=1000)\n",
    "clf_x.fit(X_train, y_train)\n",
    "predslog_X = clf_x.predict(X_test)\n",
    "probslog_X = clf_x.predict_proba(X_test)[:,1]\n",
    "print('F1-Score:', round(f1_score(y_test, predslog_X),4), \"|\", \"Kappa:\", round(cohen_kappa_score(y_test, predslog_X),4))"
   ]
  },
  {
   "cell_type": "code",
   "execution_count": 18,
   "metadata": {},
   "outputs": [
    {
     "data": {
      "text/plain": [
       "<matplotlib.legend.Legend at 0x29ce1130a58>"
      ]
     },
     "execution_count": 18,
     "metadata": {},
     "output_type": "execute_result"
    },
    {
     "data": {
      "image/png": "[encoded data removed]",
      "text/plain": [
       "<Figure size 432x288 with 1 Axes>"
      ]
     },
     "metadata": {
      "needs_background": "light"
     },
     "output_type": "display_data"
    }
   ],
   "source": [
    "import matplotlib.pyplot as plt\n",
    "lr = clf_x.predict_proba(X_test)[:,1]\n",
    "plt.hist(lr, bins = 20, alpha = 0.3, label='results')\n",
    "plt.legend()"
   ]
  },
  {
   "cell_type": "markdown",
   "metadata": {},
   "source": [
    "### Paste Probabilities for 1X2 in new DF"
   ]
  },
  {
   "cell_type": "code",
   "execution_count": 19,
   "metadata": {},
   "outputs": [],
   "source": [
    "import pandas as pd \n",
    "import numpy as np\n",
    "zip_probs = list(zip(probslog_1, probslog_X, probslog_2)) \n",
    "probs_1X2 = pd.DataFrame(zip_probs, columns = ['predslog_1', 'predslog_X', 'predslog_2']) "
   ]
  },
  {
   "cell_type": "code",
   "execution_count": 20,
   "metadata": {},
   "outputs": [],
   "source": [
    "probs_1X2['1'] = probs_1X2.apply(lambda x: x[0]/(x[0]+x[1]+x[2]), axis=1)\n",
    "probs_1X2['X'] = probs_1X2.apply(lambda x: x[1]/(x[0]+x[1]+x[2]), axis=1)\n",
    "probs_1X2['2'] = probs_1X2.apply(lambda x: x[2]/(x[0]+x[1]+x[2]), axis=1)\n",
    "probs_1X2.drop([\"predslog_1\", \"predslog_X\", \"predslog_2\"], axis=1, inplace=True)"
   ]
  },
  {
   "cell_type": "code",
   "execution_count": 21,
   "metadata": {},
   "outputs": [
    {
     "data": {
      "text/html": [
       "<div>\n",
       "<style scoped>\n",
       "    .dataframe tbody tr th:only-of-type {\n",
       "        vertical-align: middle;\n",
       "    }\n",
       "\n",
       "    .dataframe tbody tr th {\n",
       "        vertical-align: top;\n",
       "    }\n",
       "\n",
       "    .dataframe thead th {\n",
       "        text-align: right;\n",
       "    }\n",
       "</style>\n",
       "<table border=\"1\" class=\"dataframe\">\n",
       "  <thead>\n",
       "    <tr style=\"text-align: right;\">\n",
       "      <th></th>\n",
       "      <th>1</th>\n",
       "      <th>X</th>\n",
       "      <th>2</th>\n",
       "    </tr>\n",
       "  </thead>\n",
       "  <tbody>\n",
       "    <tr>\n",
       "      <th>0</th>\n",
       "      <td>0.669366</td>\n",
       "      <td>0.148110</td>\n",
       "      <td>0.182524</td>\n",
       "    </tr>\n",
       "    <tr>\n",
       "      <th>1</th>\n",
       "      <td>0.154612</td>\n",
       "      <td>0.181381</td>\n",
       "      <td>0.664007</td>\n",
       "    </tr>\n",
       "    <tr>\n",
       "      <th>2</th>\n",
       "      <td>0.385770</td>\n",
       "      <td>0.231821</td>\n",
       "      <td>0.382408</td>\n",
       "    </tr>\n",
       "    <tr>\n",
       "      <th>3</th>\n",
       "      <td>0.449970</td>\n",
       "      <td>0.209614</td>\n",
       "      <td>0.340416</td>\n",
       "    </tr>\n",
       "    <tr>\n",
       "      <th>4</th>\n",
       "      <td>0.482798</td>\n",
       "      <td>0.285578</td>\n",
       "      <td>0.231624</td>\n",
       "    </tr>\n",
       "  </tbody>\n",
       "</table>\n",
       "</div>"
      ],
      "text/plain": [
       "          1         X         2\n",
       "0  0.669366  0.148110  0.182524\n",
       "1  0.154612  0.181381  0.664007\n",
       "2  0.385770  0.231821  0.382408\n",
       "3  0.449970  0.209614  0.340416\n",
       "4  0.482798  0.285578  0.231624"
      ]
     },
     "execution_count": 21,
     "metadata": {},
     "output_type": "execute_result"
    }
   ],
   "source": [
    "probs_1X2.head()"
   ]
  },
  {
   "cell_type": "markdown",
   "metadata": {},
   "source": [
    "### Probabilities for current Quiniela"
   ]
  },
  {
   "cell_type": "code",
   "execution_count": 90,
   "metadata": {},
   "outputs": [],
   "source": [
    "import pandas as pd\n",
    "\n",
    "xl = pd.ExcelFile('../bbdd/QUINIELA_2_FEATURES.xlsx')\n",
    "quiniela = xl.parse(xl.sheet_names[0])"
   ]
  },
  {
   "cell_type": "markdown",
   "metadata": {},
   "source": [
    "I create columns for each team since models include them."
   ]
  },
  {
   "cell_type": "code",
   "execution_count": 91,
   "metadata": {},
   "outputs": [],
   "source": [
    "dummy1 = pd.get_dummies(quiniela.LOCAL)\n",
    "dummy2 = pd.get_dummies(quiniela.VISITANTE)\n",
    "dummy2.columns = [i+\"_2\" for i in dummy2.columns]\n",
    "quiniela = pd.concat([quiniela, dummy1, dummy2], axis=1)"
   ]
  },
  {
   "cell_type": "markdown",
   "metadata": {},
   "source": [
    "Afterwards I detect and create columns with 0 values for teams not in Quiniela since they also will the in the model"
   ]
  },
  {
   "cell_type": "code",
   "execution_count": 92,
   "metadata": {},
   "outputs": [],
   "source": [
    "add_col = [i for i in list(selec.columns) if i not in list(quiniela.columns)]\n",
    "add_col = [i for i in add_col if i not in ['GOL L', 'GOL V', 'QUINIELA', 'ARBITRO', '1', 'X', '2']]"
   ]
  },
  {
   "cell_type": "code",
   "execution_count": 93,
   "metadata": {},
   "outputs": [],
   "source": [
    "for i in add_col:\n",
    "    quiniela[i] = 0"
   ]
  },
  {
   "cell_type": "code",
   "execution_count": null,
   "metadata": {},
   "outputs": [],
   "source": []
  },
  {
   "cell_type": "markdown",
   "metadata": {},
   "source": [
    "Calculate probabilities from the models"
   ]
  },
  {
   "cell_type": "code",
   "execution_count": 104,
   "metadata": {},
   "outputs": [],
   "source": [
    "probslog_1 = clf_1.predict_proba(quiniela[X_train.columns])[:,1]\n",
    "probslog_X = clf_x.predict_proba(quiniela[X_train.columns])[:,1]\n",
    "probslog_2 = clf_2.predict_proba(quiniela[X_train.columns])[:,1]"
   ]
  },
  {
   "cell_type": "code",
   "execution_count": 113,
   "metadata": {},
   "outputs": [],
   "source": [
    "import pandas as pd \n",
    "import numpy as np\n",
    "zip_probs = list(zip(probslog_1, probslog_X, probslog_2, quiniela.LOCAL, quiniela.VISITANTE)) \n",
    "probs_1X2 = pd.DataFrame(zip_probs, columns = ['predslog_1', 'predslog_X', 'predslog_2', 'LOCAL', 'VISITANTE']) "
   ]
  },
  {
   "cell_type": "code",
   "execution_count": 114,
   "metadata": {},
   "outputs": [],
   "source": [
    "probs_1X2['1'] = probs_1X2.apply(lambda x: x[0]/(x[0]+x[1]+x[2]), axis=1)\n",
    "probs_1X2['X'] = probs_1X2.apply(lambda x: x[1]/(x[0]+x[1]+x[2]), axis=1)\n",
    "probs_1X2['2'] = probs_1X2.apply(lambda x: x[2]/(x[0]+x[1]+x[2]), axis=1)\n",
    "probs_1X2.drop([\"predslog_1\", \"predslog_X\", \"predslog_2\"], axis=1, inplace=True)"
   ]
  },
  {
   "cell_type": "code",
   "execution_count": 115,
   "metadata": {},
   "outputs": [
    {
     "data": {
      "text/html": [
       "<div>\n",
       "<style scoped>\n",
       "    .dataframe tbody tr th:only-of-type {\n",
       "        vertical-align: middle;\n",
       "    }\n",
       "\n",
       "    .dataframe tbody tr th {\n",
       "        vertical-align: top;\n",
       "    }\n",
       "\n",
       "    .dataframe thead th {\n",
       "        text-align: right;\n",
       "    }\n",
       "</style>\n",
       "<table border=\"1\" class=\"dataframe\">\n",
       "  <thead>\n",
       "    <tr style=\"text-align: right;\">\n",
       "      <th></th>\n",
       "      <th>LOCAL</th>\n",
       "      <th>VISITANTE</th>\n",
       "      <th>1</th>\n",
       "      <th>X</th>\n",
       "      <th>2</th>\n",
       "    </tr>\n",
       "  </thead>\n",
       "  <tbody>\n",
       "    <tr>\n",
       "      <th>0</th>\n",
       "      <td>Mallorca</td>\n",
       "      <td>Sevilla</td>\n",
       "      <td>0.482377</td>\n",
       "      <td>0.184735</td>\n",
       "      <td>0.332888</td>\n",
       "    </tr>\n",
       "    <tr>\n",
       "      <th>1</th>\n",
       "      <td>Villarreal</td>\n",
       "      <td>Getafe</td>\n",
       "      <td>0.361946</td>\n",
       "      <td>0.417657</td>\n",
       "      <td>0.220397</td>\n",
       "    </tr>\n",
       "    <tr>\n",
       "      <th>2</th>\n",
       "      <td>Valladolid</td>\n",
       "      <td>Valencia</td>\n",
       "      <td>0.290379</td>\n",
       "      <td>0.361375</td>\n",
       "      <td>0.348246</td>\n",
       "    </tr>\n",
       "    <tr>\n",
       "      <th>3</th>\n",
       "      <td>Leganes</td>\n",
       "      <td>Espanyol</td>\n",
       "      <td>0.433217</td>\n",
       "      <td>0.250160</td>\n",
       "      <td>0.316623</td>\n",
       "    </tr>\n",
       "    <tr>\n",
       "      <th>4</th>\n",
       "      <td>Osasuna</td>\n",
       "      <td>Real Sociedad</td>\n",
       "      <td>0.425270</td>\n",
       "      <td>0.238033</td>\n",
       "      <td>0.336697</td>\n",
       "    </tr>\n",
       "    <tr>\n",
       "      <th>5</th>\n",
       "      <td>Real Betis</td>\n",
       "      <td>Atletico Madrid</td>\n",
       "      <td>0.261792</td>\n",
       "      <td>0.392679</td>\n",
       "      <td>0.345529</td>\n",
       "    </tr>\n",
       "    <tr>\n",
       "      <th>6</th>\n",
       "      <td>Levante</td>\n",
       "      <td>Celta Vigo</td>\n",
       "      <td>0.406298</td>\n",
       "      <td>0.182663</td>\n",
       "      <td>0.411039</td>\n",
       "    </tr>\n",
       "    <tr>\n",
       "      <th>7</th>\n",
       "      <td>Real Madrid</td>\n",
       "      <td>Athletic Club</td>\n",
       "      <td>0.794396</td>\n",
       "      <td>0.115489</td>\n",
       "      <td>0.090115</td>\n",
       "    </tr>\n",
       "    <tr>\n",
       "      <th>8</th>\n",
       "      <td>Las Palmas</td>\n",
       "      <td>Rayo Vallecano</td>\n",
       "      <td>0.598836</td>\n",
       "      <td>0.192955</td>\n",
       "      <td>0.208209</td>\n",
       "    </tr>\n",
       "    <tr>\n",
       "      <th>9</th>\n",
       "      <td>Cadiz</td>\n",
       "      <td>Numancia</td>\n",
       "      <td>0.398754</td>\n",
       "      <td>0.455380</td>\n",
       "      <td>0.145866</td>\n",
       "    </tr>\n",
       "    <tr>\n",
       "      <th>10</th>\n",
       "      <td>Almeria</td>\n",
       "      <td>Ponferradina</td>\n",
       "      <td>0.558008</td>\n",
       "      <td>0.338753</td>\n",
       "      <td>0.103239</td>\n",
       "    </tr>\n",
       "    <tr>\n",
       "      <th>11</th>\n",
       "      <td>Huesca</td>\n",
       "      <td>Zaragoza</td>\n",
       "      <td>0.564537</td>\n",
       "      <td>0.169989</td>\n",
       "      <td>0.265474</td>\n",
       "    </tr>\n",
       "    <tr>\n",
       "      <th>12</th>\n",
       "      <td>Alcorcon</td>\n",
       "      <td>Fuenlabrada</td>\n",
       "      <td>0.568560</td>\n",
       "      <td>0.192685</td>\n",
       "      <td>0.238755</td>\n",
       "    </tr>\n",
       "    <tr>\n",
       "      <th>13</th>\n",
       "      <td>Girona</td>\n",
       "      <td>Mirandes</td>\n",
       "      <td>0.416401</td>\n",
       "      <td>0.259818</td>\n",
       "      <td>0.323781</td>\n",
       "    </tr>\n",
       "    <tr>\n",
       "      <th>14</th>\n",
       "      <td>Barcelona</td>\n",
       "      <td>Alaves</td>\n",
       "      <td>0.819119</td>\n",
       "      <td>0.115327</td>\n",
       "      <td>0.065554</td>\n",
       "    </tr>\n",
       "  </tbody>\n",
       "</table>\n",
       "</div>"
      ],
      "text/plain": [
       "          LOCAL        VISITANTE         1         X         2\n",
       "0      Mallorca          Sevilla  0.482377  0.184735  0.332888\n",
       "1    Villarreal           Getafe  0.361946  0.417657  0.220397\n",
       "2    Valladolid         Valencia  0.290379  0.361375  0.348246\n",
       "3       Leganes         Espanyol  0.433217  0.250160  0.316623\n",
       "4       Osasuna    Real Sociedad  0.425270  0.238033  0.336697\n",
       "5    Real Betis  Atletico Madrid  0.261792  0.392679  0.345529\n",
       "6       Levante       Celta Vigo  0.406298  0.182663  0.411039\n",
       "7   Real Madrid    Athletic Club  0.794396  0.115489  0.090115\n",
       "8    Las Palmas   Rayo Vallecano  0.598836  0.192955  0.208209\n",
       "9         Cadiz         Numancia  0.398754  0.455380  0.145866\n",
       "10      Almeria     Ponferradina  0.558008  0.338753  0.103239\n",
       "11       Huesca         Zaragoza  0.564537  0.169989  0.265474\n",
       "12     Alcorcon      Fuenlabrada  0.568560  0.192685  0.238755\n",
       "13       Girona         Mirandes  0.416401  0.259818  0.323781\n",
       "14    Barcelona           Alaves  0.819119  0.115327  0.065554"
      ]
     },
     "execution_count": 115,
     "metadata": {},
     "output_type": "execute_result"
    }
   ],
   "source": [
    "probs_1X2"
   ]
  },
  {
   "cell_type": "code",
   "execution_count": 120,
   "metadata": {},
   "outputs": [
    {
     "data": {
      "text/plain": [
       "0.2578466298634431"
      ]
     },
     "execution_count": 120,
     "metadata": {},
     "output_type": "execute_result"
    }
   ],
   "source": [
    "(probs_1X2['X']).mean()"
   ]
  },
  {
   "cell_type": "code",
   "execution_count": null,
   "metadata": {},
   "outputs": [],
   "source": []
  }
 ],
 "metadata": {
  "kernelspec": {
   "display_name": "Python 3",
   "language": "python",
   "name": "python3"
  },
  "language_info": {
   "codemirror_mode": {
    "name": "ipython",
    "version": 3
   },
   "file_extension": ".py",
   "mimetype": "text/x-python",
   "name": "python",
   "nbconvert_exporter": "python",
   "pygments_lexer": "ipython3",
   "version": "3.7.3"
  }
 },
 "nbformat": 4,
 "nbformat_minor": 2
}
