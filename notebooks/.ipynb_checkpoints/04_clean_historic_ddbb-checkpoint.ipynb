{
 "cells": [
  {
   "cell_type": "code",
   "execution_count": 1,
   "metadata": {},
   "outputs": [
    {
     "data": {
      "text/plain": [
       "'C:\\\\Users\\\\T420\\\\Desktop\\\\UBIQUM\\\\5 PROJECT\\\\Quiniela\\\\notebooks'"
      ]
     },
     "execution_count": 1,
     "metadata": {},
     "output_type": "execute_result"
    }
   ],
   "source": [
    "import os\n",
    "os.getcwd()"
   ]
  },
  {
   "cell_type": "code",
   "execution_count": 2,
   "metadata": {},
   "outputs": [
    {
     "name": "stdout",
     "output_type": "stream",
     "text": [
      "   TEMPORADA  LIGA      FECHA            LOCAL         VISITANTE  GOL L  \\\n",
      "0       1999     1 1999-08-21  R.C.D. Mallorca  Real Madrid C.F.      1   \n",
      "1       1999     1 1999-08-21    Athletic Club  Real Betis B. S.      1   \n",
      "2       1999     2 1999-08-21     C.D. Leganés       Mérida C.P.      1   \n",
      "3       1999     1 1999-08-21    Valencia C.F.  Real Racing Club      1   \n",
      "4       1999     2 1999-08-21      U.E. Lleida   Villarreal C.F.      2   \n",
      "\n",
      "   GOL V          ARBITRO  \n",
      "0      2    LOSANTOS OMAR  \n",
      "1      0  MEJUTO GONZALEZ  \n",
      "2      1       NAVAS LASA  \n",
      "3      2    PRADOS GARCIA  \n",
      "4      2    RUBIO INIESTA  \n"
     ]
    },
    {
     "data": {
      "text/plain": [
       "(16840, 8)"
      ]
     },
     "execution_count": 2,
     "metadata": {},
     "output_type": "execute_result"
    }
   ],
   "source": [
    "# read original database. json files / ditionaries will be used to change team names and referees so that\n",
    "# historical names and api information are the same\n",
    "\n",
    "import pandas as pd\n",
    "\n",
    "# Load spreadsheet\n",
    "xl = pd.ExcelFile('../bbdd/FULL_BBDD_ORIGINAL.xls')\n",
    "df = xl.parse(xl.sheet_names[0])\n",
    "print(df.head())\n",
    "df.shape"
   ]
  },
  {
   "cell_type": "code",
   "execution_count": 3,
   "metadata": {},
   "outputs": [],
   "source": [
    "import json\n",
    "\n",
    "with open('../bbdd/teams_dict.json') as json_file:\n",
    "    teams_dict = json.load(json_file)\n",
    "    \n",
    "with open('../bbdd/referees_dict.json') as json_file:\n",
    "    referees_dict = json.load(json_file)"
   ]
  },
  {
   "cell_type": "code",
   "execution_count": 4,
   "metadata": {},
   "outputs": [
    {
     "data": {
      "text/plain": [
       "Index(['TEMPORADA', 'LIGA', 'FECHA', 'LOCAL', 'VISITANTE', 'GOL L', 'GOL V',\n",
       "       'ARBITRO'],\n",
       "      dtype='object')"
      ]
     },
     "execution_count": 4,
     "metadata": {},
     "output_type": "execute_result"
    }
   ],
   "source": [
    "df.columns"
   ]
  },
  {
   "cell_type": "code",
   "execution_count": 5,
   "metadata": {},
   "outputs": [],
   "source": [
    "df_correct = df.copy()\n",
    "df_correct['LOCAL'] = [teams_dict[i] for i in df['LOCAL']]\n",
    "df_correct['VISITANTE'] = [teams_dict[i] for i in df['VISITANTE']]\n",
    "df_correct['ARBITRO'] = [referees_dict[i] for i in df['ARBITRO']]"
   ]
  },
  {
   "cell_type": "code",
   "execution_count": 6,
   "metadata": {},
   "outputs": [
    {
     "data": {
      "text/html": [
       "<div>\n",
       "<style scoped>\n",
       "    .dataframe tbody tr th:only-of-type {\n",
       "        vertical-align: middle;\n",
       "    }\n",
       "\n",
       "    .dataframe tbody tr th {\n",
       "        vertical-align: top;\n",
       "    }\n",
       "\n",
       "    .dataframe thead th {\n",
       "        text-align: right;\n",
       "    }\n",
       "</style>\n",
       "<table border=\"1\" class=\"dataframe\">\n",
       "  <thead>\n",
       "    <tr style=\"text-align: right;\">\n",
       "      <th></th>\n",
       "      <th>TEMPORADA</th>\n",
       "      <th>LIGA</th>\n",
       "      <th>FECHA</th>\n",
       "      <th>LOCAL</th>\n",
       "      <th>VISITANTE</th>\n",
       "      <th>GOL L</th>\n",
       "      <th>GOL V</th>\n",
       "      <th>ARBITRO</th>\n",
       "    </tr>\n",
       "  </thead>\n",
       "  <tbody>\n",
       "    <tr>\n",
       "      <td>0</td>\n",
       "      <td>1999</td>\n",
       "      <td>1</td>\n",
       "      <td>1999-08-21</td>\n",
       "      <td>Mallorca</td>\n",
       "      <td>Real Madrid</td>\n",
       "      <td>1</td>\n",
       "      <td>2</td>\n",
       "      <td>LOSANTOS OMAR</td>\n",
       "    </tr>\n",
       "    <tr>\n",
       "      <td>1</td>\n",
       "      <td>1999</td>\n",
       "      <td>1</td>\n",
       "      <td>1999-08-21</td>\n",
       "      <td>Athletic Club</td>\n",
       "      <td>Real Betis</td>\n",
       "      <td>1</td>\n",
       "      <td>0</td>\n",
       "      <td>MEJUTO GONZALEZ</td>\n",
       "    </tr>\n",
       "    <tr>\n",
       "      <td>2</td>\n",
       "      <td>1999</td>\n",
       "      <td>2</td>\n",
       "      <td>1999-08-21</td>\n",
       "      <td>Leganes</td>\n",
       "      <td>Mérida C.P.</td>\n",
       "      <td>1</td>\n",
       "      <td>1</td>\n",
       "      <td>NAVAS LASA</td>\n",
       "    </tr>\n",
       "    <tr>\n",
       "      <td>3</td>\n",
       "      <td>1999</td>\n",
       "      <td>1</td>\n",
       "      <td>1999-08-21</td>\n",
       "      <td>Valencia</td>\n",
       "      <td>Racing Santander</td>\n",
       "      <td>1</td>\n",
       "      <td>2</td>\n",
       "      <td>PRADOS GARCIA</td>\n",
       "    </tr>\n",
       "    <tr>\n",
       "      <td>4</td>\n",
       "      <td>1999</td>\n",
       "      <td>2</td>\n",
       "      <td>1999-08-21</td>\n",
       "      <td>U.E. Lleida</td>\n",
       "      <td>Villarreal</td>\n",
       "      <td>2</td>\n",
       "      <td>2</td>\n",
       "      <td>RUBIO INIESTA</td>\n",
       "    </tr>\n",
       "  </tbody>\n",
       "</table>\n",
       "</div>"
      ],
      "text/plain": [
       "   TEMPORADA  LIGA      FECHA          LOCAL         VISITANTE  GOL L  GOL V  \\\n",
       "0       1999     1 1999-08-21       Mallorca       Real Madrid      1      2   \n",
       "1       1999     1 1999-08-21  Athletic Club        Real Betis      1      0   \n",
       "2       1999     2 1999-08-21        Leganes       Mérida C.P.      1      1   \n",
       "3       1999     1 1999-08-21       Valencia  Racing Santander      1      2   \n",
       "4       1999     2 1999-08-21    U.E. Lleida        Villarreal      2      2   \n",
       "\n",
       "           ARBITRO  \n",
       "0    LOSANTOS OMAR  \n",
       "1  MEJUTO GONZALEZ  \n",
       "2       NAVAS LASA  \n",
       "3    PRADOS GARCIA  \n",
       "4    RUBIO INIESTA  "
      ]
     },
     "execution_count": 6,
     "metadata": {},
     "output_type": "execute_result"
    }
   ],
   "source": [
    "df_correct.head()"
   ]
  },
  {
   "cell_type": "code",
   "execution_count": 8,
   "metadata": {},
   "outputs": [],
   "source": [
    "df_correct.to_excel(\"../bbdd/FULL_BBDD_CLEAN.xlsx\", index=False)"
   ]
  },
  {
   "cell_type": "code",
   "execution_count": null,
   "metadata": {},
   "outputs": [],
   "source": []
  }
 ],
 "metadata": {
  "kernelspec": {
   "display_name": "Python 3",
   "language": "python",
   "name": "python3"
  },
  "language_info": {
   "codemirror_mode": {
    "name": "ipython",
    "version": 3
   },
   "file_extension": ".py",
   "mimetype": "text/x-python",
   "name": "python",
   "nbconvert_exporter": "python",
   "pygments_lexer": "ipython3",
   "version": "3.7.4"
  }
 },
 "nbformat": 4,
 "nbformat_minor": 2
}
