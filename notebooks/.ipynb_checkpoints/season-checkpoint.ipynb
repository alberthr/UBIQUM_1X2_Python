{
 "cells": [
  {
   "cell_type": "code",
   "execution_count": 11,
   "metadata": {},
   "outputs": [],
   "source": [
    "import requests\n",
    "url = \"https://server1.api-football.com/fixtures/league/775\"\n",
    "headers = {'x-rapidapi-key': \"28d61524ab5698a1f8edb9e9ed577221\"}\n",
    "\n",
    "response = requests.request(\"GET\", url, headers=headers)"
   ]
  },
  {
   "cell_type": "code",
   "execution_count": 12,
   "metadata": {},
   "outputs": [],
   "source": [
    "total_league = response.json()"
   ]
  },
  {
   "cell_type": "code",
   "execution_count": 24,
   "metadata": {},
   "outputs": [],
   "source": [
    "date = []\n",
    "hometeam = []\n",
    "awayteam = []\n",
    "referee = []\n",
    "goalshome = []\n",
    "goalsaway = []\n",
    "status = []\n",
    "\n",
    "import datetime\n",
    "\n",
    "for i in total_league['api']['fixtures']:\n",
    "    date.append(datetime.datetime.strptime(i['event_date'][:10], '%Y-%m-%d'))\n",
    "    hometeam.append(i['homeTeam']['team_name'])\n",
    "    awayteam.append(i['awayTeam']['team_name'])\n",
    "    referee.append(i['referee'])\n",
    "    goalshome.append(i['goalsHomeTeam'])\n",
    "    goalsaway.append(i['goalsAwayTeam'])\n",
    "    status.append(i['status'])"
   ]
  },
  {
   "cell_type": "code",
   "execution_count": 25,
   "metadata": {},
   "outputs": [
    {
     "data": {
      "text/html": [
       "<div>\n",
       "<style scoped>\n",
       "    .dataframe tbody tr th:only-of-type {\n",
       "        vertical-align: middle;\n",
       "    }\n",
       "\n",
       "    .dataframe tbody tr th {\n",
       "        vertical-align: top;\n",
       "    }\n",
       "\n",
       "    .dataframe thead th {\n",
       "        text-align: right;\n",
       "    }\n",
       "</style>\n",
       "<table border=\"1\" class=\"dataframe\">\n",
       "  <thead>\n",
       "    <tr style=\"text-align: right;\">\n",
       "      <th></th>\n",
       "      <th>Date</th>\n",
       "      <th>Local</th>\n",
       "      <th>Visitor</th>\n",
       "      <th>Referee</th>\n",
       "      <th>Goals_H</th>\n",
       "      <th>Goals_V</th>\n",
       "      <th>Status</th>\n",
       "    </tr>\n",
       "  </thead>\n",
       "  <tbody>\n",
       "    <tr>\n",
       "      <td>0</td>\n",
       "      <td>2019-08-16</td>\n",
       "      <td>Athletic Club</td>\n",
       "      <td>Barcelona</td>\n",
       "      <td>Carlos Del Cerro Grande, Spain</td>\n",
       "      <td>1.0</td>\n",
       "      <td>0.0</td>\n",
       "      <td>Match Finished</td>\n",
       "    </tr>\n",
       "    <tr>\n",
       "      <td>1</td>\n",
       "      <td>2019-08-17</td>\n",
       "      <td>Celta Vigo</td>\n",
       "      <td>Real Madrid</td>\n",
       "      <td>Javier Estrada Fernandez, Spain</td>\n",
       "      <td>1.0</td>\n",
       "      <td>3.0</td>\n",
       "      <td>Match Finished</td>\n",
       "    </tr>\n",
       "    <tr>\n",
       "      <td>2</td>\n",
       "      <td>2019-08-17</td>\n",
       "      <td>Valencia</td>\n",
       "      <td>Real Sociedad</td>\n",
       "      <td>Jesus Gil Manzano, Spain</td>\n",
       "      <td>1.0</td>\n",
       "      <td>1.0</td>\n",
       "      <td>Match Finished</td>\n",
       "    </tr>\n",
       "    <tr>\n",
       "      <td>3</td>\n",
       "      <td>2019-08-17</td>\n",
       "      <td>Mallorca</td>\n",
       "      <td>Eibar</td>\n",
       "      <td>Mario Melero Lopez, Spain</td>\n",
       "      <td>2.0</td>\n",
       "      <td>1.0</td>\n",
       "      <td>Match Finished</td>\n",
       "    </tr>\n",
       "    <tr>\n",
       "      <td>4</td>\n",
       "      <td>2019-08-17</td>\n",
       "      <td>Leganes</td>\n",
       "      <td>Osasuna</td>\n",
       "      <td>Javier Alberola Rojas, Spain</td>\n",
       "      <td>0.0</td>\n",
       "      <td>1.0</td>\n",
       "      <td>Match Finished</td>\n",
       "    </tr>\n",
       "    <tr>\n",
       "      <td>...</td>\n",
       "      <td>...</td>\n",
       "      <td>...</td>\n",
       "      <td>...</td>\n",
       "      <td>...</td>\n",
       "      <td>...</td>\n",
       "      <td>...</td>\n",
       "      <td>...</td>\n",
       "    </tr>\n",
       "    <tr>\n",
       "      <td>375</td>\n",
       "      <td>2020-05-23</td>\n",
       "      <td>Levante</td>\n",
       "      <td>Getafe</td>\n",
       "      <td>None</td>\n",
       "      <td>NaN</td>\n",
       "      <td>NaN</td>\n",
       "      <td>Time to be defined</td>\n",
       "    </tr>\n",
       "    <tr>\n",
       "      <td>376</td>\n",
       "      <td>2020-05-23</td>\n",
       "      <td>Osasuna</td>\n",
       "      <td>Mallorca</td>\n",
       "      <td>None</td>\n",
       "      <td>NaN</td>\n",
       "      <td>NaN</td>\n",
       "      <td>Time to be defined</td>\n",
       "    </tr>\n",
       "    <tr>\n",
       "      <td>377</td>\n",
       "      <td>2020-05-23</td>\n",
       "      <td>Sevilla</td>\n",
       "      <td>Valencia</td>\n",
       "      <td>None</td>\n",
       "      <td>NaN</td>\n",
       "      <td>NaN</td>\n",
       "      <td>Time to be defined</td>\n",
       "    </tr>\n",
       "    <tr>\n",
       "      <td>378</td>\n",
       "      <td>2020-05-23</td>\n",
       "      <td>Villarreal</td>\n",
       "      <td>Eibar</td>\n",
       "      <td>None</td>\n",
       "      <td>NaN</td>\n",
       "      <td>NaN</td>\n",
       "      <td>Time to be defined</td>\n",
       "    </tr>\n",
       "    <tr>\n",
       "      <td>379</td>\n",
       "      <td>2020-05-23</td>\n",
       "      <td>Valladolid</td>\n",
       "      <td>Real Betis</td>\n",
       "      <td>None</td>\n",
       "      <td>NaN</td>\n",
       "      <td>NaN</td>\n",
       "      <td>Time to be defined</td>\n",
       "    </tr>\n",
       "  </tbody>\n",
       "</table>\n",
       "<p>380 rows × 7 columns</p>\n",
       "</div>"
      ],
      "text/plain": [
       "          Date          Local        Visitor                          Referee  \\\n",
       "0   2019-08-16  Athletic Club      Barcelona   Carlos Del Cerro Grande, Spain   \n",
       "1   2019-08-17     Celta Vigo    Real Madrid  Javier Estrada Fernandez, Spain   \n",
       "2   2019-08-17       Valencia  Real Sociedad         Jesus Gil Manzano, Spain   \n",
       "3   2019-08-17       Mallorca          Eibar        Mario Melero Lopez, Spain   \n",
       "4   2019-08-17        Leganes        Osasuna     Javier Alberola Rojas, Spain   \n",
       "..         ...            ...            ...                              ...   \n",
       "375 2020-05-23        Levante         Getafe                             None   \n",
       "376 2020-05-23        Osasuna       Mallorca                             None   \n",
       "377 2020-05-23        Sevilla       Valencia                             None   \n",
       "378 2020-05-23     Villarreal          Eibar                             None   \n",
       "379 2020-05-23     Valladolid     Real Betis                             None   \n",
       "\n",
       "     Goals_H  Goals_V              Status  \n",
       "0        1.0      0.0      Match Finished  \n",
       "1        1.0      3.0      Match Finished  \n",
       "2        1.0      1.0      Match Finished  \n",
       "3        2.0      1.0      Match Finished  \n",
       "4        0.0      1.0      Match Finished  \n",
       "..       ...      ...                 ...  \n",
       "375      NaN      NaN  Time to be defined  \n",
       "376      NaN      NaN  Time to be defined  \n",
       "377      NaN      NaN  Time to be defined  \n",
       "378      NaN      NaN  Time to be defined  \n",
       "379      NaN      NaN  Time to be defined  \n",
       "\n",
       "[380 rows x 7 columns]"
      ]
     },
     "execution_count": 25,
     "metadata": {},
     "output_type": "execute_result"
    }
   ],
   "source": [
    "import pandas as pd\n",
    "\n",
    "df = pd.DataFrame(list(zip(date, hometeam, awayteam, referee, goalshome, goalsaway, status)), \n",
    "               columns =['Date', 'Local', 'Visitor', 'Referee', 'Goals_H', 'Goals_V', 'Status'])\n",
    "\n",
    "df"
   ]
  },
  {
   "cell_type": "code",
   "execution_count": 17,
   "metadata": {},
   "outputs": [
    {
     "data": {
      "text/plain": [
       "(380, 7)"
      ]
     },
     "execution_count": 17,
     "metadata": {},
     "output_type": "execute_result"
    }
   ],
   "source": [
    "df.shape"
   ]
  },
  {
   "cell_type": "code",
   "execution_count": 20,
   "metadata": {},
   "outputs": [],
   "source": [
    "df.to_csv(\"./Desktop/season_1920.csv\", index=False)"
   ]
  },
  {
   "cell_type": "code",
   "execution_count": 31,
   "metadata": {},
   "outputs": [
    {
     "data": {
      "text/plain": [
       "0   2019-08-16\n",
       "1   2019-08-17\n",
       "2   2019-08-17\n",
       "3   2019-08-17\n",
       "4   2019-08-17\n",
       "5   2019-08-17\n",
       "6   2019-08-18\n",
       "7   2019-08-18\n",
       "8   2019-08-18\n",
       "9   2019-08-18\n",
       "Name: Date, dtype: datetime64[ns]"
      ]
     },
     "execution_count": 31,
     "metadata": {},
     "output_type": "execute_result"
    }
   ],
   "source": [
    "df['Date'][df['Date']<'2019-08-20']"
   ]
  },
  {
   "cell_type": "code",
   "execution_count": null,
   "metadata": {},
   "outputs": [],
   "source": []
  }
 ],
 "metadata": {
  "kernelspec": {
   "display_name": "Python 3",
   "language": "python",
   "name": "python3"
  },
  "language_info": {
   "codemirror_mode": {
    "name": "ipython",
    "version": 3
   },
   "file_extension": ".py",
   "mimetype": "text/x-python",
   "name": "python",
   "nbconvert_exporter": "python",
   "pygments_lexer": "ipython3",
   "version": "3.7.4"
  }
 },
 "nbformat": 4,
 "nbformat_minor": 2
}
