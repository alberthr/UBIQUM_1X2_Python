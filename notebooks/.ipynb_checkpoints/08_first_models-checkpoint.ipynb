{
 "cells": [
  {
   "cell_type": "code",
   "execution_count": 1,
   "metadata": {},
   "outputs": [
    {
     "data": {
      "text/plain": [
       "'C:\\\\Users\\\\T420\\\\Desktop\\\\UBIQUM\\\\5 PROJECT\\\\Quiniela\\\\notebooks'"
      ]
     },
     "execution_count": 1,
     "metadata": {},
     "output_type": "execute_result"
    }
   ],
   "source": [
    "import os\n",
    "os.getcwd()"
   ]
  },
  {
   "cell_type": "code",
   "execution_count": 2,
   "metadata": {},
   "outputs": [],
   "source": [
    "import pandas as pd\n",
    "\n",
    "xl = pd.ExcelFile('../bbdd/FULL_BBDD_with_features.xlsx')\n",
    "df = xl.parse(xl.sheet_names[0])"
   ]
  },
  {
   "cell_type": "code",
   "execution_count": 4,
   "metadata": {},
   "outputs": [
    {
     "data": {
      "text/plain": [
       "Index(['TEMPORADA', 'LIGA', 'JORNADA', 'FECHA', 'LOCAL', 'VISITANTE', 'GOL L',\n",
       "       'GOL V', 'ARBITRO', 'QUINIELA', 'last2_hometeam_w', 'last2_hometeam_d',\n",
       "       'last2_hometeam_l', 'last5_hometeam_w', 'last5_hometeam_d',\n",
       "       'last5_hometeam_l', 'last10_hometeam_w', 'last10_hometeam_d',\n",
       "       'last10_hometeam_l', 'last2_awayteam_w', 'last2_awayteam_d',\n",
       "       'last2_awayteam_l', 'last5_awayteam_w', 'last5_awayteam_d',\n",
       "       'last5_awayteam_l', 'last10_awayteam_w', 'last10_awayteam_d',\n",
       "       'last10_awayteam_l', 'league_local_local_w', 'league_local_local_d',\n",
       "       'league_local_local_l', 'league_visitor_visitor_w',\n",
       "       'league_visitor_visitor_d', 'league_visitor_visitor_l', 'h2h_last_10_h',\n",
       "       'h2h_last_10_d', 'h2h_last_10_a', 'h2h_5_homeaway_h',\n",
       "       'h2h_5_homeaway_d', 'h2h_5_homeaway_a', 'ref_hometeam_w',\n",
       "       'ref_hometeam_d', 'ref_hometeam_l', 'ref_awayteam_w', 'ref_awayteam_d',\n",
       "       'ref_awayteam_l', 'ref_home_home_w', 'ref_home_home_d',\n",
       "       'ref_home_home_l', 'ref_away_away_w', 'ref_away_away_d',\n",
       "       'ref_away_away_l'],\n",
       "      dtype='object')"
      ]
     },
     "execution_count": 4,
     "metadata": {},
     "output_type": "execute_result"
    }
   ],
   "source": [
    "df.columns"
   ]
  },
  {
   "cell_type": "markdown",
   "metadata": {},
   "source": [
    "### Preparing models (create train and test, scaling, filtering information)"
   ]
  },
  {
   "cell_type": "code",
   "execution_count": 37,
   "metadata": {},
   "outputs": [],
   "source": [
    "from sklearn.model_selection import train_test_split\n",
    "from sklearn.preprocessing import scale"
   ]
  },
  {
   "cell_type": "markdown",
   "metadata": {},
   "source": [
    "Select what part of the dataframe i want to model and create the final dataframe"
   ]
  },
  {
   "cell_type": "code",
   "execution_count": 38,
   "metadata": {},
   "outputs": [],
   "source": [
    "jornada_cut = 10\n",
    "league_selec = 1\n",
    "selec = df[(df['JORNADA']>=jornada_cut) & (df['LIGA'] == league_selec)]"
   ]
  },
  {
   "cell_type": "code",
   "execution_count": 39,
   "metadata": {},
   "outputs": [],
   "source": [
    "x_col = df.columns[[i[-2:] in ['_l', '_w', '_d', '_h','_a' ] for i in list(df.columns)]]\n",
    "X = df[x_col]\n",
    "y = df['QUINIELA']"
   ]
  },
  {
   "cell_type": "markdown",
   "metadata": {},
   "source": [
    "Create the train and testing set after scaling it, just in case i apply a distance based ML model."
   ]
  },
  {
   "cell_type": "code",
   "execution_count": 40,
   "metadata": {},
   "outputs": [],
   "source": [
    "Xs = scale(X)\n",
    "X_train, X_test, y_train, y_test = train_test_split(Xs, y, test_size=0.30, random_state=100)"
   ]
  },
  {
   "cell_type": "markdown",
   "metadata": {},
   "source": [
    "### Apply models (RF, GBT, kNN, SVM)"
   ]
  },
  {
   "cell_type": "code",
   "execution_count": 46,
   "metadata": {},
   "outputs": [
    {
     "name": "stdout",
     "output_type": "stream",
     "text": [
      "Acc: 0.4628 | 0.05802384878836575\n"
     ]
    }
   ],
   "source": [
    "from sklearn.ensemble import RandomForestClassifier\n",
    "from sklearn.metrics import make_scorer, accuracy_score, cohen_kappa_score, confusion_matrix, classification_report\n",
    "from sklearn.model_selection import GridSearchCV\n",
    "\n",
    "# model\n",
    "rfc = RandomForestClassifier(n_estimators=100, random_state=88)\n",
    "rfc.fit(X_train, y_train)\n",
    "\n",
    "# prediction\n",
    "predsrfc = rfc.predict(X_test)\n",
    "\n",
    "# results\n",
    "print('Accuracy:', round(accuracy_score(y_test, predsrfc),4), \"|\", \"Kappa:\", round(cohen_kappa_score(y_test, predsrfc),4))"
   ]
  },
  {
   "cell_type": "code",
   "execution_count": 47,
   "metadata": {},
   "outputs": [
    {
     "name": "stdout",
     "output_type": "stream",
     "text": [
      "Accuracy: 0.4705 | Kappa: 0.0\n"
     ]
    }
   ],
   "source": [
    "from sklearn import svm\n",
    "\n",
    "clf = svm.SVC(kernel='linear', random_state=88)\n",
    "clf.fit(X_train, y_train)\n",
    "predssvm = clf.predict(X_test)\n",
    "print('Accuracy:', round(accuracy_score(y_test, predssvm),4), \"|\", \"Kappa:\", round(cohen_kappa_score(y_test, predssvm),4))"
   ]
  },
  {
   "cell_type": "code",
   "execution_count": 48,
   "metadata": {},
   "outputs": [
    {
     "name": "stdout",
     "output_type": "stream",
     "text": [
      "Accuracy: 0.4272 | Kappa: 0.0476\n"
     ]
    }
   ],
   "source": [
    "from sklearn.neighbors import KNeighborsClassifier\n",
    "\n",
    "clf = KNeighborsClassifier()\n",
    "clf.fit(X_train, y_train)\n",
    "predsknn = clf.predict(X_test)\n",
    "print('Accuracy:', round(accuracy_score(y_test, predsknn),4), \"|\", \"Kappa:\", round(cohen_kappa_score(y_test, predsknn),4))"
   ]
  },
  {
   "cell_type": "code",
   "execution_count": 97,
   "metadata": {},
   "outputs": [
    {
     "name": "stdout",
     "output_type": "stream",
     "text": [
      "Accuracy: 0.4794 | Kappa: 0.0612\n"
     ]
    }
   ],
   "source": [
    "from sklearn.ensemble import GradientBoostingClassifier\n",
    "\n",
    "clf = GradientBoostingClassifier()\n",
    "clf.fit(X_train, y_train)\n",
    "predsgbt = clf.predict(X_test)\n",
    "print('Accuracy:', round(accuracy_score(y_test, predsgbt),4), \"|\", \"Kappa:\", round(cohen_kappa_score(y_test, predsgbt),4))"
   ]
  },
  {
   "cell_type": "code",
   "execution_count": 109,
   "metadata": {},
   "outputs": [
    {
     "data": {
      "text/plain": [
       "league_local_local_w        0.085557\n",
       "last10_awayteam_w           0.076074\n",
       "league_visitor_visitor_l    0.067825\n",
       "last10_hometeam_w           0.045865\n",
       "ref_awayteam_w              0.039331\n",
       "dtype: float64"
      ]
     },
     "execution_count": 109,
     "metadata": {},
     "output_type": "execute_result"
    }
   ],
   "source": [
    "pd.Series(clf.feature_importances_, X.columns).sort_values(ascending=False). head()"
   ]
  },
  {
   "cell_type": "markdown",
   "metadata": {},
   "source": [
    "### Optimization of GBT model"
   ]
  },
  {
   "cell_type": "code",
   "execution_count": 150,
   "metadata": {},
   "outputs": [
    {
     "name": "stdout",
     "output_type": "stream",
     "text": [
      "Accuracy: 0.4798  |  Kappa: 0.0606  |  Estimators: 50  |  L-Rate 0.1  |  Min Split: 2  |  Min Leaf: 2  |  Max Depth: 4\n"
     ]
    }
   ],
   "source": [
    "from sklearn.metrics import make_scorer, accuracy_score\n",
    "from sklearn.model_selection import GridSearchCV\n",
    "import numpy as np\n",
    "\n",
    "clf = GradientBoostingClassifier(random_state=88)\n",
    "acc_scorer = make_scorer(accuracy_score)\n",
    "\n",
    "for n_est in [50]:\n",
    "    for l_rate in [0.1]:\n",
    "        for min_split in[2]:\n",
    "            for min_leaf in [2]:\n",
    "                for max_depth in [4]:\n",
    "                    parameters = {\"loss\":[\"deviance\"], \"learning_rate\": [l_rate], \"min_samples_split\": [min_split],\n",
    "                                  \"min_samples_leaf\": [min_leaf], \"max_depth\":[max_depth], \"subsample\":[1.0], \n",
    "                                  \"n_estimators\":[n_est]}\n",
    "                    grid_obj = GridSearchCV(clf, parameters, cv = 5, verbose = False,scoring=acc_scorer)\n",
    "                    grid_obj = grid_obj.fit(X_train, y_train)\n",
    "                    clf = grid_obj.best_estimator_\n",
    "                    clf.fit(X_train, y_train)\n",
    "                    predsgbt = clf.predict(X_test)\n",
    "                    print('Accuracy:', round(accuracy_score(y_test, predsgbt),4), \" | \", \"Kappa:\", \n",
    "                          round(cohen_kappa_score(y_test, predsgbt),4), \" |  Estimators:\",n_est, \" |  L-Rate\", l_rate, \n",
    "                          \" |  Min Split:\", min_split, \" |  Min Leaf:\", min_leaf, \" |  Max Depth:\", max_depth)"
   ]
  },
  {
   "cell_type": "markdown",
   "metadata": {},
   "source": [
    "### Optimization of RF model"
   ]
  },
  {
   "cell_type": "code",
   "execution_count": 142,
   "metadata": {},
   "outputs": [
    {
     "name": "stdout",
     "output_type": "stream",
     "text": [
      "Accuracy: 0.4838  |  Kappa: 0.0569  |  Estimators: 250  |  Max Depth: 12  |  Min Split: 2  |  Min Leaf: 1\n"
     ]
    }
   ],
   "source": [
    "from sklearn.metrics import make_scorer, accuracy_score\n",
    "from sklearn.model_selection import GridSearchCV\n",
    "\n",
    "clf = RandomForestClassifier(random_state=88)\n",
    "acc_scorer = make_scorer(accuracy_score)\n",
    "\n",
    "for n_est in [250]:\n",
    "    for max_depth in [12]:\n",
    "        for min_split in[2]:\n",
    "            for min_leaf in [1]:\n",
    "                parameters = {'n_estimators': [n_est], 'max_features': ['log2'], 'criterion': ['entropy'], \n",
    "                              'max_depth': [max_depth], 'min_samples_split': [min_split], \n",
    "                              'min_samples_leaf': [min_leaf]}\n",
    "                grid_obj = GridSearchCV(clf, parameters, cv = 5, verbose = False,scoring=acc_scorer)\n",
    "                grid_obj = grid_obj.fit(X_train, y_train)\n",
    "                clf = grid_obj.best_estimator_\n",
    "                clf.fit(X_train, y_train)\n",
    "                predsrf = clf.predict(X_test)\n",
    "                print('Accuracy:', round(accuracy_score(y_test, predsrf),4), \" | \", \"Kappa:\", \n",
    "                      round(cohen_kappa_score(y_test, predsrf),4), \" |  Estimators:\",n_est, \" |  Max Depth:\", max_depth, \n",
    "                      \" |  Min Split:\", min_split, \" |  Min Leaf:\", min_leaf)\n",
    "                "
   ]
  },
  {
   "cell_type": "code",
   "execution_count": null,
   "metadata": {},
   "outputs": [],
   "source": []
  }
 ],
 "metadata": {
  "kernelspec": {
   "display_name": "Python 3",
   "language": "python",
   "name": "python3"
  },
  "language_info": {
   "codemirror_mode": {
    "name": "ipython",
    "version": 3
   },
   "file_extension": ".py",
   "mimetype": "text/x-python",
   "name": "python",
   "nbconvert_exporter": "python",
   "pygments_lexer": "ipython3",
   "version": "3.7.4"
  }
 },
 "nbformat": 4,
 "nbformat_minor": 2
}
