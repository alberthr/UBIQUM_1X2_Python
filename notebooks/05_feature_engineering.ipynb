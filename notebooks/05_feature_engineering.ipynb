{
 "cells": [
  {
   "cell_type": "markdown",
   "metadata": {},
   "source": [
    "### Open and check file"
   ]
  },
  {
   "cell_type": "code",
   "execution_count": 108,
   "metadata": {},
   "outputs": [
    {
     "data": {
      "text/plain": [
       "'C:\\\\Users\\\\T420\\\\Desktop\\\\UBIQUM\\\\5 PROJECT\\\\Quiniela\\\\notebooks'"
      ]
     },
     "execution_count": 108,
     "metadata": {},
     "output_type": "execute_result"
    }
   ],
   "source": [
    "import os\n",
    "os.getcwd()"
   ]
  },
  {
   "cell_type": "code",
   "execution_count": 192,
   "metadata": {},
   "outputs": [
    {
     "data": {
      "text/html": [
       "<div>\n",
       "<style scoped>\n",
       "    .dataframe tbody tr th:only-of-type {\n",
       "        vertical-align: middle;\n",
       "    }\n",
       "\n",
       "    .dataframe tbody tr th {\n",
       "        vertical-align: top;\n",
       "    }\n",
       "\n",
       "    .dataframe thead th {\n",
       "        text-align: right;\n",
       "    }\n",
       "</style>\n",
       "<table border=\"1\" class=\"dataframe\">\n",
       "  <thead>\n",
       "    <tr style=\"text-align: right;\">\n",
       "      <th></th>\n",
       "      <th>TEMPORADA</th>\n",
       "      <th>LIGA</th>\n",
       "      <th>JORNADA</th>\n",
       "      <th>FECHA</th>\n",
       "      <th>LOCAL</th>\n",
       "      <th>VISITANTE</th>\n",
       "      <th>GOL L</th>\n",
       "      <th>GOL V</th>\n",
       "      <th>ARBITRO</th>\n",
       "      <th>QUINIELA</th>\n",
       "    </tr>\n",
       "  </thead>\n",
       "  <tbody>\n",
       "    <tr>\n",
       "      <td>16835</td>\n",
       "      <td>2018</td>\n",
       "      <td>2</td>\n",
       "      <td>42</td>\n",
       "      <td>2019-06-08</td>\n",
       "      <td>Sporting Gijon</td>\n",
       "      <td>Cadiz</td>\n",
       "      <td>1</td>\n",
       "      <td>0</td>\n",
       "      <td>Daniel Ocon Arraiz, Spain</td>\n",
       "      <td>1</td>\n",
       "    </tr>\n",
       "    <tr>\n",
       "      <td>16836</td>\n",
       "      <td>2018</td>\n",
       "      <td>2</td>\n",
       "      <td>42</td>\n",
       "      <td>2019-06-08</td>\n",
       "      <td>Malaga</td>\n",
       "      <td>Elche</td>\n",
       "      <td>3</td>\n",
       "      <td>0</td>\n",
       "      <td>Ruben Avalos Barrera, Spain</td>\n",
       "      <td>1</td>\n",
       "    </tr>\n",
       "    <tr>\n",
       "      <td>16837</td>\n",
       "      <td>2018</td>\n",
       "      <td>2</td>\n",
       "      <td>42</td>\n",
       "      <td>2019-06-09</td>\n",
       "      <td>Tenerife</td>\n",
       "      <td>Zaragoza</td>\n",
       "      <td>1</td>\n",
       "      <td>0</td>\n",
       "      <td>Abraham Dominguez Cervantes, Spain</td>\n",
       "      <td>1</td>\n",
       "    </tr>\n",
       "    <tr>\n",
       "      <td>16838</td>\n",
       "      <td>2018</td>\n",
       "      <td>2</td>\n",
       "      <td>42</td>\n",
       "      <td>2019-06-09</td>\n",
       "      <td>Club Gimnàstic</td>\n",
       "      <td>Lugo</td>\n",
       "      <td>1</td>\n",
       "      <td>1</td>\n",
       "      <td>Jose Antonio Lopez Toca, Spain</td>\n",
       "      <td>X</td>\n",
       "    </tr>\n",
       "    <tr>\n",
       "      <td>16839</td>\n",
       "      <td>2018</td>\n",
       "      <td>2</td>\n",
       "      <td>42</td>\n",
       "      <td>2019-06-09</td>\n",
       "      <td>Numancia</td>\n",
       "      <td>Las Palmas</td>\n",
       "      <td>1</td>\n",
       "      <td>1</td>\n",
       "      <td>Alvaro Moreno Aragon,</td>\n",
       "      <td>X</td>\n",
       "    </tr>\n",
       "  </tbody>\n",
       "</table>\n",
       "</div>"
      ],
      "text/plain": [
       "       TEMPORADA  LIGA  JORNADA      FECHA           LOCAL   VISITANTE  GOL L  \\\n",
       "16835       2018     2       42 2019-06-08  Sporting Gijon       Cadiz      1   \n",
       "16836       2018     2       42 2019-06-08          Malaga       Elche      3   \n",
       "16837       2018     2       42 2019-06-09        Tenerife    Zaragoza      1   \n",
       "16838       2018     2       42 2019-06-09  Club Gimnàstic        Lugo      1   \n",
       "16839       2018     2       42 2019-06-09        Numancia  Las Palmas      1   \n",
       "\n",
       "       GOL V                             ARBITRO QUINIELA  \n",
       "16835      0           Daniel Ocon Arraiz, Spain        1  \n",
       "16836      0         Ruben Avalos Barrera, Spain        1  \n",
       "16837      0  Abraham Dominguez Cervantes, Spain        1  \n",
       "16838      1      Jose Antonio Lopez Toca, Spain        X  \n",
       "16839      1               Alvaro Moreno Aragon,        X  "
      ]
     },
     "execution_count": 192,
     "metadata": {},
     "output_type": "execute_result"
    }
   ],
   "source": [
    "import pandas as pd\n",
    "\n",
    "xl = pd.ExcelFile('../bbdd/FULL_BBDD_CLEAN.xlsx')\n",
    "df = xl.parse(xl.sheet_names[0])\n",
    "df.tail()"
   ]
  },
  {
   "cell_type": "code",
   "execution_count": 132,
   "metadata": {},
   "outputs": [
    {
     "data": {
      "text/plain": [
       "0         2\n",
       "1         2\n",
       "2         3\n",
       "3         2\n",
       "4         3\n",
       "         ..\n",
       "16835    44\n",
       "16836    44\n",
       "16837    44\n",
       "16838    44\n",
       "16839    44\n",
       "Length: 16840, dtype: int64"
      ]
     },
     "execution_count": 132,
     "metadata": {},
     "output_type": "execute_result"
    }
   ],
   "source": [
    "df.apply(lambda x: x[1]+x[2], axis=1)"
   ]
  },
  {
   "cell_type": "code",
   "execution_count": null,
   "metadata": {},
   "outputs": [],
   "source": []
  },
  {
   "cell_type": "code",
   "execution_count": null,
   "metadata": {},
   "outputs": [],
   "source": []
  },
  {
   "cell_type": "code",
   "execution_count": 110,
   "metadata": {},
   "outputs": [
    {
     "data": {
      "text/plain": [
       "(16840, 10)"
      ]
     },
     "execution_count": 110,
     "metadata": {},
     "output_type": "execute_result"
    }
   ],
   "source": [
    "df.shape"
   ]
  },
  {
   "cell_type": "markdown",
   "metadata": {},
   "source": [
    "### Additional Features for all the games\n",
    "Funciones"
   ]
  },
  {
   "cell_type": "code",
   "execution_count": 123,
   "metadata": {
    "scrolled": true
   },
   "outputs": [],
   "source": [
    "# last n games of home or away team\n",
    "\n",
    "def last_games(league, team, date, season, ngames):\n",
    "    select = df[(df['LIGA']==league) & ((df['LOCAL']==team) | (df['VISITANTE']==team)) & \n",
    "            (df['FECHA'] < date) & (df['TEMPORADA']==season)][:ngames]\n",
    "    games = select.shape[0] + 1/2\n",
    "    WINS = (sum(select['QUINIELA'][select.LOCAL==team]=='1') + sum(select['QUINIELA'][select.VISITANTE==team]=='2') + 1/6)/games\n",
    "    DRAW = (sum(select['QUINIELA']=='X') + 1/6)/games\n",
    "    LOSE = (1 - WINS - DRAW)\n",
    "    return(WINS, DRAW, LOSE)"
   ]
  },
  {
   "cell_type": "code",
   "execution_count": 124,
   "metadata": {},
   "outputs": [],
   "source": [
    "# total league. local as a local\n",
    "\n",
    "def league_local_local(league, home_team, date, season):\n",
    "    select = df[(df['LIGA']==league) & ((df['LOCAL']==home_team)) & \n",
    "            (df['FECHA'] < date) & (df['TEMPORADA']==season)]\n",
    "    games = select.shape[0] + 1/2\n",
    "    H_WINS = (sum(select['QUINIELA'][select.LOCAL==home_team]=='1') + 1/6)/games\n",
    "    H_DRAW = (sum(select['QUINIELA']=='X') + 1/6)/games\n",
    "    H_LOSE = (1 - H_WINS - H_DRAW)\n",
    "    return(H_WINS, H_DRAW, H_LOSE)"
   ]
  },
  {
   "cell_type": "code",
   "execution_count": 125,
   "metadata": {},
   "outputs": [],
   "source": [
    "# total league. visitor as a visitor\n",
    "\n",
    "def league_visitor_visitor(league, away_team, date, season):\n",
    "    select = df[(df['LIGA']==league) & ((df['VISITANTE']==away_team)) & \n",
    "            (df['FECHA'] < date) & (df['TEMPORADA']==season)]\n",
    "    games = select.shape[0] + 1/2\n",
    "    V_WINS = (sum(select['QUINIELA'][select.VISITANTE==away_team]=='2') + 1/6)/games\n",
    "    V_DRAW = (sum(select['QUINIELA']=='X') + 1/6)/games\n",
    "    V_LOSE = (1 - V_WINS - V_DRAW)\n",
    "    return(V_WINS, V_DRAW, V_LOSE)"
   ]
  },
  {
   "cell_type": "code",
   "execution_count": 126,
   "metadata": {},
   "outputs": [],
   "source": [
    "# h2h last 10 games total\n",
    "\n",
    "def h2h_10_hda(date, home_team, away_team):\n",
    "    select = df[(df['FECHA'] < date) & (((df['LOCAL']==home_team) & (df['VISITANTE']==away_team)) |  \n",
    "            ((df['LOCAL']==away_team) & (df['VISITANTE']==home_team)))][:10]\n",
    "    games = select.shape[0] + 1/2\n",
    "    HOME = (sum(select['QUINIELA'][select.LOCAL==home_team]=='1') + \n",
    "            sum(select['QUINIELA'][select.VISITANTE==home_team]=='2') + 1/6)/games\n",
    "    DRAW = (sum(select['QUINIELA']=='X') + 1/6)/games\n",
    "    AWAY = (1 - HOME - DRAW)\n",
    "    return(HOME, DRAW, AWAY)"
   ]
  },
  {
   "cell_type": "code",
   "execution_count": 127,
   "metadata": {},
   "outputs": [],
   "source": [
    "# h2h last 5 games with same home and away\n",
    "\n",
    "def h2h_5_homeaway(date, home_team, away_team):\n",
    "    select = df[(df['FECHA'] < date) & (df['LOCAL']==home_team) & (df['VISITANTE']==away_team)][:5]\n",
    "    games = select.shape[0] + 1/2\n",
    "    HOME = (sum(select['QUINIELA'][select.LOCAL==home_team]=='1') + 1/6)/games\n",
    "    DRAW = (sum(select['QUINIELA'][select.LOCAL==home_team]=='X') + 1/6)/games\n",
    "    AWAY = (1 - HOME - DRAW)\n",
    "    return(HOME, DRAW, AWAY)"
   ]
  },
  {
   "cell_type": "code",
   "execution_count": 128,
   "metadata": {},
   "outputs": [],
   "source": [
    "# referee: historical results\n",
    "\n",
    "def ref_team(date, team, referee):\n",
    "    select = df[(df['FECHA'] < date) & ((df['LOCAL']==team) | (df['VISITANTE']==team)) & (df['ARBITRO']==referee)]\n",
    "    games = select.shape[0] + 1/2\n",
    "    WINS = (sum(select['QUINIELA'][select.LOCAL==team]=='1') + \n",
    "            sum(select['QUINIELA'][select.VISITANTE==team]=='2') + 1/6)/games\n",
    "    DRAW = (sum(select['QUINIELA']=='X') + 1/6)/games\n",
    "    LOSE = (1 - WINS - DRAW)\n",
    "    return(WINS, DRAW, LOSE)"
   ]
  },
  {
   "cell_type": "code",
   "execution_count": 129,
   "metadata": {},
   "outputs": [],
   "source": [
    "# referee: historical results with home team at home\n",
    "\n",
    "def ref_home_home(date, home_team, referee):\n",
    "    select = df[(df['FECHA'] < date) & (df['LOCAL']==home_team) & (df['ARBITRO']==referee)]\n",
    "    games = select.shape[0] + 1/2\n",
    "    WINS = (sum(select['QUINIELA'][select.LOCAL==home_team]=='1') + \n",
    "            sum(select['QUINIELA'][select.VISITANTE==home_team]=='2') + 1/6)/games\n",
    "    DRAW = (sum(select['QUINIELA']=='X') + 1/6)/games\n",
    "    LOSE = (1 - WINS - DRAW)\n",
    "    return(WINS, DRAW, LOSE)"
   ]
  },
  {
   "cell_type": "code",
   "execution_count": 130,
   "metadata": {},
   "outputs": [],
   "source": [
    "# referee: historical results with away team playing away\n",
    "\n",
    "def ref_away_away(date, away_team, referee): \n",
    "    select = df[(df['FECHA'] < date) & (df['VISITANTE']==away_team) & (df['ARBITRO']==referee)]\n",
    "    games = select.shape[0] + 1/2\n",
    "    WINS = (sum(select['QUINIELA'][select.LOCAL==away_team]=='1') + \n",
    "            sum(select['QUINIELA'][select.VISITANTE==away_team]=='2') + 1/6)/games\n",
    "    DRAW = (sum(select['QUINIELA']=='X') + 1/6)/games\n",
    "    LOSE = (1 - WINS - DRAW)\n",
    "    return(WINS, DRAW, LOSE)"
   ]
  },
  {
   "cell_type": "markdown",
   "metadata": {},
   "source": [
    "Apply function to create all the features from functions"
   ]
  },
  {
   "cell_type": "code",
   "execution_count": 131,
   "metadata": {},
   "outputs": [],
   "source": [
    "df['last2_hometeam_wdl'] = df.apply(lambda x: last_games(x[1], x[4], x[3], x[0], 2), axis=1)\n",
    "df['last5_hometeam_wdl'] = df.apply(lambda x: last_games(x[1], x[4], x[3], x[0], 5), axis=1)\n",
    "df['last10_hometeam_wdl'] = df.apply(lambda x: last_games(x[1], x[4], x[3], x[0], 10), axis=1)"
   ]
  },
  {
   "cell_type": "code",
   "execution_count": 137,
   "metadata": {},
   "outputs": [],
   "source": [
    "df['last2_awayteam_wdl'] = df.apply(lambda x: last_games(x[1], x[5], x[3], x[0], 2), axis=1)\n",
    "df['last5_awayteam_wdl'] = df.apply(lambda x: last_games(x[1], x[5], x[3], x[0], 5), axis=1)\n",
    "df['last10_awayteam_wdl'] = df.apply(lambda x: last_games(x[1], x[5], x[3], x[0], 10), axis=1)"
   ]
  },
  {
   "cell_type": "code",
   "execution_count": 138,
   "metadata": {},
   "outputs": [],
   "source": [
    "df['league_local_local_wdl'] = df.apply(lambda x: league_local_local(x[1], x[4], x[3], x[0]), axis=1)\n",
    "df['league_visitor_visitor_wdl'] = df.apply(lambda x: league_visitor_visitor(x[1], x[5], x[3], x[0]), axis=1)"
   ]
  },
  {
   "cell_type": "code",
   "execution_count": 139,
   "metadata": {},
   "outputs": [],
   "source": [
    "df['h2h_last_10_hda'] = df.apply(lambda x: h2h_10_hda(x[3], x[4], x[5]), axis=1)\n",
    "df['h2h_5_homeaway_hda'] = df.apply(lambda x: h2h_5_homeaway(x[3], x[4], x[5]), axis=1)"
   ]
  },
  {
   "cell_type": "code",
   "execution_count": 140,
   "metadata": {},
   "outputs": [],
   "source": [
    "df['ref_hometeam_wdl'] = df.apply(lambda x: ref_team(x[3], x[4], x[8]), axis=1)\n",
    "df['ref_awayteam_wdl'] = df.apply(lambda x: ref_team(x[3], x[5], x[8]), axis=1)"
   ]
  },
  {
   "cell_type": "code",
   "execution_count": 142,
   "metadata": {},
   "outputs": [],
   "source": [
    "df['ref_home_home_wdl'] = df.apply(lambda x: ref_home_home(x[3], x[4], x[8]), axis=1)\n",
    "df['ref_away_away_wdl'] = df.apply(lambda x: ref_away_away(x[3], x[5], x[8]), axis=1)"
   ]
  },
  {
   "cell_type": "markdown",
   "metadata": {},
   "source": [
    "### Split tuples for into column and delete tuples"
   ]
  },
  {
   "cell_type": "code",
   "execution_count": 185,
   "metadata": {},
   "outputs": [],
   "source": [
    "columns = list(df.columns[[x[-3:] in ['wdl','hda'] for x in df.columns]])"
   ]
  },
  {
   "cell_type": "code",
   "execution_count": 186,
   "metadata": {},
   "outputs": [],
   "source": [
    "for i in columns:\n",
    "    field_type = i[-3:]\n",
    "    name1 = i[:-3] + field_type[0]\n",
    "    name2 = i[:-3] + field_type[1]\n",
    "    name3 = i[:-3] + field_type[2]\n",
    "    \n",
    "    df[name1] = df[i].apply(lambda x: x[0])\n",
    "    df[name2] = df[i].apply(lambda x: x[1])\n",
    "    df[name3] = df[i].apply(lambda x: x[2])"
   ]
  },
  {
   "cell_type": "code",
   "execution_count": 187,
   "metadata": {},
   "outputs": [],
   "source": [
    "df.drop(columns, inplace=True, axis=1)"
   ]
  },
  {
   "cell_type": "code",
   "execution_count": 188,
   "metadata": {},
   "outputs": [
    {
     "data": {
      "text/plain": [
       "Index(['TEMPORADA', 'LIGA', 'JORNADA', 'FECHA', 'LOCAL', 'VISITANTE', 'GOL L',\n",
       "       'GOL V', 'ARBITRO', 'QUINIELA', 'last2_hometeam_w', 'last2_hometeam_d',\n",
       "       'last2_hometeam_l', 'last5_hometeam_w', 'last5_hometeam_d',\n",
       "       'last5_hometeam_l', 'last10_hometeam_w', 'last10_hometeam_d',\n",
       "       'last10_hometeam_l', 'last2_awayteam_w', 'last2_awayteam_d',\n",
       "       'last2_awayteam_l', 'last5_awayteam_w', 'last5_awayteam_d',\n",
       "       'last5_awayteam_l', 'last10_awayteam_w', 'last10_awayteam_d',\n",
       "       'last10_awayteam_l', 'league_local_local_w', 'league_local_local_d',\n",
       "       'league_local_local_l', 'league_visitor_visitor_w',\n",
       "       'league_visitor_visitor_d', 'league_visitor_visitor_l', 'h2h_last_10_h',\n",
       "       'h2h_last_10_d', 'h2h_last_10_a', 'h2h_5_homeaway_h',\n",
       "       'h2h_5_homeaway_d', 'h2h_5_homeaway_a', 'ref_hometeam_w',\n",
       "       'ref_hometeam_d', 'ref_hometeam_l', 'ref_awayteam_w', 'ref_awayteam_d',\n",
       "       'ref_awayteam_l', 'ref_home_home_w', 'ref_home_home_d',\n",
       "       'ref_home_home_l', 'ref_away_away_w', 'ref_away_away_d',\n",
       "       'ref_away_away_l'],\n",
       "      dtype='object')"
      ]
     },
     "execution_count": 188,
     "metadata": {},
     "output_type": "execute_result"
    }
   ],
   "source": [
    "df.columns"
   ]
  },
  {
   "cell_type": "code",
   "execution_count": 190,
   "metadata": {},
   "outputs": [
    {
     "data": {
      "text/plain": [
       "(16840, 52)"
      ]
     },
     "execution_count": 190,
     "metadata": {},
     "output_type": "execute_result"
    }
   ],
   "source": [
    "df.shape"
   ]
  },
  {
   "cell_type": "code",
   "execution_count": 191,
   "metadata": {},
   "outputs": [],
   "source": [
    "df.to_excel(\"../bbdd/FULL_BBDD_with_features.xlsx\", index=False)"
   ]
  },
  {
   "cell_type": "code",
   "execution_count": 194,
   "metadata": {},
   "outputs": [],
   "source": [
    "df[['TEMPORADA', 'LIGA', 'JORNADA', 'FECHA', 'LOCAL', 'VISITANTE', 'GOL L', 'GOL V', 'ARBITRO', 'QUINIELA']].to_excel(\n",
    "    \"../bbdd/FULL_BBDD_only_results.xlsx\", index=False)"
   ]
  },
  {
   "cell_type": "code",
   "execution_count": null,
   "metadata": {},
   "outputs": [],
   "source": []
  }
 ],
 "metadata": {
  "kernelspec": {
   "display_name": "Python 3",
   "language": "python",
   "name": "python3"
  },
  "language_info": {
   "codemirror_mode": {
    "name": "ipython",
    "version": 3
   },
   "file_extension": ".py",
   "mimetype": "text/x-python",
   "name": "python",
   "nbconvert_exporter": "python",
   "pygments_lexer": "ipython3",
   "version": "3.7.4"
  }
 },
 "nbformat": 4,
 "nbformat_minor": 2
}
