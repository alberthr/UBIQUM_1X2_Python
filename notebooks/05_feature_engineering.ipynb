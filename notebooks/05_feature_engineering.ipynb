{
 "cells": [
  {
   "cell_type": "code",
   "execution_count": 1,
   "metadata": {},
   "outputs": [
    {
     "data": {
      "text/plain": [
       "'C:\\\\Users\\\\Albert\\\\Desktop\\\\DATA SCIENCE\\\\UBIQUM\\\\UBIQUM_1X2_Python\\\\notebooks'"
      ]
     },
     "execution_count": 1,
     "metadata": {},
     "output_type": "execute_result"
    }
   ],
   "source": [
    "import os\n",
    "os.getcwd()"
   ]
  },
  {
   "cell_type": "code",
   "execution_count": 2,
   "metadata": {},
   "outputs": [
    {
     "name": "stdout",
     "output_type": "stream",
     "text": [
      "   TEMPORADA  LIGA  JORNADA      FECHA          LOCAL         VISITANTE  \\\n",
      "0       1999     1        1 1999-08-21       Mallorca       Real Madrid   \n",
      "1       1999     1        1 1999-08-21  Athletic Club        Real Betis   \n",
      "2       1999     2        1 1999-08-21        Leganes       Mérida C.P.   \n",
      "3       1999     1        1 1999-08-21       Valencia  Racing Santander   \n",
      "4       1999     2        1 1999-08-21    U.E. Lleida        Villarreal   \n",
      "\n",
      "   GOL L  GOL V          ARBITRO QUINIELA  \n",
      "0      1      2    LOSANTOS OMAR        2  \n",
      "1      1      0  MEJUTO GONZALEZ        1  \n",
      "2      1      1       NAVAS LASA        X  \n",
      "3      1      2    PRADOS GARCIA        2  \n",
      "4      2      2    RUBIO INIESTA        X  \n"
     ]
    },
    {
     "data": {
      "text/plain": [
       "(16840, 10)"
      ]
     },
     "execution_count": 2,
     "metadata": {},
     "output_type": "execute_result"
    }
   ],
   "source": [
    "import pandas as pd\n",
    "\n",
    "xl = pd.ExcelFile('../bbdd/FULL_BBDD_CLEAN.xlsx')\n",
    "df = xl.parse(xl.sheet_names[0])\n",
    "print(df.head())\n",
    "df.shape"
   ]
  },
  {
   "cell_type": "code",
   "execution_count": 62,
   "metadata": {},
   "outputs": [],
   "source": [
    "# ROW INFORMATION\n",
    "row = df.shape[0]-1\n",
    "season = df['TEMPORADA'][row]\n",
    "home_team = df['LOCAL'][row]\n",
    "away_team = df['VISITANTE'][row]\n",
    "league = df['LIGA'][row]\n",
    "league_day = df['JORNADA'][row]\n",
    "referee = df['ARBITRO'][row]"
   ]
  },
  {
   "cell_type": "code",
   "execution_count": 79,
   "metadata": {},
   "outputs": [
    {
     "name": "stdout",
     "output_type": "stream",
     "text": [
      "(0.0, 0.2, 0.8)\n",
      "(0.1, 0.1, 0.8)\n",
      "(0.1, 0.3, 0.6000000000000001)\n",
      "(0.3, 0.2, 0.49999999999999994)\n",
      "(0.3, 0.4, 0.29999999999999993)\n",
      "(0.5, 0.3, 0.2)\n"
     ]
    }
   ],
   "source": [
    "def last_games(league, team, league_day, season, ngames):\n",
    "    select = df[(df['LIGA']==league) & ((df['LOCAL']==team) | (df['VISITANTE']==team)) & \n",
    "            (df['JORNADA'] < league_day) & (df['TEMPORADA']==season)][:ngames]\n",
    "    WINS = (sum(select['QUINIELA'][select.LOCAL==team]=='1') + sum(select['QUINIELA'][select.VISITANTE==team]=='2'))/10\n",
    "    DRAW = sum(select['QUINIELA']=='X')/10\n",
    "    LOSE = (1 - WINS - DRAW)\n",
    "    return(WINS, DRAW, LOSE)\n",
    "\n",
    "print(last_games(league=league, team=home_team, league_day=league_day, season=season, ngames=2))\n",
    "print(last_games(league=league, team=away_team, league_day=league_day, season=season, ngames=2))\n",
    "print(last_games(league=league, team=home_team, league_day=league_day, season=season, ngames=5))\n",
    "print(last_games(league=league, team=away_team, league_day=league_day, season=season, ngames=5))\n",
    "print(last_games(league=league, team=home_team, league_day=league_day, season=season, ngames=10))\n",
    "print(last_games(league=league, team=away_team, league_day=league_day, season=season, ngames=10))"
   ]
  },
  {
   "cell_type": "code",
   "execution_count": null,
   "metadata": {},
   "outputs": [],
   "source": []
  },
  {
   "cell_type": "code",
   "execution_count": null,
   "metadata": {},
   "outputs": [],
   "source": []
  },
  {
   "cell_type": "code",
   "execution_count": null,
   "metadata": {},
   "outputs": [],
   "source": []
  },
  {
   "cell_type": "code",
   "execution_count": 80,
   "metadata": {},
   "outputs": [
    {
     "name": "stdout",
     "output_type": "stream",
     "text": [
      "(0.5, 0.2, 0.3)\n"
     ]
    }
   ],
   "source": [
    "select = df[(df['LIGA']==league) & ((df['LOCAL']==home_team)) & \n",
    "            (df['JORNADA'] < league_day) & (df['TEMPORADA']==season)]  \n",
    "H_WINS = (sum(select['QUINIELA'][select.LOCAL==home_team]=='1'))/(select.shape[0])\n",
    "H_DRAW = sum(select['QUINIELA']=='X')/(select.shape[0])\n",
    "H_LOSE = (1 - H_WINS - H_DRAW)\n",
    "print((H_WINS, H_DRAW, H_LOSE))"
   ]
  },
  {
   "cell_type": "code",
   "execution_count": 81,
   "metadata": {},
   "outputs": [
    {
     "name": "stdout",
     "output_type": "stream",
     "text": [
      "(0.15, 0.4, 0.44999999999999996)\n"
     ]
    }
   ],
   "source": [
    "select = df[(df['LIGA']==league) & ((df['VISITANTE']==away_team)) & \n",
    "            (df['JORNADA'] < league_day) & (df['TEMPORADA']==season)]  \n",
    "V_WINS = (sum(select['QUINIELA'][select.VISITANTE==away_team]=='2'))/(select.shape[0])\n",
    "V_DRAW = sum(select['QUINIELA']=='X')/(select.shape[0])\n",
    "V_LOSE = (1 - V_WINS - V_DRAW)\n",
    "print((V_WINS, V_DRAW, V_LOSE))"
   ]
  },
  {
   "cell_type": "code",
   "execution_count": null,
   "metadata": {},
   "outputs": [],
   "source": []
  },
  {
   "cell_type": "code",
   "execution_count": null,
   "metadata": {},
   "outputs": [],
   "source": []
  }
 ],
 "metadata": {
  "kernelspec": {
   "display_name": "Python 3",
   "language": "python",
   "name": "python3"
  },
  "language_info": {
   "codemirror_mode": {
    "name": "ipython",
    "version": 3
   },
   "file_extension": ".py",
   "mimetype": "text/x-python",
   "name": "python",
   "nbconvert_exporter": "python",
   "pygments_lexer": "ipython3",
   "version": "3.7.3"
  }
 },
 "nbformat": 4,
 "nbformat_minor": 2
}
