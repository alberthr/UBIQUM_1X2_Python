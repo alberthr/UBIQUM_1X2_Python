{
 "cells": [
  {
   "cell_type": "code",
   "execution_count": 1,
   "metadata": {},
   "outputs": [
    {
     "data": {
      "text/plain": [
       "'C:\\\\Users\\\\Albert\\\\Desktop\\\\DATA SCIENCE\\\\UBIQUM\\\\UBIQUM_1X2_Python\\\\notebooks'"
      ]
     },
     "execution_count": 1,
     "metadata": {},
     "output_type": "execute_result"
    }
   ],
   "source": [
    "import os\n",
    "os.getcwd()"
   ]
  },
  {
   "cell_type": "code",
   "execution_count": 2,
   "metadata": {},
   "outputs": [],
   "source": [
    "import pandas as pd\n",
    "\n",
    "xl = pd.ExcelFile('../bbdd/FULL_BBDD_only_results.xlsx')\n",
    "df = xl.parse(xl.sheet_names[0])"
   ]
  },
  {
   "cell_type": "code",
   "execution_count": 3,
   "metadata": {},
   "outputs": [
    {
     "data": {
      "text/html": [
       "<div>\n",
       "<style scoped>\n",
       "    .dataframe tbody tr th:only-of-type {\n",
       "        vertical-align: middle;\n",
       "    }\n",
       "\n",
       "    .dataframe tbody tr th {\n",
       "        vertical-align: top;\n",
       "    }\n",
       "\n",
       "    .dataframe thead th {\n",
       "        text-align: right;\n",
       "    }\n",
       "</style>\n",
       "<table border=\"1\" class=\"dataframe\">\n",
       "  <thead>\n",
       "    <tr style=\"text-align: right;\">\n",
       "      <th></th>\n",
       "      <th>TEMPORADA</th>\n",
       "      <th>LIGA</th>\n",
       "      <th>JORNADA</th>\n",
       "      <th>FECHA</th>\n",
       "      <th>LOCAL</th>\n",
       "      <th>VISITANTE</th>\n",
       "      <th>GOL L</th>\n",
       "      <th>GOL V</th>\n",
       "      <th>ARBITRO</th>\n",
       "      <th>QUINIELA</th>\n",
       "    </tr>\n",
       "  </thead>\n",
       "  <tbody>\n",
       "    <tr>\n",
       "      <th>0</th>\n",
       "      <td>1999</td>\n",
       "      <td>1</td>\n",
       "      <td>1</td>\n",
       "      <td>1999-08-21</td>\n",
       "      <td>Mallorca</td>\n",
       "      <td>Real Madrid</td>\n",
       "      <td>1</td>\n",
       "      <td>2</td>\n",
       "      <td>LOSANTOS OMAR</td>\n",
       "      <td>2</td>\n",
       "    </tr>\n",
       "    <tr>\n",
       "      <th>1</th>\n",
       "      <td>1999</td>\n",
       "      <td>1</td>\n",
       "      <td>1</td>\n",
       "      <td>1999-08-21</td>\n",
       "      <td>Athletic Club</td>\n",
       "      <td>Real Betis</td>\n",
       "      <td>1</td>\n",
       "      <td>0</td>\n",
       "      <td>MEJUTO GONZALEZ</td>\n",
       "      <td>1</td>\n",
       "    </tr>\n",
       "    <tr>\n",
       "      <th>2</th>\n",
       "      <td>1999</td>\n",
       "      <td>2</td>\n",
       "      <td>1</td>\n",
       "      <td>1999-08-21</td>\n",
       "      <td>Leganes</td>\n",
       "      <td>Mérida C.P.</td>\n",
       "      <td>1</td>\n",
       "      <td>1</td>\n",
       "      <td>NAVAS LASA</td>\n",
       "      <td>X</td>\n",
       "    </tr>\n",
       "    <tr>\n",
       "      <th>3</th>\n",
       "      <td>1999</td>\n",
       "      <td>1</td>\n",
       "      <td>1</td>\n",
       "      <td>1999-08-21</td>\n",
       "      <td>Valencia</td>\n",
       "      <td>Racing Santander</td>\n",
       "      <td>1</td>\n",
       "      <td>2</td>\n",
       "      <td>PRADOS GARCIA</td>\n",
       "      <td>2</td>\n",
       "    </tr>\n",
       "    <tr>\n",
       "      <th>4</th>\n",
       "      <td>1999</td>\n",
       "      <td>2</td>\n",
       "      <td>1</td>\n",
       "      <td>1999-08-21</td>\n",
       "      <td>U.E. Lleida</td>\n",
       "      <td>Villarreal</td>\n",
       "      <td>2</td>\n",
       "      <td>2</td>\n",
       "      <td>RUBIO INIESTA</td>\n",
       "      <td>X</td>\n",
       "    </tr>\n",
       "  </tbody>\n",
       "</table>\n",
       "</div>"
      ],
      "text/plain": [
       "   TEMPORADA  LIGA  JORNADA      FECHA          LOCAL         VISITANTE  \\\n",
       "0       1999     1        1 1999-08-21       Mallorca       Real Madrid   \n",
       "1       1999     1        1 1999-08-21  Athletic Club        Real Betis   \n",
       "2       1999     2        1 1999-08-21        Leganes       Mérida C.P.   \n",
       "3       1999     1        1 1999-08-21       Valencia  Racing Santander   \n",
       "4       1999     2        1 1999-08-21    U.E. Lleida        Villarreal   \n",
       "\n",
       "   GOL L  GOL V          ARBITRO QUINIELA  \n",
       "0      1      2    LOSANTOS OMAR        2  \n",
       "1      1      0  MEJUTO GONZALEZ        1  \n",
       "2      1      1       NAVAS LASA        X  \n",
       "3      1      2    PRADOS GARCIA        2  \n",
       "4      2      2    RUBIO INIESTA        X  "
      ]
     },
     "execution_count": 3,
     "metadata": {},
     "output_type": "execute_result"
    }
   ],
   "source": [
    "df.head()"
   ]
  },
  {
   "cell_type": "code",
   "execution_count": 4,
   "metadata": {},
   "outputs": [
    {
     "name": "stdout",
     "output_type": "stream",
     "text": [
      "2019-06-09 00:00:00\n"
     ]
    }
   ],
   "source": [
    "maxdate = max(df.FECHA)\n",
    "print(maxdate)"
   ]
  },
  {
   "cell_type": "markdown",
   "metadata": {},
   "source": [
    "### Import new data"
   ]
  },
  {
   "cell_type": "markdown",
   "metadata": {},
   "source": [
    "Start by retrieving the whole current season"
   ]
  },
  {
   "cell_type": "code",
   "execution_count": 5,
   "metadata": {},
   "outputs": [],
   "source": [
    "import requests\n",
    "headers = {'x-rapidapi-key': \"28d61524ab5698a1f8edb9e9ed577221\"}\n",
    "\n",
    "league_1 = requests.request(\"GET\", \"https://server1.api-football.com/fixtures/league/775\", headers=headers).json()\n",
    "league_2 = requests.request(\"GET\", \"https://server1.api-football.com/fixtures/league/776\", headers=headers).json()"
   ]
  },
  {
   "cell_type": "markdown",
   "metadata": {},
   "source": [
    "Get only games which are not in the database and are already finished"
   ]
  },
  {
   "cell_type": "code",
   "execution_count": 40,
   "metadata": {},
   "outputs": [],
   "source": [
    "FECHA = []\n",
    "LOCAL = []\n",
    "VISITANTE = []\n",
    "ARBITRO = []\n",
    "GOL_L = []\n",
    "GOL_V = []\n",
    "TEMPORADA = []\n",
    "LIGA = []\n",
    "JORNADA = []  \n",
    "QUINIELA = []\n",
    "\n",
    "import datetime\n",
    "\n",
    "for i in league_1['api']['fixtures']:\n",
    "    if (datetime.datetime.strptime(i['event_date'][:10], '%Y-%m-%d') > maxdate) and (i['status']=='Match Finished'):\n",
    "            FECHA.append(datetime.datetime.strptime(i['event_date'][:10], '%Y-%m-%d'))\n",
    "            LOCAL.append(i['homeTeam']['team_name'])\n",
    "            VISITANTE.append(i['awayTeam']['team_name'])\n",
    "            ARBITRO.append('-') if i['referee'] == None else ARBITRO.append(i['referee'])\n",
    "            GOL_L.append(i['goalsHomeTeam'])\n",
    "            GOL_V.append(i['goalsAwayTeam'])\n",
    "            JORNADA.append(int(i['round'][17:]))\n",
    "            LIGA.append(1)\n",
    "            TEMPORADA.append(2019)\n",
    "            QUINIELA.append('1') if i['goalsHomeTeam'] > i['goalsAwayTeam'] else QUINIELA.append('2') \\\n",
    "                    if i['goalsHomeTeam'] < i['goalsAwayTeam'] else QUINIELA.append('X')\n",
    "            \n",
    "for i in league_2['api']['fixtures']:\n",
    "    if (datetime.datetime.strptime(i['event_date'][:10], '%Y-%m-%d') > maxdate) and (i['status']=='Match Finished'):\n",
    "            FECHA.append(datetime.datetime.strptime(i['event_date'][:10], '%Y-%m-%d'))\n",
    "            LOCAL.append(i['homeTeam']['team_name'])\n",
    "            VISITANTE.append(i['awayTeam']['team_name'])\n",
    "            ARBITRO.append('-') if i['referee'] == None else ARBITRO.append(i['referee'])\n",
    "            GOL_L.append(i['goalsHomeTeam'])\n",
    "            GOL_V.append(int(i['goalsAwayTeam']))\n",
    "            JORNADA.append(i['round'][17:])\n",
    "            LIGA.append(2)\n",
    "            TEMPORADA.append(2019)\n",
    "            QUINIELA.append('1') if i['goalsHomeTeam'] > i['goalsAwayTeam'] else QUINIELA.append('2') \\\n",
    "                    if i['goalsHomeTeam'] < i['goalsAwayTeam'] else QUINIELA.append('X')"
   ]
  },
  {
   "cell_type": "code",
   "execution_count": 41,
   "metadata": {},
   "outputs": [],
   "source": [
    "import pandas as pd\n",
    "\n",
    "new = pd.DataFrame(list(zip(TEMPORADA, LIGA, JORNADA, FECHA, LOCAL, VISITANTE, GOL_L, GOL_V, ARBITRO, QUINIELA)), \n",
    "               columns =['TEMPORADA', 'LIGA', 'JORNADA', 'FECHA', 'LOCAL', 'VISITANTE', 'GOL L', 'GOL V', \n",
    "                         'ARBITRO', 'QUINIELA'])"
   ]
  },
  {
   "cell_type": "markdown",
   "metadata": {},
   "source": [
    "### Check names with dictionary"
   ]
  },
  {
   "cell_type": "markdown",
   "metadata": {},
   "source": [
    "Nothing should change with last dictionary during season, only with new season could appear new referees or teams"
   ]
  },
  {
   "cell_type": "code",
   "execution_count": 8,
   "metadata": {},
   "outputs": [],
   "source": [
    "import json\n",
    "\n",
    "with open('../bbdd/teams_dict.json') as json_file:\n",
    "    teams_dict = json.load(json_file)\n",
    "    \n",
    "with open('../bbdd/referees_dict.json') as json_file:\n",
    "    referees_dict = json.load(json_file)"
   ]
  },
  {
   "cell_type": "markdown",
   "metadata": {},
   "source": [
    "Update dictionary with new teams and referees"
   ]
  },
  {
   "cell_type": "code",
   "execution_count": 9,
   "metadata": {},
   "outputs": [],
   "source": [
    "save_r = False\n",
    "for i in new['ARBITRO']:\n",
    "    if i not in referees_dict:\n",
    "        referees_dict.update({i:i})\n",
    "        save_r = True"
   ]
  },
  {
   "cell_type": "code",
   "execution_count": 10,
   "metadata": {},
   "outputs": [],
   "source": [
    "save_t = False\n",
    "for i in new['LOCAL']:\n",
    "    if i not in teams_dict:\n",
    "        teams_dict.append({i:i})\n",
    "        save_t = True\n",
    "\n",
    "for i in new['VISITANTE']:\n",
    "    if i not in teams_dict:\n",
    "        teams_dict.append({i:i})\n",
    "        save_t = True"
   ]
  },
  {
   "cell_type": "code",
   "execution_count": 11,
   "metadata": {},
   "outputs": [],
   "source": [
    "new['LOCAL'] = [teams_dict[i] for i in new['LOCAL']]\n",
    "new['VISITANTE'] = [teams_dict[i] for i in new['VISITANTE']]\n",
    "new['ARBITRO'] = [referees_dict[i] for i in new['ARBITRO']]"
   ]
  },
  {
   "cell_type": "code",
   "execution_count": 12,
   "metadata": {},
   "outputs": [
    {
     "name": "stdout",
     "output_type": "stream",
     "text": [
      "False False\n"
     ]
    }
   ],
   "source": [
    "print(save_r, save_t)"
   ]
  },
  {
   "cell_type": "code",
   "execution_count": 13,
   "metadata": {},
   "outputs": [],
   "source": [
    "if save_r:\n",
    "    with open('../bbdd/referees_dict.json', 'w') as outfile:\n",
    "            json.dump(referees_dict, outfile)\n",
    "    \n",
    "if save_t:\n",
    "    with open('../bbdd/teams_dict.json', 'w') as outfile:\n",
    "            json.dump(teams_dict, outfile)"
   ]
  },
  {
   "cell_type": "markdown",
   "metadata": {},
   "source": [
    "### Update simpe dataframe with results"
   ]
  },
  {
   "cell_type": "markdown",
   "metadata": {},
   "source": [
    "Creo un nuevo dataframe que combina bbdd con nuevos partidos"
   ]
  },
  {
   "cell_type": "code",
   "execution_count": 14,
   "metadata": {},
   "outputs": [],
   "source": [
    "df_new = df.append(new, ignore_index=True, sort=False)"
   ]
  },
  {
   "cell_type": "code",
   "execution_count": 33,
   "metadata": {},
   "outputs": [],
   "source": [
    "df_new.to_excel(\"../bbdd/FULL_BBDD_only_results.xlsx\", index=False)"
   ]
  },
  {
   "cell_type": "markdown",
   "metadata": {},
   "source": [
    "### Create additional features for new games"
   ]
  },
  {
   "cell_type": "markdown",
   "metadata": {},
   "source": [
    "Load the functions to create the additional features"
   ]
  },
  {
   "cell_type": "code",
   "execution_count": 15,
   "metadata": {},
   "outputs": [],
   "source": [
    "# last n games of home or away team\n",
    "\n",
    "def last_games(df, league, team, date, season, ngames):\n",
    "    select = df[(df['LIGA']==league) & ((df['LOCAL']==team) | (df['VISITANTE']==team)) & \n",
    "            (df['FECHA'] < date) & (df['TEMPORADA']==season)][:ngames]\n",
    "    games = select.shape[0] + 1/2\n",
    "    WINS = (sum(select['QUINIELA'][select.LOCAL==team]=='1') + sum(select['QUINIELA'][select.VISITANTE==team]=='2') + 1/6)/games\n",
    "    DRAW = (sum(select['QUINIELA']=='X') + 1/6)/games\n",
    "    LOSE = (1 - WINS - DRAW)\n",
    "    return(WINS, DRAW, LOSE)"
   ]
  },
  {
   "cell_type": "code",
   "execution_count": 16,
   "metadata": {},
   "outputs": [],
   "source": [
    "# total league. local as a local\n",
    "\n",
    "def league_local_local(df, league, home_team, date, season):\n",
    "    select = df[(df['LIGA']==league) & ((df['LOCAL']==home_team)) & \n",
    "            (df['FECHA'] < date) & (df['TEMPORADA']==season)]\n",
    "    games = select.shape[0] + 1/2\n",
    "    H_WINS = (sum(select['QUINIELA'][select.LOCAL==home_team]=='1') + 1/6)/games\n",
    "    H_DRAW = (sum(select['QUINIELA']=='X') + 1/6)/games\n",
    "    H_LOSE = (1 - H_WINS - H_DRAW)\n",
    "    return(H_WINS, H_DRAW, H_LOSE)"
   ]
  },
  {
   "cell_type": "code",
   "execution_count": 17,
   "metadata": {},
   "outputs": [],
   "source": [
    "# total league. visitor as a visitor\n",
    "\n",
    "def league_visitor_visitor(df, league, away_team, date, season):\n",
    "    select = df[(df['LIGA']==league) & ((df['VISITANTE']==away_team)) & \n",
    "            (df['FECHA'] < date) & (df['TEMPORADA']==season)]\n",
    "    games = select.shape[0] + 1/2\n",
    "    V_WINS = (sum(select['QUINIELA'][select.VISITANTE==away_team]=='2') + 1/6)/games\n",
    "    V_DRAW = (sum(select['QUINIELA']=='X') + 1/6)/games\n",
    "    V_LOSE = (1 - V_WINS - V_DRAW)\n",
    "    return(V_WINS, V_DRAW, V_LOSE)"
   ]
  },
  {
   "cell_type": "code",
   "execution_count": 18,
   "metadata": {},
   "outputs": [],
   "source": [
    "# h2h last 10 games total\n",
    "\n",
    "def h2h_10_hda(df, date, home_team, away_team):\n",
    "    select = df[(df['FECHA'] < date) & (((df['LOCAL']==home_team) & (df['VISITANTE']==away_team)) |  \n",
    "            ((df['LOCAL']==away_team) & (df['VISITANTE']==home_team)))][:10]\n",
    "    games = select.shape[0] + 1/2\n",
    "    HOME = (sum(select['QUINIELA'][select.LOCAL==home_team]=='1') + \n",
    "            sum(select['QUINIELA'][select.VISITANTE==home_team]=='2') + 1/6)/games\n",
    "    DRAW = (sum(select['QUINIELA']=='X') + 1/6)/games\n",
    "    AWAY = (1 - HOME - DRAW)\n",
    "    return(HOME, DRAW, AWAY)"
   ]
  },
  {
   "cell_type": "code",
   "execution_count": 19,
   "metadata": {},
   "outputs": [],
   "source": [
    "# h2h last 5 games with same home and away\n",
    "\n",
    "def h2h_5_homeaway(df, date, home_team, away_team):\n",
    "    select = df[(df['FECHA'] < date) & (df['LOCAL']==home_team) & (df['VISITANTE']==away_team)][:5]\n",
    "    games = select.shape[0] + 1/2\n",
    "    HOME = (sum(select['QUINIELA'][select.LOCAL==home_team]=='1') + 1/6)/games\n",
    "    DRAW = (sum(select['QUINIELA'][select.LOCAL==home_team]=='X') + 1/6)/games\n",
    "    AWAY = (1 - HOME - DRAW)\n",
    "    return(HOME, DRAW, AWAY)"
   ]
  },
  {
   "cell_type": "code",
   "execution_count": 20,
   "metadata": {},
   "outputs": [],
   "source": [
    "# referee: historical results\n",
    "\n",
    "def ref_team(df, date, team, referee):\n",
    "    select = df[(df['FECHA'] < date) & ((df['LOCAL']==team) | (df['VISITANTE']==team)) & (df['ARBITRO']==referee)]\n",
    "    games = select.shape[0] + 1/2\n",
    "    WINS = (sum(select['QUINIELA'][select.LOCAL==team]=='1') + \n",
    "            sum(select['QUINIELA'][select.VISITANTE==team]=='2') + 1/6)/games\n",
    "    DRAW = (sum(select['QUINIELA']=='X') + 1/6)/games\n",
    "    LOSE = (1 - WINS - DRAW)\n",
    "    return(WINS, DRAW, LOSE)"
   ]
  },
  {
   "cell_type": "code",
   "execution_count": 21,
   "metadata": {},
   "outputs": [],
   "source": [
    "# referee: historical results with home team at home\n",
    "\n",
    "def ref_home_home(df, date, home_team, referee):\n",
    "    select = df[(df['FECHA'] < date) & (df['LOCAL']==home_team) & (df['ARBITRO']==referee)]\n",
    "    games = select.shape[0] + 1/2\n",
    "    WINS = (sum(select['QUINIELA'][select.LOCAL==home_team]=='1') + \n",
    "            sum(select['QUINIELA'][select.VISITANTE==home_team]=='2') + 1/6)/games\n",
    "    DRAW = (sum(select['QUINIELA']=='X') + 1/6)/games\n",
    "    LOSE = (1 - WINS - DRAW)\n",
    "    return(WINS, DRAW, LOSE)"
   ]
  },
  {
   "cell_type": "code",
   "execution_count": 22,
   "metadata": {},
   "outputs": [],
   "source": [
    "# referee: historical results with away team playing away\n",
    "\n",
    "def ref_away_away(df, date, away_team, referee): \n",
    "    select = df[(df['FECHA'] < date) & (df['VISITANTE']==away_team) & (df['ARBITRO']==referee)]\n",
    "    games = select.shape[0] + 1/2\n",
    "    WINS = (sum(select['QUINIELA'][select.LOCAL==away_team]=='1') + \n",
    "            sum(select['QUINIELA'][select.VISITANTE==away_team]=='2') + 1/6)/games\n",
    "    DRAW = (sum(select['QUINIELA']=='X') + 1/6)/games\n",
    "    LOSE = (1 - WINS - DRAW)\n",
    "    return(WINS, DRAW, LOSE)"
   ]
  },
  {
   "cell_type": "code",
   "execution_count": 23,
   "metadata": {},
   "outputs": [],
   "source": [
    "new['last2_hometeam_wdl'] = new.apply(lambda x: last_games(df_new, x[1], x[4], x[3], x[0], 2), axis=1)\n",
    "new['last5_hometeam_wdl'] = new.apply(lambda x: last_games(df_new, x[1], x[4], x[3], x[0], 5), axis=1)\n",
    "new['last10_hometeam_wdl'] = new.apply(lambda x: last_games(df_new, x[1], x[4], x[3], x[0], 10), axis=1)"
   ]
  },
  {
   "cell_type": "code",
   "execution_count": 24,
   "metadata": {},
   "outputs": [],
   "source": [
    "new['last2_awayteam_wdl'] = new.apply(lambda x: last_games(df_new, x[1], x[5], x[3], x[0], 2), axis=1)\n",
    "new['last5_awayteam_wdl'] = new.apply(lambda x: last_games(df_new, x[1], x[5], x[3], x[0], 5), axis=1)\n",
    "new['last10_awayteam_wdl'] = new.apply(lambda x: last_games(df_new, x[1], x[5], x[3], x[0], 10), axis=1)"
   ]
  },
  {
   "cell_type": "code",
   "execution_count": 25,
   "metadata": {},
   "outputs": [],
   "source": [
    "new['league_local_local_wdl'] = new.apply(lambda x: league_local_local(df_new, x[1], x[4], x[3], x[0]), axis=1)\n",
    "new['league_visitor_visitor_wdl'] = new.apply(lambda x: league_visitor_visitor(df_new, x[1], x[5], x[3], x[0]), axis=1)"
   ]
  },
  {
   "cell_type": "code",
   "execution_count": 26,
   "metadata": {},
   "outputs": [],
   "source": [
    "new['h2h_last_10_hda'] = new.apply(lambda x: h2h_10_hda(df_new, x[3], x[4], x[5]), axis=1)\n",
    "new['h2h_5_homeaway_hda'] = new.apply(lambda x: h2h_5_homeaway(df_new, x[3], x[4], x[5]), axis=1)"
   ]
  },
  {
   "cell_type": "code",
   "execution_count": 27,
   "metadata": {},
   "outputs": [],
   "source": [
    "new['ref_hometeam_wdl'] = new.apply(lambda x: ref_team(df_new, x[3], x[4], x[8]), axis=1)\n",
    "new['ref_awayteam_wdl'] = new.apply(lambda x: ref_team(df_new, x[3], x[5], x[8]), axis=1)"
   ]
  },
  {
   "cell_type": "code",
   "execution_count": 28,
   "metadata": {},
   "outputs": [],
   "source": [
    "new['ref_home_home_wdl'] = new.apply(lambda x: ref_home_home(df_new, x[3], x[4], x[8]), axis=1)\n",
    "new['ref_away_away_wdl'] = new.apply(lambda x: ref_away_away(df_new, x[3], x[5], x[8]), axis=1)"
   ]
  },
  {
   "cell_type": "markdown",
   "metadata": {},
   "source": [
    "### Split tuples into columns and delete tuples"
   ]
  },
  {
   "cell_type": "code",
   "execution_count": 29,
   "metadata": {},
   "outputs": [],
   "source": [
    "columns = list(new.columns[[x[-3:] in ['wdl','hda'] for x in new.columns]])"
   ]
  },
  {
   "cell_type": "code",
   "execution_count": 30,
   "metadata": {},
   "outputs": [],
   "source": [
    "for i in columns:\n",
    "    field_type = i[-3:]\n",
    "    name1 = i[:-3] + field_type[0]\n",
    "    name2 = i[:-3] + field_type[1]\n",
    "    name3 = i[:-3] + field_type[2]\n",
    "    \n",
    "    new[name1] = new[i].apply(lambda x: x[0])\n",
    "    new[name2] = new[i].apply(lambda x: x[1])\n",
    "    new[name3] = new[i].apply(lambda x: x[2])"
   ]
  },
  {
   "cell_type": "code",
   "execution_count": 31,
   "metadata": {},
   "outputs": [],
   "source": [
    "new.drop(columns, inplace=True, axis=1)"
   ]
  },
  {
   "cell_type": "code",
   "execution_count": 32,
   "metadata": {},
   "outputs": [
    {
     "data": {
      "text/plain": [
       "Index(['TEMPORADA', 'LIGA', 'JORNADA', 'FECHA', 'LOCAL', 'VISITANTE', 'GOL L',\n",
       "       'GOL V', 'ARBITRO', 'QUINIELA', 'last2_hometeam_w', 'last2_hometeam_d',\n",
       "       'last2_hometeam_l', 'last5_hometeam_w', 'last5_hometeam_d',\n",
       "       'last5_hometeam_l', 'last10_hometeam_w', 'last10_hometeam_d',\n",
       "       'last10_hometeam_l', 'last2_awayteam_w', 'last2_awayteam_d',\n",
       "       'last2_awayteam_l', 'last5_awayteam_w', 'last5_awayteam_d',\n",
       "       'last5_awayteam_l', 'last10_awayteam_w', 'last10_awayteam_d',\n",
       "       'last10_awayteam_l', 'league_local_local_w', 'league_local_local_d',\n",
       "       'league_local_local_l', 'league_visitor_visitor_w',\n",
       "       'league_visitor_visitor_d', 'league_visitor_visitor_l', 'h2h_last_10_h',\n",
       "       'h2h_last_10_d', 'h2h_last_10_a', 'h2h_5_homeaway_h',\n",
       "       'h2h_5_homeaway_d', 'h2h_5_homeaway_a', 'ref_hometeam_w',\n",
       "       'ref_hometeam_d', 'ref_hometeam_l', 'ref_awayteam_w', 'ref_awayteam_d',\n",
       "       'ref_awayteam_l', 'ref_home_home_w', 'ref_home_home_d',\n",
       "       'ref_home_home_l', 'ref_away_away_w', 'ref_away_away_d',\n",
       "       'ref_away_away_l'],\n",
       "      dtype='object')"
      ]
     },
     "execution_count": 32,
     "metadata": {},
     "output_type": "execute_result"
    }
   ],
   "source": [
    "new.columns"
   ]
  },
  {
   "cell_type": "code",
   "execution_count": 35,
   "metadata": {},
   "outputs": [
    {
     "data": {
      "text/plain": [
       "(388, 52)"
      ]
     },
     "execution_count": 35,
     "metadata": {},
     "output_type": "execute_result"
    }
   ],
   "source": [
    "new.shape"
   ]
  },
  {
   "cell_type": "code",
   "execution_count": 36,
   "metadata": {},
   "outputs": [],
   "source": [
    "xl = pd.ExcelFile('../bbdd/FULL_BBDD_with_features.xlsx')\n",
    "df = xl.parse(xl.sheet_names[0])"
   ]
  },
  {
   "cell_type": "code",
   "execution_count": 37,
   "metadata": {},
   "outputs": [],
   "source": [
    "df_new = df.append(new, ignore_index=True, sort=False)"
   ]
  },
  {
   "cell_type": "code",
   "execution_count": 38,
   "metadata": {},
   "outputs": [
    {
     "data": {
      "text/plain": [
       "(17228, 52)"
      ]
     },
     "execution_count": 38,
     "metadata": {},
     "output_type": "execute_result"
    }
   ],
   "source": [
    "df_new.shape"
   ]
  },
  {
   "cell_type": "code",
   "execution_count": 39,
   "metadata": {},
   "outputs": [],
   "source": [
    "df_new.to_excel(\"../bbdd/FULL_BBDD_with_features.xlsx\", index=False)"
   ]
  }
 ],
 "metadata": {
  "kernelspec": {
   "display_name": "Python 3",
   "language": "python",
   "name": "python3"
  },
  "language_info": {
   "codemirror_mode": {
    "name": "ipython",
    "version": 3
   },
   "file_extension": ".py",
   "mimetype": "text/x-python",
   "name": "python",
   "nbconvert_exporter": "python",
   "pygments_lexer": "ipython3",
   "version": "3.7.4"
  }
 },
 "nbformat": 4,
 "nbformat_minor": 2
}
