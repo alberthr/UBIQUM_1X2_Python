{
 "cells": [
  {
   "cell_type": "code",
   "execution_count": 7,
   "metadata": {},
   "outputs": [
    {
     "data": {
      "text/plain": [
       "'C:\\\\Users\\\\T420\\\\Desktop\\\\UBIQUM\\\\5 PROJECT\\\\Quiniela\\\\notebooks'"
      ]
     },
     "execution_count": 7,
     "metadata": {},
     "output_type": "execute_result"
    }
   ],
   "source": [
    "import os\n",
    "os.getcwd()"
   ]
  },
  {
   "cell_type": "code",
   "execution_count": 8,
   "metadata": {},
   "outputs": [],
   "source": [
    "import pandas as pd\n",
    "\n",
    "xl = pd.ExcelFile('../bbdd/FULL_BBDD_with_features.xlsx')\n",
    "df = xl.parse(xl.sheet_names[0])"
   ]
  },
  {
   "cell_type": "code",
   "execution_count": 9,
   "metadata": {},
   "outputs": [
    {
     "data": {
      "text/plain": [
       "Index(['TEMPORADA', 'LIGA', 'JORNADA', 'FECHA', 'LOCAL', 'VISITANTE', 'GOL L',\n",
       "       'GOL V', 'ARBITRO', 'QUINIELA', 'last2_hometeam_w', 'last2_hometeam_d',\n",
       "       'last2_hometeam_l', 'last5_hometeam_w', 'last5_hometeam_d',\n",
       "       'last5_hometeam_l', 'last10_hometeam_w', 'last10_hometeam_d',\n",
       "       'last10_hometeam_l', 'last2_awayteam_w', 'last2_awayteam_d',\n",
       "       'last2_awayteam_l', 'last5_awayteam_w', 'last5_awayteam_d',\n",
       "       'last5_awayteam_l', 'last10_awayteam_w', 'last10_awayteam_d',\n",
       "       'last10_awayteam_l', 'league_local_local_w', 'league_local_local_d',\n",
       "       'league_local_local_l', 'league_visitor_visitor_w',\n",
       "       'league_visitor_visitor_d', 'league_visitor_visitor_l', 'h2h_last_10_h',\n",
       "       'h2h_last_10_d', 'h2h_last_10_a', 'h2h_5_homeaway_h',\n",
       "       'h2h_5_homeaway_d', 'h2h_5_homeaway_a', 'ref_hometeam_w',\n",
       "       'ref_hometeam_d', 'ref_hometeam_l', 'ref_awayteam_w', 'ref_awayteam_d',\n",
       "       'ref_awayteam_l', 'ref_home_home_w', 'ref_home_home_d',\n",
       "       'ref_home_home_l', 'ref_away_away_w', 'ref_away_away_d',\n",
       "       'ref_away_away_l'],\n",
       "      dtype='object')"
      ]
     },
     "execution_count": 9,
     "metadata": {},
     "output_type": "execute_result"
    }
   ],
   "source": [
    "df.columns"
   ]
  },
  {
   "cell_type": "markdown",
   "metadata": {},
   "source": [
    "### Preparing models (create train and test, scaling, filtering information)"
   ]
  },
  {
   "cell_type": "code",
   "execution_count": 10,
   "metadata": {},
   "outputs": [],
   "source": [
    "from sklearn.model_selection import train_test_split\n",
    "from sklearn.preprocessing import scale"
   ]
  },
  {
   "cell_type": "markdown",
   "metadata": {},
   "source": [
    "Select what part of the dataframe i want to model and create the final dataframe"
   ]
  },
  {
   "cell_type": "code",
   "execution_count": 14,
   "metadata": {},
   "outputs": [],
   "source": [
    "jornada_cut = 10\n",
    "league_selec = 1\n",
    "selec = df[(df['JORNADA']>=jornada_cut) & (df['LIGA'] == league_selec)]"
   ]
  },
  {
   "cell_type": "code",
   "execution_count": 15,
   "metadata": {},
   "outputs": [],
   "source": [
    "dummy1 = pd.get_dummies(selec.LOCAL)\n",
    "dummy2 = pd.get_dummies(selec.VISITANTE)\n",
    "dummy2.columns = [i+\"_2\" for i in dummy2.columns]"
   ]
  },
  {
   "cell_type": "code",
   "execution_count": 16,
   "metadata": {},
   "outputs": [],
   "source": [
    "x_col = list(selec.columns[[((i[-2:] in ['_l', '_w', '_d', '_h','_a' ]) | (i in dummy1.columns) |  \n",
    "                             (i in dummy2.columns)) for i in list(selec.columns)]])\n",
    "X = selec[x_col]\n",
    "y = selec['QUINIELA']"
   ]
  },
  {
   "cell_type": "markdown",
   "metadata": {},
   "source": [
    "Create the train and testing set after scaling it, just in case i apply a distance based ML model."
   ]
  },
  {
   "cell_type": "code",
   "execution_count": 18,
   "metadata": {},
   "outputs": [],
   "source": [
    "X_train, X_test, y_train, y_test = train_test_split(X, y, test_size=0.30, random_state=100)"
   ]
  },
  {
   "cell_type": "markdown",
   "metadata": {},
   "source": [
    "### Apply models (RF, GBT, KNN, SVM, XGB, ETC)"
   ]
  },
  {
   "cell_type": "markdown",
   "metadata": {},
   "source": [
    "##### Random Forest"
   ]
  },
  {
   "cell_type": "code",
   "execution_count": 19,
   "metadata": {
    "scrolled": true
   },
   "outputs": [
    {
     "name": "stdout",
     "output_type": "stream",
     "text": [
      "              precision    recall  f1-score   support\n",
      "\n",
      "           1       0.52      0.83      0.64       851\n",
      "           2       0.46      0.28      0.35       471\n",
      "           X       0.21      0.05      0.09       442\n",
      "\n",
      "    accuracy                           0.49      1764\n",
      "   macro avg       0.40      0.39      0.36      1764\n",
      "weighted avg       0.43      0.49      0.43      1764\n",
      "\n",
      "Accuracy: 0.4921 | Kappa: 0.1063\n"
     ]
    }
   ],
   "source": [
    "from sklearn.ensemble import RandomForestClassifier\n",
    "from sklearn.metrics import make_scorer, accuracy_score, cohen_kappa_score, confusion_matrix, classification_report\n",
    "from sklearn.model_selection import GridSearchCV\n",
    "\n",
    "# model\n",
    "rfc = RandomForestClassifier(n_estimators=100, random_state=88)\n",
    "rfc.fit(X_train, y_train)\n",
    "\n",
    "# prediction\n",
    "predsrfc = rfc.predict(X_test)\n",
    "\n",
    "# results\n",
    "print(classification_report(y_test, predsrfc))\n",
    "print('Accuracy:', round(accuracy_score(y_test, predsrfc),4), \"|\", \"Kappa:\", round(cohen_kappa_score(y_test, predsrfc),4))"
   ]
  },
  {
   "cell_type": "code",
   "execution_count": 20,
   "metadata": {
    "scrolled": true
   },
   "outputs": [
    {
     "data": {
      "text/plain": [
       "<matplotlib.legend.Legend at 0x248213dd348>"
      ]
     },
     "execution_count": 20,
     "metadata": {},
     "output_type": "execute_result"
    }
   ],
   "source": [
    "import matplotlib.pyplot as plt\n",
    "h = rfc.predict_proba(X_test)[:,0]\n",
    "a = rfc.predict_proba(X_test)[:,1]\n",
    "d = rfc.predict_proba(X_test)[:,2]\n",
    "plt.hist(h, bins = 20, alpha = 0.3, label='home')\n",
    "plt.hist(a, bins = 20, alpha = 0.3, label='away')\n",
    "plt.hist(d, bins = 20, alpha = 0.3, label='draw')\n",
    "plt.legend()"
   ]
  },
  {
   "cell_type": "markdown",
   "metadata": {},
   "source": [
    "##### SVM"
   ]
  },
  {
   "cell_type": "code",
   "execution_count": 21,
   "metadata": {
    "scrolled": true
   },
   "outputs": [
    {
     "name": "stdout",
     "output_type": "stream",
     "text": [
      "Accuracy: 0.5113 | Kappa: 0.1102\n"
     ]
    }
   ],
   "source": [
    "from sklearn import svm\n",
    "\n",
    "clf = svm.SVC(kernel='linear', random_state=88, probability=True)\n",
    "clf.fit(X_train, y_train)\n",
    "predssvm = clf.predict(X_test)\n",
    "print('Accuracy:', round(accuracy_score(y_test, predssvm),4), \"|\", \"Kappa:\", round(cohen_kappa_score(y_test, predssvm),4))"
   ]
  },
  {
   "cell_type": "code",
   "execution_count": 22,
   "metadata": {
    "scrolled": true
   },
   "outputs": [
    {
     "data": {
      "text/plain": [
       "<matplotlib.legend.Legend at 0x24820f2bcc8>"
      ]
     },
     "execution_count": 22,
     "metadata": {},
     "output_type": "execute_result"
    },
    {
     "data": {
      "image/png": "[encoded data removed]",
      "text/plain": [
       "<Figure size 432x288 with 1 Axes>"
      ]
     },
     "metadata": {
      "needs_background": "light"
     },
     "output_type": "display_data"
    }
   ],
   "source": [
    "import matplotlib.pyplot as plt\n",
    "h = clf.predict_proba(X_test)[:,0]\n",
    "a = clf.predict_proba(X_test)[:,1]\n",
    "d = clf.predict_proba(X_test)[:,2]\n",
    "plt.hist(h, bins = 20, alpha = 0.3, label='home')\n",
    "plt.hist(a, bins = 20, alpha = 0.3, label='away')\n",
    "plt.hist(d, bins = 20, alpha = 0.3, label='draw')\n",
    "plt.legend()"
   ]
  },
  {
   "cell_type": "markdown",
   "metadata": {},
   "source": [
    "##### KNN"
   ]
  },
  {
   "cell_type": "code",
   "execution_count": 23,
   "metadata": {},
   "outputs": [
    {
     "name": "stdout",
     "output_type": "stream",
     "text": [
      "Accuracy: 0.4507 | Kappa: 0.0708\n"
     ]
    }
   ],
   "source": [
    "from sklearn.neighbors import KNeighborsClassifier\n",
    "\n",
    "clf = KNeighborsClassifier()\n",
    "clf.fit(X_train, y_train)\n",
    "predsknn = clf.predict(X_test)\n",
    "print('Accuracy:', round(accuracy_score(y_test, predsknn),4), \"|\", \"Kappa:\", round(cohen_kappa_score(y_test, predsknn),4))"
   ]
  },
  {
   "cell_type": "code",
   "execution_count": 24,
   "metadata": {
    "scrolled": true
   },
   "outputs": [
    {
     "data": {
      "text/plain": [
       "<matplotlib.legend.Legend at 0x2481fb78e48>"
      ]
     },
     "execution_count": 24,
     "metadata": {},
     "output_type": "execute_result"
    },
    {
     "data": {
      "image/png": "[encoded data removed]",
      "text/plain": [
       "<Figure size 432x288 with 1 Axes>"
      ]
     },
     "metadata": {
      "needs_background": "light"
     },
     "output_type": "display_data"
    }
   ],
   "source": [
    "import matplotlib.pyplot as plt\n",
    "h = clf.predict_proba(X_test)[:,0]\n",
    "a = clf.predict_proba(X_test)[:,1]\n",
    "d = clf.predict_proba(X_test)[:,2]\n",
    "plt.hist(h, bins = 20, alpha = 0.3, label='home')\n",
    "plt.hist(a, bins = 20, alpha = 0.3, label='away')\n",
    "plt.hist(d, bins = 20, alpha = 0.3, label='draw')\n",
    "plt.legend()"
   ]
  },
  {
   "cell_type": "markdown",
   "metadata": {},
   "source": [
    "##### Gradient Boosted Trees"
   ]
  },
  {
   "cell_type": "code",
   "execution_count": 25,
   "metadata": {},
   "outputs": [
    {
     "name": "stdout",
     "output_type": "stream",
     "text": [
      "Accuracy: 0.5096 | Kappa: 0.1309\n"
     ]
    }
   ],
   "source": [
    "from sklearn.ensemble import GradientBoostingClassifier\n",
    "\n",
    "clf = GradientBoostingClassifier()\n",
    "clf.fit(X_train, y_train)\n",
    "predsgbt = clf.predict(X_test)\n",
    "print('Accuracy:', round(accuracy_score(y_test, predsgbt),4), \"|\", \"Kappa:\", round(cohen_kappa_score(y_test, predsgbt),4))"
   ]
  },
  {
   "cell_type": "code",
   "execution_count": 26,
   "metadata": {
    "scrolled": true
   },
   "outputs": [
    {
     "data": {
      "text/plain": [
       "<matplotlib.legend.Legend at 0x2481ffe8388>"
      ]
     },
     "execution_count": 26,
     "metadata": {},
     "output_type": "execute_result"
    },
    {
     "data": {
      "image/png": "[encoded data removed]",
      "text/plain": [
       "<Figure size 432x288 with 1 Axes>"
      ]
     },
     "metadata": {
      "needs_background": "light"
     },
     "output_type": "display_data"
    }
   ],
   "source": [
    "import matplotlib.pyplot as plt\n",
    "h = clf.predict_proba(X_test)[:,0]\n",
    "a = clf.predict_proba(X_test)[:,1]\n",
    "d = clf.predict_proba(X_test)[:,2]\n",
    "plt.hist(h, bins = 20, alpha = 0.3, label='home')\n",
    "plt.hist(a, bins = 20, alpha = 0.3, label='away')\n",
    "plt.hist(d, bins = 20, alpha = 0.3, label='draw')\n",
    "plt.legend()"
   ]
  },
  {
   "cell_type": "markdown",
   "metadata": {},
   "source": [
    "##### XGB"
   ]
  },
  {
   "cell_type": "code",
   "execution_count": 27,
   "metadata": {},
   "outputs": [
    {
     "name": "stdout",
     "output_type": "stream",
     "text": [
      "Accuracy: 0.5074 | Kappa: 0.1162\n"
     ]
    }
   ],
   "source": [
    "import xgboost as xgb\n",
    "\n",
    "clf = xgb.XGBClassifier(objective=\"binary:logistic\", random_state=42)\n",
    "clf.fit(X_train, y_train)\n",
    "predsxgb = clf.predict(X_test)\n",
    "print('Accuracy:', round(accuracy_score(y_test, predsxgb),4), \"|\", \"Kappa:\", round(cohen_kappa_score(y_test, predsxgb),4))"
   ]
  },
  {
   "cell_type": "code",
   "execution_count": 28,
   "metadata": {
    "scrolled": false
   },
   "outputs": [
    {
     "data": {
      "text/plain": [
       "<matplotlib.legend.Legend at 0x2482071b548>"
      ]
     },
     "execution_count": 28,
     "metadata": {},
     "output_type": "execute_result"
    },
    {
     "data": {
      "image/png": "[encoded data removed]",
      "text/plain": [
       "<Figure size 432x288 with 1 Axes>"
      ]
     },
     "metadata": {
      "needs_background": "light"
     },
     "output_type": "display_data"
    }
   ],
   "source": [
    "import matplotlib.pyplot as plt\n",
    "h = clf.predict_proba(X_test)[:,0]\n",
    "a = clf.predict_proba(X_test)[:,1]\n",
    "d = clf.predict_proba(X_test)[:,2]\n",
    "plt.hist(h, bins = 20, alpha = 0.3, label='home')\n",
    "plt.hist(d, bins = 20, alpha = 0.3, label='draw')\n",
    "plt.hist(a, bins = 20, alpha = 0.3, label='away')\n",
    "plt.legend()"
   ]
  },
  {
   "cell_type": "markdown",
   "metadata": {},
   "source": [
    "##### Extra Trees Classifier"
   ]
  },
  {
   "cell_type": "code",
   "execution_count": 29,
   "metadata": {},
   "outputs": [
    {
     "name": "stdout",
     "output_type": "stream",
     "text": [
      "              precision    recall  f1-score   support\n",
      "\n",
      "           1       0.53      0.84      0.65       851\n",
      "           2       0.49      0.32      0.39       471\n",
      "           X       0.33      0.08      0.13       442\n",
      "\n",
      "    accuracy                           0.51      1764\n",
      "   macro avg       0.45      0.41      0.39      1764\n",
      "weighted avg       0.47      0.51      0.45      1764\n",
      "\n",
      "Accuracy: 0.5108 | Kappa: 0.1421\n"
     ]
    }
   ],
   "source": [
    "from sklearn.ensemble import ExtraTreesClassifier\n",
    "\n",
    "clf = ExtraTreesClassifier(n_estimators=100, random_state=42)\n",
    "clf.fit(X_train, y_train)\n",
    "predsxtc = clf.predict(X_test)\n",
    "print(classification_report(y_test, predsxtc))\n",
    "print('Accuracy:', round(accuracy_score(y_test, predsxtc),4), \"|\", \"Kappa:\", round(cohen_kappa_score(y_test, predsxtc),4))"
   ]
  },
  {
   "cell_type": "code",
   "execution_count": 30,
   "metadata": {
    "scrolled": false
   },
   "outputs": [
    {
     "data": {
      "text/plain": [
       "<matplotlib.legend.Legend at 0x24821115f88>"
      ]
     },
     "execution_count": 30,
     "metadata": {},
     "output_type": "execute_result"
    },
    {
     "data": {
      "image/png": "[encoded data removed]",
      "text/plain": [
       "<Figure size 432x288 with 1 Axes>"
      ]
     },
     "metadata": {
      "needs_background": "light"
     },
     "output_type": "display_data"
    }
   ],
   "source": [
    "import matplotlib.pyplot as plt\n",
    "h = clf.predict_proba(X_test)[:,0]\n",
    "a = clf.predict_proba(X_test)[:,1]\n",
    "d = clf.predict_proba(X_test)[:,2]\n",
    "plt.hist(h, bins = 20, alpha = 0.3, label='home')\n",
    "plt.hist(d, bins = 20, alpha = 0.3, label='draw')\n",
    "plt.hist(a, bins = 20, alpha = 0.3, label='away')\n",
    "plt.legend()"
   ]
  },
  {
   "cell_type": "code",
   "execution_count": 31,
   "metadata": {
    "scrolled": true
   },
   "outputs": [
    {
     "data": {
      "text/plain": [
       "last10_awayteam_w           0.029280\n",
       "league_visitor_visitor_w    0.029234\n",
       "league_local_local_w        0.028806\n",
       "league_visitor_visitor_l    0.028532\n",
       "league_local_local_l        0.028007\n",
       "dtype: float64"
      ]
     },
     "execution_count": 31,
     "metadata": {},
     "output_type": "execute_result"
    }
   ],
   "source": [
    "pd.Series(clf.feature_importances_, X.columns).sort_values(ascending=False). head()"
   ]
  },
  {
   "cell_type": "markdown",
   "metadata": {},
   "source": [
    "### Optimization of GBT model"
   ]
  },
  {
   "cell_type": "code",
   "execution_count": 32,
   "metadata": {},
   "outputs": [
    {
     "name": "stdout",
     "output_type": "stream",
     "text": [
      "Accuracy: 0.5096  |  Kappa: 0.1305  |  Estimators: 100  |  L-Rate 0.1  |  Min Split: 2  |  Min Leaf: 1  |  Max Depth: 3\n"
     ]
    }
   ],
   "source": [
    "from sklearn.ensemble import GradientBoostingClassifier\n",
    "from sklearn.metrics import make_scorer, accuracy_score\n",
    "from sklearn.model_selection import GridSearchCV\n",
    "import numpy as np\n",
    "\n",
    "clf = GradientBoostingClassifier(random_state=88)\n",
    "acc_scorer = make_scorer(accuracy_score)\n",
    "\n",
    "for n_est in [100]:\n",
    "    for l_rate in [0.1]:\n",
    "        for min_split in[2]:\n",
    "            for min_leaf in [1]:\n",
    "                for max_depth in [3]:\n",
    "                    parameters = {\"loss\":[\"deviance\"], \"learning_rate\": [l_rate], \"min_samples_split\": [min_split],\n",
    "                                  \"min_samples_leaf\": [min_leaf], \"max_depth\":[max_depth], \"subsample\":[1.0], \n",
    "                                  \"n_estimators\":[n_est]}\n",
    "                    grid_obj = GridSearchCV(clf, parameters, cv = 5, verbose = False,scoring=acc_scorer)\n",
    "                    grid_obj = grid_obj.fit(X_train, y_train)\n",
    "                    clf = grid_obj.best_estimator_\n",
    "                    clf.fit(X_train, y_train)\n",
    "                    predsgbt = clf.predict(X_test)\n",
    "                    print('Accuracy:', round(accuracy_score(y_test, predsgbt),4), \" | \", \"Kappa:\", \n",
    "                          round(cohen_kappa_score(y_test, predsgbt),4), \" |  Estimators:\",n_est, \" |  L-Rate\", l_rate, \n",
    "                          \" |  Min Split:\", min_split, \" |  Min Leaf:\", min_leaf, \" |  Max Depth:\", max_depth)"
   ]
  },
  {
   "cell_type": "markdown",
   "metadata": {},
   "source": [
    "### Optimization of RF model"
   ]
  },
  {
   "cell_type": "code",
   "execution_count": 33,
   "metadata": {},
   "outputs": [
    {
     "name": "stdout",
     "output_type": "stream",
     "text": [
      "Accuracy: 0.5119  |  Kappa: 0.1128  |  Estimators: 250  |  Max Depth: 12  |  Min Split: 3  |  Min Leaf: 2\n"
     ]
    }
   ],
   "source": [
    "from sklearn.metrics import make_scorer, accuracy_score\n",
    "from sklearn.model_selection import GridSearchCV\n",
    "\n",
    "clf = RandomForestClassifier(random_state=88)\n",
    "acc_scorer = make_scorer(accuracy_score)\n",
    "\n",
    "for n_est in [250]:\n",
    "    for max_depth in [12]:\n",
    "        for min_split in[3]:\n",
    "            for min_leaf in [2]:\n",
    "                parameters = {'n_estimators': [n_est], 'max_features': ['log2'], 'criterion': ['entropy'], \n",
    "                              'max_depth': [max_depth], 'min_samples_split': [min_split], \n",
    "                              'min_samples_leaf': [min_leaf]}\n",
    "                grid_obj = GridSearchCV(clf, parameters, cv = 5, verbose = False,scoring=acc_scorer)\n",
    "                grid_obj = grid_obj.fit(X_train, y_train)\n",
    "                clf = grid_obj.best_estimator_\n",
    "                clf.fit(X_train, y_train)\n",
    "                predsrf = clf.predict(X_test)\n",
    "                print('Accuracy:', round(accuracy_score(y_test, predsrf),4), \" | \", \"Kappa:\", \n",
    "                      round(cohen_kappa_score(y_test, predsrf),4), \" |  Estimators:\",n_est, \" |  Max Depth:\", max_depth, \n",
    "                      \" |  Min Split:\", min_split, \" |  Min Leaf:\", min_leaf)                "
   ]
  },
  {
   "cell_type": "code",
   "execution_count": 34,
   "metadata": {
    "scrolled": true
   },
   "outputs": [
    {
     "data": {
      "text/plain": [
       "<matplotlib.legend.Legend at 0x2481f1c7fc8>"
      ]
     },
     "execution_count": 34,
     "metadata": {},
     "output_type": "execute_result"
    },
    {
     "data": {
      "image/png": "[encoded data removed]",
      "text/plain": [
       "<Figure size 432x288 with 1 Axes>"
      ]
     },
     "metadata": {
      "needs_background": "light"
     },
     "output_type": "display_data"
    }
   ],
   "source": [
    "import matplotlib.pyplot as plt\n",
    "h = clf.predict_proba(X_test)[:,0]\n",
    "d = clf.predict_proba(X_test)[:,1]\n",
    "a = clf.predict_proba(X_test)[:,2]\n",
    "plt.hist(h, bins = 20, alpha = 0.3, label='home')\n",
    "plt.hist(d, bins = 20, alpha = 0.3, label='draw')\n",
    "plt.hist(a, bins = 20, alpha = 0.3, label='away')\n",
    "plt.legend()"
   ]
  },
  {
   "cell_type": "markdown",
   "metadata": {},
   "source": [
    "### Optimization of Extra Trees Classifier"
   ]
  },
  {
   "cell_type": "code",
   "execution_count": 35,
   "metadata": {},
   "outputs": [
    {
     "name": "stdout",
     "output_type": "stream",
     "text": [
      "Accuracy: 0.5108  |  Kappa: 0.1421  |  Estimators: 100  |  Max Depth: None  |  Min Split: 2  |  Min Leaf: 1\n"
     ]
    }
   ],
   "source": [
    "from sklearn.metrics import make_scorer, accuracy_score\n",
    "from sklearn.model_selection import GridSearchCV\n",
    "\n",
    "clf = ExtraTreesClassifier(random_state=42)\n",
    "acc_scorer = make_scorer(accuracy_score)\n",
    "\n",
    "for n_est in [100]:\n",
    "    for max_depth in [None]:\n",
    "        for min_split in[2]:\n",
    "            for min_leaf in [1]:\n",
    "                parameters = {'n_estimators': [n_est], 'max_features': ['auto'], 'criterion': ['gini'], \n",
    "                              'max_depth': [max_depth], 'min_samples_split': [min_split], \n",
    "                              'min_samples_leaf': [min_leaf]}\n",
    "                grid_obj = GridSearchCV(clf, parameters, cv = 5, verbose = False,scoring=acc_scorer)\n",
    "                grid_obj = grid_obj.fit(X_train, y_train)\n",
    "                clf = grid_obj.best_estimator_\n",
    "                clf.fit(X_train, y_train)\n",
    "                predsrf = clf.predict(X_test)\n",
    "                print('Accuracy:', round(accuracy_score(y_test, predsrf),4), \" | \", \"Kappa:\", \n",
    "                      round(cohen_kappa_score(y_test, predsrf),4), \" |  Estimators:\",n_est, \" |  Max Depth:\", max_depth, \n",
    "                      \" |  Min Split:\", min_split, \" |  Min Leaf:\", min_leaf)                "
   ]
  },
  {
   "cell_type": "code",
   "execution_count": 24,
   "metadata": {
    "scrolled": true
   },
   "outputs": [
    {
     "data": {
      "text/plain": [
       "<matplotlib.legend.Legend at 0x2eed8e98d88>"
      ]
     },
     "execution_count": 24,
     "metadata": {},
     "output_type": "execute_result"
    },
    {
     "data": {
      "image/png": "[encoded data removed]",
      "text/plain": [
       "<Figure size 432x288 with 1 Axes>"
      ]
     },
     "metadata": {
      "needs_background": "light"
     },
     "output_type": "display_data"
    }
   ],
   "source": [
    "import matplotlib.pyplot as plt\n",
    "h = clf.predict_proba(X_test)[:,0]\n",
    "d = clf.predict_proba(X_test)[:,1]\n",
    "a = clf.predict_proba(X_test)[:,2]\n",
    "plt.hist(h, bins = 20, alpha = 0.3, label='home')\n",
    "plt.hist(d, bins = 20, alpha = 0.3, label='draw')\n",
    "plt.hist(a, bins = 20, alpha = 0.3, label='away')\n",
    "plt.legend()"
   ]
  },
  {
   "cell_type": "code",
   "execution_count": null,
   "metadata": {},
   "outputs": [],
   "source": []
  }
 ],
 "metadata": {
  "kernelspec": {
   "display_name": "Python 3",
   "language": "python",
   "name": "python3"
  },
  "language_info": {
   "codemirror_mode": {
    "name": "ipython",
    "version": 3
   },
   "file_extension": ".py",
   "mimetype": "text/x-python",
   "name": "python",
   "nbconvert_exporter": "python",
   "pygments_lexer": "ipython3",
   "version": "3.7.4"
  }
 },
 "nbformat": 4,
 "nbformat_minor": 2
}
