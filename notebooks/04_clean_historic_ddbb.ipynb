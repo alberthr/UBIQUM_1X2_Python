{
 "cells": [
  {
   "cell_type": "code",
   "execution_count": 1,
   "metadata": {},
   "outputs": [
    {
     "data": {
      "text/plain": [
       "'C:\\\\Users\\\\Albert\\\\Desktop\\\\DATA SCIENCE\\\\UBIQUM\\\\UBIQUM_1X2_Python\\\\notebooks'"
      ]
     },
     "execution_count": 1,
     "metadata": {},
     "output_type": "execute_result"
    }
   ],
   "source": [
    "import os\n",
    "os.getcwd()"
   ]
  },
  {
   "cell_type": "code",
   "execution_count": 2,
   "metadata": {},
   "outputs": [
    {
     "name": "stdout",
     "output_type": "stream",
     "text": [
      "   TEMPORADA  LIGA  JORNADA      FECHA            LOCAL         VISITANTE  \\\n",
      "0       1999     1        1 1999-08-21  R.C.D. Mallorca  Real Madrid C.F.   \n",
      "1       1999     1        1 1999-08-21    Athletic Club  Real Betis B. S.   \n",
      "2       1999     2        1 1999-08-21     C.D. Leganés       Mérida C.P.   \n",
      "3       1999     1        1 1999-08-21    Valencia C.F.  Real Racing Club   \n",
      "4       1999     2        1 1999-08-21      U.E. Lleida   Villarreal C.F.   \n",
      "\n",
      "   GOL L  GOL V          ARBITRO  \n",
      "0      1      2    LOSANTOS OMAR  \n",
      "1      1      0  MEJUTO GONZALEZ  \n",
      "2      1      1       NAVAS LASA  \n",
      "3      1      2    PRADOS GARCIA  \n",
      "4      2      2    RUBIO INIESTA  \n"
     ]
    },
    {
     "data": {
      "text/plain": [
       "(16840, 9)"
      ]
     },
     "execution_count": 2,
     "metadata": {},
     "output_type": "execute_result"
    }
   ],
   "source": [
    "# read original database. json files / ditionaries will be used to change team names and referees so that\n",
    "# historical names and api information are the same\n",
    "\n",
    "import pandas as pd\n",
    "\n",
    "xl = pd.ExcelFile('../bbdd/FULL_BBDD_ORIGINAL.xls')\n",
    "df = xl.parse(xl.sheet_names[0])\n",
    "print(df.head())\n",
    "df.shape"
   ]
  },
  {
   "cell_type": "code",
   "execution_count": 3,
   "metadata": {},
   "outputs": [],
   "source": [
    "import json\n",
    "\n",
    "with open('../bbdd/teams_dict.json') as json_file:\n",
    "    teams_dict = json.load(json_file)\n",
    "    \n",
    "with open('../bbdd/referees_dict.json') as json_file:\n",
    "    referees_dict = json.load(json_file)"
   ]
  },
  {
   "cell_type": "code",
   "execution_count": 4,
   "metadata": {},
   "outputs": [
    {
     "data": {
      "text/plain": [
       "Index(['TEMPORADA', 'LIGA', 'JORNADA', 'FECHA', 'LOCAL', 'VISITANTE', 'GOL L',\n",
       "       'GOL V', 'ARBITRO'],\n",
       "      dtype='object')"
      ]
     },
     "execution_count": 4,
     "metadata": {},
     "output_type": "execute_result"
    }
   ],
   "source": [
    "df.columns"
   ]
  },
  {
   "cell_type": "code",
   "execution_count": 5,
   "metadata": {},
   "outputs": [],
   "source": [
    "df_correct = df.copy()\n",
    "df_correct['LOCAL'] = [teams_dict[i] for i in df['LOCAL']]\n",
    "df_correct['VISITANTE'] = [teams_dict[i] for i in df['VISITANTE']]\n",
    "df_correct['ARBITRO'] = [referees_dict[i] for i in df['ARBITRO']]"
   ]
  },
  {
   "cell_type": "code",
   "execution_count": 6,
   "metadata": {},
   "outputs": [
    {
     "data": {
      "text/html": [
       "<div>\n",
       "<style scoped>\n",
       "    .dataframe tbody tr th:only-of-type {\n",
       "        vertical-align: middle;\n",
       "    }\n",
       "\n",
       "    .dataframe tbody tr th {\n",
       "        vertical-align: top;\n",
       "    }\n",
       "\n",
       "    .dataframe thead th {\n",
       "        text-align: right;\n",
       "    }\n",
       "</style>\n",
       "<table border=\"1\" class=\"dataframe\">\n",
       "  <thead>\n",
       "    <tr style=\"text-align: right;\">\n",
       "      <th></th>\n",
       "      <th>TEMPORADA</th>\n",
       "      <th>LIGA</th>\n",
       "      <th>JORNADA</th>\n",
       "      <th>FECHA</th>\n",
       "      <th>LOCAL</th>\n",
       "      <th>VISITANTE</th>\n",
       "      <th>GOL L</th>\n",
       "      <th>GOL V</th>\n",
       "      <th>ARBITRO</th>\n",
       "    </tr>\n",
       "  </thead>\n",
       "  <tbody>\n",
       "    <tr>\n",
       "      <th>0</th>\n",
       "      <td>1999</td>\n",
       "      <td>1</td>\n",
       "      <td>1</td>\n",
       "      <td>1999-08-21</td>\n",
       "      <td>Mallorca</td>\n",
       "      <td>Real Madrid</td>\n",
       "      <td>1</td>\n",
       "      <td>2</td>\n",
       "      <td>LOSANTOS OMAR</td>\n",
       "    </tr>\n",
       "    <tr>\n",
       "      <th>1</th>\n",
       "      <td>1999</td>\n",
       "      <td>1</td>\n",
       "      <td>1</td>\n",
       "      <td>1999-08-21</td>\n",
       "      <td>Athletic Club</td>\n",
       "      <td>Real Betis</td>\n",
       "      <td>1</td>\n",
       "      <td>0</td>\n",
       "      <td>MEJUTO GONZALEZ</td>\n",
       "    </tr>\n",
       "    <tr>\n",
       "      <th>2</th>\n",
       "      <td>1999</td>\n",
       "      <td>2</td>\n",
       "      <td>1</td>\n",
       "      <td>1999-08-21</td>\n",
       "      <td>Leganes</td>\n",
       "      <td>Mérida C.P.</td>\n",
       "      <td>1</td>\n",
       "      <td>1</td>\n",
       "      <td>NAVAS LASA</td>\n",
       "    </tr>\n",
       "    <tr>\n",
       "      <th>3</th>\n",
       "      <td>1999</td>\n",
       "      <td>1</td>\n",
       "      <td>1</td>\n",
       "      <td>1999-08-21</td>\n",
       "      <td>Valencia</td>\n",
       "      <td>Racing Santander</td>\n",
       "      <td>1</td>\n",
       "      <td>2</td>\n",
       "      <td>PRADOS GARCIA</td>\n",
       "    </tr>\n",
       "    <tr>\n",
       "      <th>4</th>\n",
       "      <td>1999</td>\n",
       "      <td>2</td>\n",
       "      <td>1</td>\n",
       "      <td>1999-08-21</td>\n",
       "      <td>U.E. Lleida</td>\n",
       "      <td>Villarreal</td>\n",
       "      <td>2</td>\n",
       "      <td>2</td>\n",
       "      <td>RUBIO INIESTA</td>\n",
       "    </tr>\n",
       "  </tbody>\n",
       "</table>\n",
       "</div>"
      ],
      "text/plain": [
       "   TEMPORADA  LIGA  JORNADA      FECHA          LOCAL         VISITANTE  \\\n",
       "0       1999     1        1 1999-08-21       Mallorca       Real Madrid   \n",
       "1       1999     1        1 1999-08-21  Athletic Club        Real Betis   \n",
       "2       1999     2        1 1999-08-21        Leganes       Mérida C.P.   \n",
       "3       1999     1        1 1999-08-21       Valencia  Racing Santander   \n",
       "4       1999     2        1 1999-08-21    U.E. Lleida        Villarreal   \n",
       "\n",
       "   GOL L  GOL V          ARBITRO  \n",
       "0      1      2    LOSANTOS OMAR  \n",
       "1      1      0  MEJUTO GONZALEZ  \n",
       "2      1      1       NAVAS LASA  \n",
       "3      1      2    PRADOS GARCIA  \n",
       "4      2      2    RUBIO INIESTA  "
      ]
     },
     "execution_count": 6,
     "metadata": {},
     "output_type": "execute_result"
    }
   ],
   "source": [
    "df_correct.head()"
   ]
  },
  {
   "cell_type": "code",
   "execution_count": 11,
   "metadata": {},
   "outputs": [
    {
     "data": {
      "text/html": [
       "<div>\n",
       "<style scoped>\n",
       "    .dataframe tbody tr th:only-of-type {\n",
       "        vertical-align: middle;\n",
       "    }\n",
       "\n",
       "    .dataframe tbody tr th {\n",
       "        vertical-align: top;\n",
       "    }\n",
       "\n",
       "    .dataframe thead th {\n",
       "        text-align: right;\n",
       "    }\n",
       "</style>\n",
       "<table border=\"1\" class=\"dataframe\">\n",
       "  <thead>\n",
       "    <tr style=\"text-align: right;\">\n",
       "      <th></th>\n",
       "      <th>TEMPORADA</th>\n",
       "      <th>LIGA</th>\n",
       "      <th>JORNADA</th>\n",
       "      <th>FECHA</th>\n",
       "      <th>LOCAL</th>\n",
       "      <th>VISITANTE</th>\n",
       "      <th>GOL L</th>\n",
       "      <th>GOL V</th>\n",
       "      <th>ARBITRO</th>\n",
       "      <th>QUINIELA</th>\n",
       "    </tr>\n",
       "  </thead>\n",
       "  <tbody>\n",
       "    <tr>\n",
       "      <th>0</th>\n",
       "      <td>1999</td>\n",
       "      <td>1</td>\n",
       "      <td>1</td>\n",
       "      <td>1999-08-21</td>\n",
       "      <td>Mallorca</td>\n",
       "      <td>Real Madrid</td>\n",
       "      <td>1</td>\n",
       "      <td>2</td>\n",
       "      <td>LOSANTOS OMAR</td>\n",
       "      <td>2</td>\n",
       "    </tr>\n",
       "    <tr>\n",
       "      <th>1</th>\n",
       "      <td>1999</td>\n",
       "      <td>1</td>\n",
       "      <td>1</td>\n",
       "      <td>1999-08-21</td>\n",
       "      <td>Athletic Club</td>\n",
       "      <td>Real Betis</td>\n",
       "      <td>1</td>\n",
       "      <td>0</td>\n",
       "      <td>MEJUTO GONZALEZ</td>\n",
       "      <td>1</td>\n",
       "    </tr>\n",
       "    <tr>\n",
       "      <th>2</th>\n",
       "      <td>1999</td>\n",
       "      <td>2</td>\n",
       "      <td>1</td>\n",
       "      <td>1999-08-21</td>\n",
       "      <td>Leganes</td>\n",
       "      <td>Mérida C.P.</td>\n",
       "      <td>1</td>\n",
       "      <td>1</td>\n",
       "      <td>NAVAS LASA</td>\n",
       "      <td>X</td>\n",
       "    </tr>\n",
       "    <tr>\n",
       "      <th>3</th>\n",
       "      <td>1999</td>\n",
       "      <td>1</td>\n",
       "      <td>1</td>\n",
       "      <td>1999-08-21</td>\n",
       "      <td>Valencia</td>\n",
       "      <td>Racing Santander</td>\n",
       "      <td>1</td>\n",
       "      <td>2</td>\n",
       "      <td>PRADOS GARCIA</td>\n",
       "      <td>2</td>\n",
       "    </tr>\n",
       "    <tr>\n",
       "      <th>4</th>\n",
       "      <td>1999</td>\n",
       "      <td>2</td>\n",
       "      <td>1</td>\n",
       "      <td>1999-08-21</td>\n",
       "      <td>U.E. Lleida</td>\n",
       "      <td>Villarreal</td>\n",
       "      <td>2</td>\n",
       "      <td>2</td>\n",
       "      <td>RUBIO INIESTA</td>\n",
       "      <td>X</td>\n",
       "    </tr>\n",
       "  </tbody>\n",
       "</table>\n",
       "</div>"
      ],
      "text/plain": [
       "   TEMPORADA  LIGA  JORNADA      FECHA          LOCAL         VISITANTE  \\\n",
       "0       1999     1        1 1999-08-21       Mallorca       Real Madrid   \n",
       "1       1999     1        1 1999-08-21  Athletic Club        Real Betis   \n",
       "2       1999     2        1 1999-08-21        Leganes       Mérida C.P.   \n",
       "3       1999     1        1 1999-08-21       Valencia  Racing Santander   \n",
       "4       1999     2        1 1999-08-21    U.E. Lleida        Villarreal   \n",
       "\n",
       "   GOL L  GOL V          ARBITRO QUINIELA  \n",
       "0      1      2    LOSANTOS OMAR        2  \n",
       "1      1      0  MEJUTO GONZALEZ        1  \n",
       "2      1      1       NAVAS LASA        X  \n",
       "3      1      2    PRADOS GARCIA        2  \n",
       "4      2      2    RUBIO INIESTA        X  "
      ]
     },
     "execution_count": 11,
     "metadata": {},
     "output_type": "execute_result"
    }
   ],
   "source": [
    "import numpy as np\n",
    "\n",
    "df_correct['DIFF'] = df_correct['GOL L'] - df_correct['GOL V']\n",
    "df_correct['QUINIELA'] = pd.cut(df_correct['DIFF'], bins=[-np.inf, -1, 0, np.inf], labels=['2', 'X', '1'])\n",
    "df_correct = df_correct.drop(['DIFF'], axis=1)\n",
    "df_correct.head()"
   ]
  },
  {
   "cell_type": "code",
   "execution_count": 12,
   "metadata": {},
   "outputs": [
    {
     "data": {
      "text/plain": [
       "(16840, 10)"
      ]
     },
     "execution_count": 12,
     "metadata": {},
     "output_type": "execute_result"
    }
   ],
   "source": [
    "df_correct.shape"
   ]
  },
  {
   "cell_type": "code",
   "execution_count": 13,
   "metadata": {},
   "outputs": [],
   "source": [
    "df_correct.to_excel(\"../bbdd/FULL_BBDD_CLEAN.xlsx\", index=False)"
   ]
  },
  {
   "cell_type": "code",
   "execution_count": null,
   "metadata": {},
   "outputs": [],
   "source": []
  }
 ],
 "metadata": {
  "kernelspec": {
   "display_name": "Python 3",
   "language": "python",
   "name": "python3"
  },
  "language_info": {
   "codemirror_mode": {
    "name": "ipython",
    "version": 3
   },
   "file_extension": ".py",
   "mimetype": "text/x-python",
   "name": "python",
   "nbconvert_exporter": "python",
   "pygments_lexer": "ipython3",
   "version": "3.7.4"
  }
 },
 "nbformat": 4,
 "nbformat_minor": 2
}
