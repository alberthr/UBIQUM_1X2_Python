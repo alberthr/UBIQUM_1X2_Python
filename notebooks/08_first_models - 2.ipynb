{
 "cells": [
  {
   "cell_type": "code",
   "execution_count": 1,
   "metadata": {},
   "outputs": [
    {
     "data": {
      "text/plain": [
       "'C:\\\\Users\\\\T420\\\\Desktop\\\\UBIQUM\\\\5 PROJECT\\\\Quiniela\\\\notebooks'"
      ]
     },
     "execution_count": 1,
     "metadata": {},
     "output_type": "execute_result"
    }
   ],
   "source": [
    "import os\n",
    "os.getcwd()"
   ]
  },
  {
   "cell_type": "code",
   "execution_count": 2,
   "metadata": {},
   "outputs": [],
   "source": [
    "import pandas as pd\n",
    "\n",
    "xl = pd.ExcelFile('../bbdd/FULL_BBDD_with_features.xlsx')\n",
    "df = xl.parse(xl.sheet_names[0])"
   ]
  },
  {
   "cell_type": "code",
   "execution_count": 3,
   "metadata": {},
   "outputs": [
    {
     "data": {
      "text/plain": [
       "Index(['TEMPORADA', 'LIGA', 'JORNADA', 'FECHA', 'LOCAL', 'VISITANTE', 'GOL L',\n",
       "       'GOL V', 'ARBITRO', 'QUINIELA', 'last2_hometeam_w', 'last2_hometeam_d',\n",
       "       'last2_hometeam_l', 'last5_hometeam_w', 'last5_hometeam_d',\n",
       "       'last5_hometeam_l', 'last10_hometeam_w', 'last10_hometeam_d',\n",
       "       'last10_hometeam_l', 'last2_awayteam_w', 'last2_awayteam_d',\n",
       "       'last2_awayteam_l', 'last5_awayteam_w', 'last5_awayteam_d',\n",
       "       'last5_awayteam_l', 'last10_awayteam_w', 'last10_awayteam_d',\n",
       "       'last10_awayteam_l', 'league_local_local_w', 'league_local_local_d',\n",
       "       'league_local_local_l', 'league_visitor_visitor_w',\n",
       "       'league_visitor_visitor_d', 'league_visitor_visitor_l', 'h2h_last_10_h',\n",
       "       'h2h_last_10_d', 'h2h_last_10_a', 'h2h_5_homeaway_h',\n",
       "       'h2h_5_homeaway_d', 'h2h_5_homeaway_a', 'ref_hometeam_w',\n",
       "       'ref_hometeam_d', 'ref_hometeam_l', 'ref_awayteam_w', 'ref_awayteam_d',\n",
       "       'ref_awayteam_l', 'ref_home_home_w', 'ref_home_home_d',\n",
       "       'ref_home_home_l', 'ref_away_away_w', 'ref_away_away_d',\n",
       "       'ref_away_away_l'],\n",
       "      dtype='object')"
      ]
     },
     "execution_count": 3,
     "metadata": {},
     "output_type": "execute_result"
    }
   ],
   "source": [
    "df.columns"
   ]
  },
  {
   "cell_type": "markdown",
   "metadata": {},
   "source": [
    "### \"2\" Preparing models (create train and test, scaling, filtering information)"
   ]
  },
  {
   "cell_type": "code",
   "execution_count": 4,
   "metadata": {},
   "outputs": [],
   "source": [
    "from sklearn.model_selection import train_test_split\n",
    "from sklearn.preprocessing import scale"
   ]
  },
  {
   "cell_type": "markdown",
   "metadata": {},
   "source": [
    "Select what part of the dataframe i want to model and create the final dataframe"
   ]
  },
  {
   "cell_type": "code",
   "execution_count": 5,
   "metadata": {},
   "outputs": [],
   "source": [
    "jornada_cut = 10\n",
    "league_selec = 1\n",
    "selec = df[(df['JORNADA']>=jornada_cut) & (df['LIGA'] == league_selec)]"
   ]
  },
  {
   "cell_type": "code",
   "execution_count": 6,
   "metadata": {},
   "outputs": [],
   "source": [
    "dummy1 = pd.get_dummies(selec.LOCAL)\n",
    "dummy2 = pd.get_dummies(selec.VISITANTE)\n",
    "quiniela = pd.get_dummies(selec.QUINIELA)\n",
    "dummy2.columns = [i+\"_2\" for i in dummy2.columns]\n",
    "selec = pd.concat([selec, dummy1, dummy2, quiniela], axis=1)"
   ]
  },
  {
   "cell_type": "code",
   "execution_count": 7,
   "metadata": {},
   "outputs": [],
   "source": [
    "x_col = list(selec.columns[[((i[-2:] in ['_l', '_w', '_d', '_h','_a' ]) | (i in dummy1.columns) |  \n",
    "                             (i in dummy2.columns)) for i in list(selec.columns)]])\n",
    "X = selec[x_col]\n",
    "y = selec['2']"
   ]
  },
  {
   "cell_type": "code",
   "execution_count": 8,
   "metadata": {},
   "outputs": [],
   "source": [
    "X_train, X_test, y_train, y_test = train_test_split(X, y, test_size=0.30, random_state=100)"
   ]
  },
  {
   "cell_type": "markdown",
   "metadata": {},
   "source": [
    "### Apply models (RF, GBT, KNN, SVM, XGB, ETC)"
   ]
  },
  {
   "cell_type": "markdown",
   "metadata": {},
   "source": [
    "##### Random Forest"
   ]
  },
  {
   "cell_type": "code",
   "execution_count": 10,
   "metadata": {
    "scrolled": true
   },
   "outputs": [
    {
     "name": "stdout",
     "output_type": "stream",
     "text": [
      "F1-Score: 0.2237 | Kappa: 0.13\n"
     ]
    }
   ],
   "source": [
    "from sklearn.ensemble import RandomForestClassifier\n",
    "from sklearn.metrics import make_scorer, accuracy_score, cohen_kappa_score, confusion_matrix, classification_report, f1_score\n",
    "from sklearn.model_selection import GridSearchCV\n",
    "\n",
    "# model\n",
    "rfc = RandomForestClassifier(n_estimators=100, random_state=88)\n",
    "rfc.fit(X_train, y_train)\n",
    "\n",
    "# prediction\n",
    "predsrfc = rfc.predict(X_test)\n",
    "\n",
    "# results\n",
    "print('F1-Score:', round(f1_score(y_test, predsrfc),4), \"|\", \"Kappa:\", round(cohen_kappa_score(y_test, predsrfc),4))"
   ]
  },
  {
   "cell_type": "code",
   "execution_count": 12,
   "metadata": {
    "scrolled": true
   },
   "outputs": [
    {
     "data": {
      "text/plain": [
       "<matplotlib.legend.Legend at 0x1cc3ecbfc48>"
      ]
     },
     "execution_count": 12,
     "metadata": {},
     "output_type": "execute_result"
    },
    {
     "data": {
      "image/png": "[encoded data removed]",
      "text/plain": [
       "<Figure size 432x288 with 1 Axes>"
      ]
     },
     "metadata": {
      "needs_background": "light"
     },
     "output_type": "display_data"
    }
   ],
   "source": [
    "import matplotlib.pyplot as plt\n",
    "rf = rfc.predict_proba(X_test)[:,1]\n",
    "plt.hist(rf, bins = 20, alpha = 0.3, label='predictions')\n",
    "plt.legend()"
   ]
  },
  {
   "cell_type": "markdown",
   "metadata": {},
   "source": [
    "##### Gradient Boosted Trees"
   ]
  },
  {
   "cell_type": "code",
   "execution_count": 13,
   "metadata": {},
   "outputs": [
    {
     "name": "stdout",
     "output_type": "stream",
     "text": [
      "F1-Score: 0.2634 | Kappa: 0.1582\n"
     ]
    }
   ],
   "source": [
    "from sklearn.ensemble import GradientBoostingClassifier\n",
    "\n",
    "clf = GradientBoostingClassifier()\n",
    "clf.fit(X_train, y_train)\n",
    "predsgbt = clf.predict(X_test)\n",
    "print('F1-Score:', round(f1_score(y_test, predsgbt),4), \"|\", \"Kappa:\", round(cohen_kappa_score(y_test, predsgbt),4))"
   ]
  },
  {
   "cell_type": "code",
   "execution_count": 14,
   "metadata": {
    "scrolled": false
   },
   "outputs": [
    {
     "data": {
      "text/plain": [
       "<matplotlib.legend.Legend at 0x1cc403db408>"
      ]
     },
     "execution_count": 14,
     "metadata": {},
     "output_type": "execute_result"
    },
    {
     "data": {
      "image/png": "[encoded data removed]",
      "text/plain": [
       "<Figure size 432x288 with 1 Axes>"
      ]
     },
     "metadata": {
      "needs_background": "light"
     },
     "output_type": "display_data"
    }
   ],
   "source": [
    "import matplotlib.pyplot as plt\n",
    "gbt = clf.predict_proba(X_test)[:,1]\n",
    "plt.hist(gbt, bins = 20, alpha = 0.3, label='results')\n",
    "plt.legend()"
   ]
  },
  {
   "cell_type": "markdown",
   "metadata": {},
   "source": [
    "##### XGB"
   ]
  },
  {
   "cell_type": "code",
   "execution_count": 15,
   "metadata": {},
   "outputs": [
    {
     "name": "stdout",
     "output_type": "stream",
     "text": [
      "F1-Score: 0.2537 | Kappa: 0.1523\n"
     ]
    }
   ],
   "source": [
    "import xgboost as xgb\n",
    "\n",
    "clf = xgb.XGBClassifier(objective=\"binary:logistic\", random_state=42)\n",
    "clf.fit(X_train, y_train)\n",
    "predsxgb = clf.predict(X_test)\n",
    "print('F1-Score:', round(f1_score(y_test, predsxgb),4), \"|\", \"Kappa:\", round(cohen_kappa_score(y_test, predsxgb),4))"
   ]
  },
  {
   "cell_type": "code",
   "execution_count": 16,
   "metadata": {
    "scrolled": false
   },
   "outputs": [
    {
     "data": {
      "text/plain": [
       "<matplotlib.legend.Legend at 0x1cc404caec8>"
      ]
     },
     "execution_count": 16,
     "metadata": {},
     "output_type": "execute_result"
    },
    {
     "data": {
      "image/png": "[encoded data removed]",
      "text/plain": [
       "<Figure size 432x288 with 1 Axes>"
      ]
     },
     "metadata": {
      "needs_background": "light"
     },
     "output_type": "display_data"
    }
   ],
   "source": [
    "import matplotlib.pyplot as plt\n",
    "xgb = clf.predict_proba(X_test)[:,1]\n",
    "plt.hist(xgb, bins = 20, alpha = 0.3, label='results')\n",
    "plt.legend()"
   ]
  },
  {
   "cell_type": "markdown",
   "metadata": {},
   "source": [
    "##### Extra Trees Classifier"
   ]
  },
  {
   "cell_type": "code",
   "execution_count": 17,
   "metadata": {},
   "outputs": [
    {
     "name": "stdout",
     "output_type": "stream",
     "text": [
      "F1-Score: 0.2343 | Kappa: 0.1309\n"
     ]
    }
   ],
   "source": [
    "from sklearn.ensemble import ExtraTreesClassifier\n",
    "\n",
    "clf = ExtraTreesClassifier(n_estimators=100, random_state=42)\n",
    "clf.fit(X_train, y_train)\n",
    "predsxtc = clf.predict(X_test)\n",
    "print('F1-Score:', round(f1_score(y_test, predsxtc),4), \"|\", \"Kappa:\", round(cohen_kappa_score(y_test, predsxtc),4))"
   ]
  },
  {
   "cell_type": "code",
   "execution_count": 18,
   "metadata": {
    "scrolled": false
   },
   "outputs": [
    {
     "data": {
      "text/plain": [
       "<matplotlib.legend.Legend at 0x1cc405e7f08>"
      ]
     },
     "execution_count": 18,
     "metadata": {},
     "output_type": "execute_result"
    },
    {
     "data": {
      "image/png": "[encoded data removed]",
      "text/plain": [
       "<Figure size 432x288 with 1 Axes>"
      ]
     },
     "metadata": {
      "needs_background": "light"
     },
     "output_type": "display_data"
    }
   ],
   "source": [
    "import matplotlib.pyplot as plt\n",
    "etc = clf.predict_proba(X_test)[:,1]\n",
    "plt.hist(etc, bins = 20, alpha = 0.3, label='results')\n",
    "plt.legend()"
   ]
  },
  {
   "cell_type": "markdown",
   "metadata": {},
   "source": [
    "##### Logistic Regression"
   ]
  },
  {
   "cell_type": "code",
   "execution_count": 22,
   "metadata": {},
   "outputs": [
    {
     "name": "stdout",
     "output_type": "stream",
     "text": [
      "F1-Score: 0.2821 | Kappa: 0.1655\n"
     ]
    }
   ],
   "source": [
    "from sklearn.linear_model import LogisticRegression\n",
    "clf = LogisticRegression(solver='lbfgs', max_iter=1000)\n",
    "clf.fit(X_train, y_train)\n",
    "predslog = clf.predict(X_test)\n",
    "print('F1-Score:', round(f1_score(y_test, predslog),4), \"|\", \"Kappa:\", round(cohen_kappa_score(y_test, predslog),4))"
   ]
  },
  {
   "cell_type": "code",
   "execution_count": 23,
   "metadata": {},
   "outputs": [
    {
     "data": {
      "text/plain": [
       "<matplotlib.legend.Legend at 0x1cc40699488>"
      ]
     },
     "execution_count": 23,
     "metadata": {},
     "output_type": "execute_result"
    },
    {
     "data": {
      "image/png": "[encoded data removed]",
      "text/plain": [
       "<Figure size 432x288 with 1 Axes>"
      ]
     },
     "metadata": {
      "needs_background": "light"
     },
     "output_type": "display_data"
    }
   ],
   "source": [
    "import matplotlib.pyplot as plt\n",
    "etc = clf.predict_proba(X_test)[:,1]\n",
    "plt.hist(etc, bins = 20, alpha = 0.3, label='results')\n",
    "plt.legend()"
   ]
  }
 ],
 "metadata": {
  "kernelspec": {
   "display_name": "Python 3",
   "language": "python",
   "name": "python3"
  },
  "language_info": {
   "codemirror_mode": {
    "name": "ipython",
    "version": 3
   },
   "file_extension": ".py",
   "mimetype": "text/x-python",
   "name": "python",
   "nbconvert_exporter": "python",
   "pygments_lexer": "ipython3",
   "version": "3.7.4"
  }
 },
 "nbformat": 4,
 "nbformat_minor": 2
}
