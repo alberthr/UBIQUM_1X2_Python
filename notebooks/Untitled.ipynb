{
 "cells": [
  {
   "cell_type": "code",
   "execution_count": 1,
   "metadata": {},
   "outputs": [
    {
     "name": "stdout",
     "output_type": "stream",
     "text": [
      "Collecting dash==1.7.0\n",
      "  Downloading https://files.pythonhosted.org/packages/30/7e/0e7d010ae02797b522e368d53db24ac78f14dc982af6a599c06a67fce576/dash-1.7.0.tar.gz (62kB)\n",
      "Requirement already satisfied: Flask>=1.0.2 in c:\\users\\albert\\anaconda3\\lib\\site-packages (from dash==1.7.0) (1.1.1)\n",
      "Collecting flask-compress (from dash==1.7.0)\n",
      "  Downloading https://files.pythonhosted.org/packages/0e/2a/378bd072928f6d92fd8c417d66b00c757dc361c0405a46a0134de6fd323d/Flask-Compress-1.4.0.tar.gz\n",
      "Collecting plotly (from dash==1.7.0)\n",
      "  Downloading https://files.pythonhosted.org/packages/8e/ce/6ea5683c47b682bffad39ad41d10913141b560b1b875a90dbc6abe3f4fa9/plotly-4.4.1-py2.py3-none-any.whl (7.3MB)\n",
      "Collecting dash_renderer==1.2.2 (from dash==1.7.0)\n",
      "  Downloading https://files.pythonhosted.org/packages/f0/69/e8938eb0f003f73de779313c28fdb2bbdc8710dc6d990833782f9d8c801d/dash_renderer-1.2.2.tar.gz (1.1MB)\n",
      "Collecting dash-core-components==1.6.0 (from dash==1.7.0)\n",
      "  Downloading https://files.pythonhosted.org/packages/df/b3/1a6d01cbac8e2d26281a75195713a47eaf11fd7ac10cbda8bc44a043e8ef/dash_core_components-1.6.0.tar.gz (5.1MB)\n",
      "Collecting dash-html-components==1.0.2 (from dash==1.7.0)\n",
      "  Downloading https://files.pythonhosted.org/packages/b4/9e/76988b02d09268495218639ad45dbfafe7dec8a52961278aeedaffb638ea/dash_html_components-1.0.2.tar.gz (187kB)\n",
      "Collecting dash-table==4.5.1 (from dash==1.7.0)\n",
      "  Downloading https://files.pythonhosted.org/packages/17/3b/955732356f7078feb4fbae38a9eb971fa55278cc31310c8ae1f0186f1b10/dash_table-4.5.1.tar.gz (1.7MB)\n",
      "Requirement already satisfied: future in c:\\users\\albert\\anaconda3\\lib\\site-packages (from dash==1.7.0) (0.17.1)\n",
      "Requirement already satisfied: click>=5.1 in c:\\users\\albert\\anaconda3\\lib\\site-packages (from Flask>=1.0.2->dash==1.7.0) (7.0)\n",
      "Requirement already satisfied: Werkzeug>=0.15 in c:\\users\\albert\\anaconda3\\lib\\site-packages (from Flask>=1.0.2->dash==1.7.0) (0.15.4)\n",
      "Requirement already satisfied: itsdangerous>=0.24 in c:\\users\\albert\\anaconda3\\lib\\site-packages (from Flask>=1.0.2->dash==1.7.0) (1.1.0)\n",
      "Requirement already satisfied: Jinja2>=2.10.1 in c:\\users\\albert\\anaconda3\\lib\\site-packages (from Flask>=1.0.2->dash==1.7.0) (2.10.1)\n",
      "Requirement already satisfied: six in c:\\users\\albert\\anaconda3\\lib\\site-packages (from plotly->dash==1.7.0) (1.12.0)\n",
      "Collecting retrying>=1.3.3 (from plotly->dash==1.7.0)\n",
      "  Downloading https://files.pythonhosted.org/packages/44/ef/beae4b4ef80902f22e3af073397f079c96969c69b2c7d52a57ea9ae61c9d/retrying-1.3.3.tar.gz\n",
      "Requirement already satisfied: MarkupSafe>=0.23 in c:\\users\\albert\\anaconda3\\lib\\site-packages (from Jinja2>=2.10.1->Flask>=1.0.2->dash==1.7.0) (1.1.1)\n",
      "Building wheels for collected packages: dash, flask-compress, dash-renderer, dash-core-components, dash-html-components, dash-table, retrying\n",
      "  Building wheel for dash (setup.py): started\n",
      "  Building wheel for dash (setup.py): finished with status 'done'\n",
      "  Stored in directory: C:\\Users\\Albert\\AppData\\Local\\pip\\Cache\\wheels\\42\\45\\7b\\6d4d715a3f79333a5086a641a23f06647939b5710b27c6d922\n",
      "  Building wheel for flask-compress (setup.py): started\n",
      "  Building wheel for flask-compress (setup.py): finished with status 'done'\n",
      "  Stored in directory: C:\\Users\\Albert\\AppData\\Local\\pip\\Cache\\wheels\\96\\32\\88\\a1f6d9dd3c29570ab3a8acc0d556b3b20abcf3c623c868ce0a\n",
      "  Building wheel for dash-renderer (setup.py): started\n",
      "  Building wheel for dash-renderer (setup.py): finished with status 'done'\n",
      "  Stored in directory: C:\\Users\\Albert\\AppData\\Local\\pip\\Cache\\wheels\\53\\6c\\21\\585b71480e8d133be5dac4aa156e24fdb9743cadc22f1c6cea\n",
      "  Building wheel for dash-core-components (setup.py): started\n",
      "  Building wheel for dash-core-components (setup.py): finished with status 'done'\n",
      "  Stored in directory: C:\\Users\\Albert\\AppData\\Local\\pip\\Cache\\wheels\\11\\e3\\56\\95f705ea4a4255a2043454503e26d642c4ef0f903c1afe858a\n",
      "  Building wheel for dash-html-components (setup.py): started\n",
      "  Building wheel for dash-html-components (setup.py): finished with status 'done'\n",
      "  Stored in directory: C:\\Users\\Albert\\AppData\\Local\\pip\\Cache\\wheels\\59\\6d\\79\\e8fbded6c6102c00ef0d58a278a488d913d30c51ae95dbef90\n",
      "  Building wheel for dash-table (setup.py): started\n",
      "  Building wheel for dash-table (setup.py): finished with status 'done'\n",
      "  Stored in directory: C:\\Users\\Albert\\AppData\\Local\\pip\\Cache\\wheels\\6e\\b7\\10\\5eb393a55845cd2df31d66329b5bc0894e930527165e174059\n",
      "  Building wheel for retrying (setup.py): started\n",
      "  Building wheel for retrying (setup.py): finished with status 'done'\n",
      "  Stored in directory: C:\\Users\\Albert\\AppData\\Local\\pip\\Cache\\wheels\\d7\\a9\\33\\acc7b709e2a35caa7d4cae442f6fe6fbf2c43f80823d46460c\n",
      "Successfully built dash flask-compress dash-renderer dash-core-components dash-html-components dash-table retrying\n",
      "Installing collected packages: flask-compress, retrying, plotly, dash-renderer, dash-core-components, dash-html-components, dash-table, dash\n",
      "Successfully installed dash-1.7.0 dash-core-components-1.6.0 dash-html-components-1.0.2 dash-renderer-1.2.2 dash-table-4.5.1 flask-compress-1.4.0 plotly-4.4.1 retrying-1.3.3\n"
     ]
    }
   ],
   "source": [
    "!pip install dash==1.7.0"
   ]
  },
  {
   "cell_type": "code",
   "execution_count": 2,
   "metadata": {},
   "outputs": [
    {
     "name": "stdout",
     "output_type": "stream",
     "text": [
      "1.6.0\n"
     ]
    }
   ],
   "source": [
    "import dash_core_components\n",
    "print(dash_core_components.__version__)"
   ]
  },
  {
   "cell_type": "code",
   "execution_count": 3,
   "metadata": {},
   "outputs": [
    {
     "ename": "SyntaxError",
     "evalue": "unexpected EOF while parsing (<ipython-input-3-2a138f0b1156>, line 31)",
     "output_type": "error",
     "traceback": [
      "\u001b[1;36m  File \u001b[1;32m\"<ipython-input-3-2a138f0b1156>\"\u001b[1;36m, line \u001b[1;32m31\u001b[0m\n\u001b[1;33m    if __name__ == '__main__':\u001b[0m\n\u001b[1;37m                              ^\u001b[0m\n\u001b[1;31mSyntaxError\u001b[0m\u001b[1;31m:\u001b[0m unexpected EOF while parsing\n"
     ]
    }
   ],
   "source": [
    "# -*- coding: utf-8 -*-\n",
    "import dash\n",
    "import dash_core_components as dcc\n",
    "import dash_html_components as html\n",
    "\n",
    "external_stylesheets = ['https://codepen.io/chriddyp/pen/bWLwgP.css']\n",
    "\n",
    "app = dash.Dash(__name__, external_stylesheets=external_stylesheets)\n",
    "\n",
    "app.layout = html.Div(children=[\n",
    "    html.H1(children='Hello Dash'),\n",
    "\n",
    "    html.Div(children='''\n",
    "        Dash: A web application framework for Python.\n",
    "    '''),\n",
    "\n",
    "    dcc.Graph(\n",
    "        id='example-graph',\n",
    "        figure={\n",
    "            'data': [\n",
    "                {'x': [1, 2, 3], 'y': [4, 1, 2], 'type': 'bar', 'name': 'SF'},\n",
    "                {'x': [1, 2, 3], 'y': [2, 4, 5], 'type': 'bar', 'name': u'Montréal'},\n",
    "            ],\n",
    "            'layout': {\n",
    "                'title': 'Dash Data Visualization'\n",
    "            }\n",
    "        }\n",
    "    )\n",
    "])\n",
    "\n",
    "if __name__ == '__main__':"
   ]
  },
  {
   "cell_type": "code",
   "execution_count": null,
   "metadata": {},
   "outputs": [],
   "source": []
  }
 ],
 "metadata": {
  "kernelspec": {
   "display_name": "Python 3",
   "language": "python",
   "name": "python3"
  },
  "language_info": {
   "codemirror_mode": {
    "name": "ipython",
    "version": 3
   },
   "file_extension": ".py",
   "mimetype": "text/x-python",
   "name": "python",
   "nbconvert_exporter": "python",
   "pygments_lexer": "ipython3",
   "version": "3.7.3"
  }
 },
 "nbformat": 4,
 "nbformat_minor": 2
}
