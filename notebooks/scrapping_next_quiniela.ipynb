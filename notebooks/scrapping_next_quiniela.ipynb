{
 "cells": [
  {
   "cell_type": "markdown",
   "metadata": {},
   "source": [
    "### SCRAP NEXT AVAILABLE QUINIELA (LOTERIAS Y APUESTAS)"
   ]
  },
  {
   "cell_type": "code",
   "execution_count": 8,
   "metadata": {},
   "outputs": [],
   "source": [
    "import requests\n",
    "URL = 'https://juegos.loteriasyapuestas.es/jugar/la-quiniela/apuesta/'\n",
    "page = requests.get(URL)"
   ]
  },
  {
   "cell_type": "code",
   "execution_count": 9,
   "metadata": {},
   "outputs": [],
   "source": [
    "from bs4 import BeautifulSoup\n",
    "soup = BeautifulSoup(page.content, 'html.parser')"
   ]
  },
  {
   "cell_type": "code",
   "execution_count": 10,
   "metadata": {},
   "outputs": [],
   "source": [
    "results = soup.find(class_='boleto-partidos')\n",
    "equipos = results.find_all('', class_='nombre', )"
   ]
  },
  {
   "cell_type": "code",
   "execution_count": 11,
   "metadata": {},
   "outputs": [
    {
     "data": {
      "text/plain": [
       "bs4.element.Tag"
      ]
     },
     "execution_count": 11,
     "metadata": {},
     "output_type": "execute_result"
    }
   ],
   "source": [
    "type(results)"
   ]
  },
  {
   "cell_type": "code",
   "execution_count": 12,
   "metadata": {},
   "outputs": [],
   "source": [
    "quiniela = [equipo.text for equipo in equipos]"
   ]
  },
  {
   "cell_type": "code",
   "execution_count": 13,
   "metadata": {},
   "outputs": [
    {
     "name": "stdout",
     "output_type": "stream",
     "text": [
      "['Levante', 'Real Madrid', 'Osasuna', 'Eibar', 'Mallorca', 'Betis', 'Villarreal', 'Athletic Club', 'Elche', 'Deportivo', 'R. Oviedo', 'Racing', 'Extremadura', 'Tenerife'] ['Alavés', 'Sevilla', 'Valladolid', 'At. Madrid', 'Valencia', 'R. Sociedad', 'Espanyol', 'Celta', 'Alcorcón', 'Cádiz', 'Huesca', 'Las Palmas', 'Almería', 'Girona']\n"
     ]
    }
   ],
   "source": [
    "visitor = [equipo for i, equipo in enumerate(quiniela) if i % 2 == 1]\n",
    "local = [equipo for i, equipo in enumerate(quiniela) if i % 2 == 0]\n",
    "print(local, visitor)"
   ]
  },
  {
   "cell_type": "code",
   "execution_count": 14,
   "metadata": {
    "scrolled": true
   },
   "outputs": [
    {
     "data": {
      "text/html": [
       "<div>\n",
       "<style scoped>\n",
       "    .dataframe tbody tr th:only-of-type {\n",
       "        vertical-align: middle;\n",
       "    }\n",
       "\n",
       "    .dataframe tbody tr th {\n",
       "        vertical-align: top;\n",
       "    }\n",
       "\n",
       "    .dataframe thead th {\n",
       "        text-align: right;\n",
       "    }\n",
       "</style>\n",
       "<table border=\"1\" class=\"dataframe\">\n",
       "  <thead>\n",
       "    <tr style=\"text-align: right;\">\n",
       "      <th></th>\n",
       "      <th>LOCAL</th>\n",
       "      <th>VISITANTE</th>\n",
       "    </tr>\n",
       "  </thead>\n",
       "  <tbody>\n",
       "    <tr>\n",
       "      <td>0</td>\n",
       "      <td>Levante</td>\n",
       "      <td>Alavés</td>\n",
       "    </tr>\n",
       "    <tr>\n",
       "      <td>1</td>\n",
       "      <td>Real Madrid</td>\n",
       "      <td>Sevilla</td>\n",
       "    </tr>\n",
       "    <tr>\n",
       "      <td>2</td>\n",
       "      <td>Osasuna</td>\n",
       "      <td>Valladolid</td>\n",
       "    </tr>\n",
       "    <tr>\n",
       "      <td>3</td>\n",
       "      <td>Eibar</td>\n",
       "      <td>At. Madrid</td>\n",
       "    </tr>\n",
       "    <tr>\n",
       "      <td>4</td>\n",
       "      <td>Mallorca</td>\n",
       "      <td>Valencia</td>\n",
       "    </tr>\n",
       "    <tr>\n",
       "      <td>5</td>\n",
       "      <td>Betis</td>\n",
       "      <td>R. Sociedad</td>\n",
       "    </tr>\n",
       "    <tr>\n",
       "      <td>6</td>\n",
       "      <td>Villarreal</td>\n",
       "      <td>Espanyol</td>\n",
       "    </tr>\n",
       "    <tr>\n",
       "      <td>7</td>\n",
       "      <td>Athletic Club</td>\n",
       "      <td>Celta</td>\n",
       "    </tr>\n",
       "    <tr>\n",
       "      <td>8</td>\n",
       "      <td>Elche</td>\n",
       "      <td>Alcorcón</td>\n",
       "    </tr>\n",
       "    <tr>\n",
       "      <td>9</td>\n",
       "      <td>Deportivo</td>\n",
       "      <td>Cádiz</td>\n",
       "    </tr>\n",
       "    <tr>\n",
       "      <td>10</td>\n",
       "      <td>R. Oviedo</td>\n",
       "      <td>Huesca</td>\n",
       "    </tr>\n",
       "    <tr>\n",
       "      <td>11</td>\n",
       "      <td>Racing</td>\n",
       "      <td>Las Palmas</td>\n",
       "    </tr>\n",
       "    <tr>\n",
       "      <td>12</td>\n",
       "      <td>Extremadura</td>\n",
       "      <td>Almería</td>\n",
       "    </tr>\n",
       "    <tr>\n",
       "      <td>13</td>\n",
       "      <td>Tenerife</td>\n",
       "      <td>Girona</td>\n",
       "    </tr>\n",
       "  </tbody>\n",
       "</table>\n",
       "</div>"
      ],
      "text/plain": [
       "            LOCAL    VISITANTE\n",
       "0         Levante       Alavés\n",
       "1     Real Madrid      Sevilla\n",
       "2         Osasuna   Valladolid\n",
       "3           Eibar   At. Madrid\n",
       "4        Mallorca     Valencia\n",
       "5           Betis  R. Sociedad\n",
       "6      Villarreal     Espanyol\n",
       "7   Athletic Club        Celta\n",
       "8           Elche     Alcorcón\n",
       "9       Deportivo        Cádiz\n",
       "10      R. Oviedo       Huesca\n",
       "11         Racing   Las Palmas\n",
       "12    Extremadura      Almería\n",
       "13       Tenerife       Girona"
      ]
     },
     "execution_count": 14,
     "metadata": {},
     "output_type": "execute_result"
    }
   ],
   "source": [
    "import pandas as pd\n",
    "quiniela_df = pd.DataFrame(list(zip(local, visitor)), \n",
    "               columns =['LOCAL', 'VISITANTE']) \n",
    "quiniela_df"
   ]
  },
  {
   "cell_type": "markdown",
   "metadata": {},
   "source": [
    "### Check names with dictionary"
   ]
  },
  {
   "cell_type": "code",
   "execution_count": 15,
   "metadata": {},
   "outputs": [],
   "source": [
    "import json\n",
    "\n",
    "with open('../bbdd/teams_dict.json') as json_file:\n",
    "    teams_dict = json.load(json_file)\n",
    "    \n",
    "with open('../bbdd/referees_dict.json') as json_file:\n",
    "    referees_dict = json.load(json_file)"
   ]
  },
  {
   "cell_type": "code",
   "execution_count": 16,
   "metadata": {},
   "outputs": [],
   "source": [
    "df = quiniela_df.copy()"
   ]
  },
  {
   "cell_type": "code",
   "execution_count": 23,
   "metadata": {},
   "outputs": [],
   "source": [
    "df['LOCAL'] = [teams_dict[i] for i in df['LOCAL']]\n",
    "df['VISITANTE'] = [teams_dict[i] for i in df['VISITANTE']]"
   ]
  },
  {
   "cell_type": "markdown",
   "metadata": {},
   "source": [
    "Next piece of code is meant to use only if new team names are found"
   ]
  },
  {
   "cell_type": "code",
   "execution_count": 21,
   "metadata": {},
   "outputs": [],
   "source": [
    "teams_dict.update({'R. Sociedad':'Real Sociedad'})"
   ]
  },
  {
   "cell_type": "code",
   "execution_count": 24,
   "metadata": {},
   "outputs": [
    {
     "data": {
      "text/plain": [
       "{'A.D. Alcorcón': 'Alcorcon',\n",
       " 'Alaves': 'Alaves',\n",
       " 'Albacete': 'Albacete',\n",
       " 'Albacete Balomp.': 'Albacete',\n",
       " 'Alcorcon': 'Alcorcon',\n",
       " 'Algeciras C.F.': 'Algeciras C.F.',\n",
       " 'Alicante C.F.': 'Alicante C.F.',\n",
       " 'Almeria': 'Almeria',\n",
       " 'At. de Madrid': 'Atletico Madrid',\n",
       " 'At. de Madrid B': 'At. de Madrid B',\n",
       " 'Athletic Club': 'Athletic Club',\n",
       " 'Athletic Club B': 'Athletic Club B',\n",
       " 'Atletico Madrid': 'Atletico Madrid',\n",
       " 'Barcelona': 'Barcelona',\n",
       " 'Barcelona At.': 'Barcelona B',\n",
       " 'Barcelona B': 'Barcelona B',\n",
       " 'Burgos C.F. II': 'Burgos C.F. II',\n",
       " 'C. At. Osasuna': 'Osasuna',\n",
       " 'C. y D. Leonesa': 'Cultural Leonesa',\n",
       " 'C.D. Alavés': 'Alaves',\n",
       " 'C.D. Alcoyano': 'C.D. Alcoyano',\n",
       " 'C.D. Badajoz': 'C.D. Badajoz',\n",
       " 'C.D. Castellón': 'C.D. Castellón',\n",
       " 'C.D. Guadalajara': 'C.D. Guadalajara',\n",
       " 'C.D. Leganés': 'Leganes',\n",
       " 'C.D. Logroñés': 'C.D. Logroñés',\n",
       " 'C.D. Lugo': 'Lugo',\n",
       " 'C.D. Mirandés': 'Mirandes',\n",
       " 'C.D. Numancia': 'Numancia',\n",
       " 'C.D. Sabadell': 'C.D. Sabadell',\n",
       " 'C.D. Tenerife': 'Tenerife',\n",
       " 'C.D. Toledo': 'C.D. Toledo',\n",
       " 'C.F. Extremadura': 'Extremadura',\n",
       " 'C.F. Rayo Majadahonda': 'Rayo Majadahonda',\n",
       " 'C.F. Reus Deportiu': 'Reus',\n",
       " 'Cadiz': 'Cadiz',\n",
       " 'Cádiz C.F.': 'Cadiz',\n",
       " 'Celta Vigo': 'Celta Vigo',\n",
       " 'Club Gimnàstic': 'Club Gimnàstic',\n",
       " 'Club Granada 74': 'Club Granada 74',\n",
       " 'Cordoba': 'Cordoba',\n",
       " 'Córdoba C.F.': 'Córdoba C.F.',\n",
       " 'Cultural Leonesa': 'Cultural Leonesa',\n",
       " 'Deportivo La Coruna': 'Deportivo La Coruna',\n",
       " 'Eibar': 'Eibar',\n",
       " 'Elche': 'Elche',\n",
       " 'Elche C.F.': 'Elche',\n",
       " 'Espanyol': 'Espanyol',\n",
       " 'Extremadura': 'Extremadura',\n",
       " 'F.C. Barcelona': 'Barcelona',\n",
       " 'F.C. Cartagena': 'F.C. Cartagena',\n",
       " 'Fuenlabrada': 'Fuenlabrada',\n",
       " 'Getafe': 'Getafe',\n",
       " 'Getafe C.F.': 'Getafe',\n",
       " 'Gimnastic': 'Gimnastic',\n",
       " 'Girona': 'Girona',\n",
       " 'Girona F.C.': 'Girona',\n",
       " 'Granada C.F.': 'Granada CF',\n",
       " 'Granada CF': 'Granada CF',\n",
       " 'Hércules': 'Hércules',\n",
       " 'Hércules C.F.': 'Hércules',\n",
       " 'Huesca': 'Huesca',\n",
       " 'Las Palmas': 'Las Palmas',\n",
       " 'Leganes': 'Leganes',\n",
       " 'Levante': 'Levante',\n",
       " 'Levante U.D.': 'Levante',\n",
       " 'Lorca Deport. CF': 'Lorca FC',\n",
       " 'Lorca FC': 'Lorca FC',\n",
       " 'Lugo': 'Lugo',\n",
       " 'Malaga': 'Malaga',\n",
       " 'Málaga C.F.': 'Malaga',\n",
       " 'Málaga C.F. B': 'Málaga C.F. B',\n",
       " 'Mallorca': 'Mallorca',\n",
       " 'Mérida C.P.': 'Mérida C.P.',\n",
       " 'Mirandes': 'Mirandes',\n",
       " 'Numancia': 'Numancia',\n",
       " 'Osasuna': 'Osasuna',\n",
       " 'Oviedo': 'Oviedo',\n",
       " 'Polidepor. Ejido': 'Polidepor. Ejido',\n",
       " 'Ponferradina': 'Ponferradina',\n",
       " 'Pontevedra C.F.': 'Pontevedra C.F.',\n",
       " 'R.C. de Ferrol': 'R.C. de Ferrol',\n",
       " 'R.C. Deportivo': 'Deportivo La Coruna',\n",
       " 'R.C.D. Espanyol': 'Espanyol',\n",
       " 'R.C.D. Mallorca': 'Mallorca',\n",
       " 'R.C.R. de Huelva': 'R.C.R. de Huelva',\n",
       " 'R.M. Castilla': 'R.M. Castilla',\n",
       " 'Racing Santander': 'Racing Santander',\n",
       " 'Rayo Majadahonda': 'Rayo Majadahonda',\n",
       " 'Rayo Vallecano': 'Rayo Vallecano',\n",
       " 'RC Celta de Vigo': 'Celta Vigo',\n",
       " 'Real Betis': 'Real Betis',\n",
       " 'Real Betis B. S.': 'Real Betis',\n",
       " 'Real Jaén C.F.': 'Real Jaén C.F.',\n",
       " 'Real Madrid': 'Real Madrid',\n",
       " 'Real Madrid C.F.': 'Real Madrid',\n",
       " 'Real Murcia C.F.': 'Real Murcia C.F.',\n",
       " 'Real Oviedo C.F.': 'Oviedo',\n",
       " 'Real Racing Club': 'Racing Santander',\n",
       " 'Real S. de Gijón': 'Sporting Gijon',\n",
       " 'Real Sociedad': 'Real Sociedad',\n",
       " 'Real Unión Club': 'Real Unión Club',\n",
       " 'Real Valladolid': 'Valladolid',\n",
       " 'Real Zaragoza CD': 'Zaragoza',\n",
       " 'Reus': 'Reus',\n",
       " 'S.D. Compostela': 'S.D. Compostela',\n",
       " 'S.D. Eibar': 'Eibar',\n",
       " 'S.D. Huesca': 'Huesca',\n",
       " 'SD Ponferradina': 'Ponferradina',\n",
       " 'Sevilla': 'Sevilla',\n",
       " 'Sevilla Atletico': 'Sevilla Atletico',\n",
       " 'Sevilla Atlético': 'Sevilla Atletico',\n",
       " 'Sevilla F.C.': 'Sevilla',\n",
       " 'Sporting Gijon': 'Sporting Gijon',\n",
       " 'Tenerife': 'Tenerife',\n",
       " 'Terrassa F.C.': 'Terrassa F.C.',\n",
       " 'U.D. Almería': 'Almeria',\n",
       " 'U.D. Las Palmas': 'Las Palmas',\n",
       " 'U.D. Salamanca': 'U.D. Salamanca',\n",
       " 'U.D. Vecindario': 'U.D. Vecindario',\n",
       " 'U.E. Llagostera': 'U.E. Llagostera',\n",
       " 'U.E. Lleida': 'U.E. Lleida',\n",
       " 'Ucam Murcia': 'Ucam Murcia',\n",
       " 'UCAM Murcia C.F.': 'Ucam Murcia',\n",
       " 'Universi. LPGCFC': 'Universi. LPGCFC',\n",
       " 'Valencia': 'Valencia',\n",
       " 'Valencia C.F.': 'Valencia',\n",
       " 'Valladolid': 'Valladolid',\n",
       " 'Villarreal': 'Villarreal',\n",
       " 'Villarreal C.F.': 'Villarreal',\n",
       " 'Villarreal CF B': 'Villarreal CF B',\n",
       " 'Xerez C.D.': 'Xerez C.D.',\n",
       " 'Zaragoza': 'Zaragoza',\n",
       " 'Alavés': 'Alaves',\n",
       " 'Leganés': 'Leganes',\n",
       " 'Betis': 'Real Betis',\n",
       " 'Cádiz': 'Cadiz',\n",
       " 'Almería': 'Almeria',\n",
       " 'Alcorcón': 'Alcorcon',\n",
       " 'At. Madrid': 'Atletico Madrid',\n",
       " 'Celta': 'Celta Vigo',\n",
       " 'R. Zaragoza': 'Zaragoza',\n",
       " 'Mirandés': 'Mirandes',\n",
       " 'Granada': 'Granada CF',\n",
       " 'R. Oviedo': 'Oviedo',\n",
       " 'Racing': 'Racing Santander',\n",
       " 'Málaga': 'Malaga',\n",
       " 'Deportivo': 'Deportivo La Coruna',\n",
       " 'R. Sociedad': 'Real Sociedad'}"
      ]
     },
     "execution_count": 24,
     "metadata": {},
     "output_type": "execute_result"
    }
   ],
   "source": [
    "teams_dict"
   ]
  },
  {
   "cell_type": "code",
   "execution_count": 25,
   "metadata": {},
   "outputs": [],
   "source": [
    "with open('../bbdd/teams_dict.json', 'w') as outfile:\n",
    "    json.dump(teams_dict, outfile)"
   ]
  },
  {
   "cell_type": "markdown",
   "metadata": {},
   "source": [
    "Check next Quiniela"
   ]
  },
  {
   "cell_type": "code",
   "execution_count": 104,
   "metadata": {},
   "outputs": [
    {
     "data": {
      "text/html": [
       "<div>\n",
       "<style scoped>\n",
       "    .dataframe tbody tr th:only-of-type {\n",
       "        vertical-align: middle;\n",
       "    }\n",
       "\n",
       "    .dataframe tbody tr th {\n",
       "        vertical-align: top;\n",
       "    }\n",
       "\n",
       "    .dataframe thead th {\n",
       "        text-align: right;\n",
       "    }\n",
       "</style>\n",
       "<table border=\"1\" class=\"dataframe\">\n",
       "  <thead>\n",
       "    <tr style=\"text-align: right;\">\n",
       "      <th></th>\n",
       "      <th>LOCAL</th>\n",
       "      <th>VISITANTE</th>\n",
       "    </tr>\n",
       "  </thead>\n",
       "  <tbody>\n",
       "    <tr>\n",
       "      <th>0</th>\n",
       "      <td>Mallorca</td>\n",
       "      <td>Sevilla</td>\n",
       "    </tr>\n",
       "    <tr>\n",
       "      <th>1</th>\n",
       "      <td>Villarreal</td>\n",
       "      <td>Getafe</td>\n",
       "    </tr>\n",
       "    <tr>\n",
       "      <th>2</th>\n",
       "      <td>Valladolid</td>\n",
       "      <td>Valencia</td>\n",
       "    </tr>\n",
       "  </tbody>\n",
       "</table>\n",
       "</div>"
      ],
      "text/plain": [
       "        LOCAL VISITANTE\n",
       "0    Mallorca   Sevilla\n",
       "1  Villarreal    Getafe\n",
       "2  Valladolid  Valencia"
      ]
     },
     "execution_count": 104,
     "metadata": {},
     "output_type": "execute_result"
    }
   ],
   "source": [
    "df.head(3)"
   ]
  },
  {
   "cell_type": "markdown",
   "metadata": {},
   "source": [
    "### GAME 15 (not 1X2)"
   ]
  },
  {
   "cell_type": "code",
   "execution_count": null,
   "metadata": {},
   "outputs": [],
   "source": [
    "results = soup.find(class_='partidos pleno-15')\n",
    "equipos = results.find_all('', class_='equipo', )\n",
    "for equipo in equipos:\n",
    "    print(equipo.text, end='\\n')"
   ]
  },
  {
   "cell_type": "code",
   "execution_count": null,
   "metadata": {},
   "outputs": [],
   "source": []
  },
  {
   "cell_type": "code",
   "execution_count": null,
   "metadata": {},
   "outputs": [],
   "source": []
  },
  {
   "cell_type": "code",
   "execution_count": null,
   "metadata": {},
   "outputs": [],
   "source": []
  },
  {
   "cell_type": "code",
   "execution_count": null,
   "metadata": {},
   "outputs": [],
   "source": []
  },
  {
   "cell_type": "code",
   "execution_count": null,
   "metadata": {},
   "outputs": [],
   "source": []
  },
  {
   "cell_type": "markdown",
   "metadata": {},
   "source": [
    "### SCRAP NEXT AVAILABLE QUINIELA (AS.COM)"
   ]
  },
  {
   "cell_type": "code",
   "execution_count": 28,
   "metadata": {},
   "outputs": [],
   "source": [
    "import requests\n",
    "from bs4 import BeautifulSoup\n",
    "\n",
    "URL = 'https://resultados.as.com/quiniela/'\n",
    "page = requests.get(URL)\n",
    "soup = BeautifulSoup(page.content, 'html.parser')"
   ]
  },
  {
   "cell_type": "code",
   "execution_count": 29,
   "metadata": {},
   "outputs": [],
   "source": [
    "seccion = soup.find(class_='cont-quiniela')\n",
    "equipos = seccion.find_all('', class_='nombre-equipo', )"
   ]
  },
  {
   "cell_type": "code",
   "execution_count": 30,
   "metadata": {},
   "outputs": [],
   "source": [
    "quiniela = [equipo.text for equipo in equipos]"
   ]
  },
  {
   "cell_type": "code",
   "execution_count": 31,
   "metadata": {},
   "outputs": [],
   "source": [
    "visitor = [equipo for i, equipo in enumerate(quiniela) if i % 2 == 1]\n",
    "local = [equipo for i, equipo in enumerate(quiniela) if i % 2 == 0]"
   ]
  },
  {
   "cell_type": "code",
   "execution_count": 108,
   "metadata": {},
   "outputs": [
    {
     "data": {
      "text/html": [
       "<div>\n",
       "<style scoped>\n",
       "    .dataframe tbody tr th:only-of-type {\n",
       "        vertical-align: middle;\n",
       "    }\n",
       "\n",
       "    .dataframe tbody tr th {\n",
       "        vertical-align: top;\n",
       "    }\n",
       "\n",
       "    .dataframe thead th {\n",
       "        text-align: right;\n",
       "    }\n",
       "</style>\n",
       "<table border=\"1\" class=\"dataframe\">\n",
       "  <thead>\n",
       "    <tr style=\"text-align: right;\">\n",
       "      <th></th>\n",
       "      <th>LOCAL</th>\n",
       "      <th>VISITANTE</th>\n",
       "    </tr>\n",
       "  </thead>\n",
       "  <tbody>\n",
       "    <tr>\n",
       "      <th>0</th>\n",
       "      <td>Mallorca</td>\n",
       "      <td>Sevilla</td>\n",
       "    </tr>\n",
       "    <tr>\n",
       "      <th>1</th>\n",
       "      <td>Villarreal</td>\n",
       "      <td>Getafe</td>\n",
       "    </tr>\n",
       "    <tr>\n",
       "      <th>2</th>\n",
       "      <td>Valladolid</td>\n",
       "      <td>Valencia</td>\n",
       "    </tr>\n",
       "    <tr>\n",
       "      <th>3</th>\n",
       "      <td>Leganés</td>\n",
       "      <td>Espanyol</td>\n",
       "    </tr>\n",
       "    <tr>\n",
       "      <th>4</th>\n",
       "      <td>Osasuna</td>\n",
       "      <td>Real Sociedad</td>\n",
       "    </tr>\n",
       "    <tr>\n",
       "      <th>5</th>\n",
       "      <td>Betis</td>\n",
       "      <td>At. Madrid</td>\n",
       "    </tr>\n",
       "    <tr>\n",
       "      <th>6</th>\n",
       "      <td>Levante</td>\n",
       "      <td>Celta</td>\n",
       "    </tr>\n",
       "    <tr>\n",
       "      <th>7</th>\n",
       "      <td>Real Madrid</td>\n",
       "      <td>Athletic Club</td>\n",
       "    </tr>\n",
       "    <tr>\n",
       "      <th>8</th>\n",
       "      <td>Las Palmas</td>\n",
       "      <td>Rayo Vallecano</td>\n",
       "    </tr>\n",
       "    <tr>\n",
       "      <th>9</th>\n",
       "      <td>Cádiz</td>\n",
       "      <td>Numancia</td>\n",
       "    </tr>\n",
       "    <tr>\n",
       "      <th>10</th>\n",
       "      <td>Almería</td>\n",
       "      <td>Ponferradina</td>\n",
       "    </tr>\n",
       "    <tr>\n",
       "      <th>11</th>\n",
       "      <td>Huesca</td>\n",
       "      <td>R. Zaragoza</td>\n",
       "    </tr>\n",
       "    <tr>\n",
       "      <th>12</th>\n",
       "      <td>Alcorcón</td>\n",
       "      <td>Fuenlabrada</td>\n",
       "    </tr>\n",
       "    <tr>\n",
       "      <th>13</th>\n",
       "      <td>Girona</td>\n",
       "      <td>Mirandés</td>\n",
       "    </tr>\n",
       "    <tr>\n",
       "      <th>14</th>\n",
       "      <td>Barcelona</td>\n",
       "      <td>Alavés</td>\n",
       "    </tr>\n",
       "  </tbody>\n",
       "</table>\n",
       "</div>"
      ],
      "text/plain": [
       "          LOCAL       VISITANTE\n",
       "0      Mallorca         Sevilla\n",
       "1    Villarreal          Getafe\n",
       "2    Valladolid        Valencia\n",
       "3       Leganés        Espanyol\n",
       "4       Osasuna   Real Sociedad\n",
       "5         Betis      At. Madrid\n",
       "6       Levante           Celta\n",
       "7   Real Madrid   Athletic Club\n",
       "8    Las Palmas  Rayo Vallecano\n",
       "9         Cádiz        Numancia\n",
       "10      Almería    Ponferradina\n",
       "11       Huesca     R. Zaragoza\n",
       "12     Alcorcón     Fuenlabrada\n",
       "13       Girona        Mirandés\n",
       "14    Barcelona          Alavés"
      ]
     },
     "execution_count": 108,
     "metadata": {},
     "output_type": "execute_result"
    }
   ],
   "source": [
    "import pandas as pd\n",
    "quiniela_df = pd.DataFrame(list(zip(local, visitor)), \n",
    "               columns =['LOCAL', 'VISITANTE']) \n",
    "quiniela_df"
   ]
  },
  {
   "cell_type": "markdown",
   "metadata": {},
   "source": [
    "### Check names with dictionary"
   ]
  },
  {
   "cell_type": "code",
   "execution_count": 69,
   "metadata": {},
   "outputs": [],
   "source": [
    "import json\n",
    "\n",
    "with open('../bbdd/teams_dict.json') as json_file:\n",
    "    teams_dict = json.load(json_file)\n",
    "    \n",
    "with open('../bbdd/referees_dict.json') as json_file:\n",
    "    referees_dict = json.load(json_file)"
   ]
  },
  {
   "cell_type": "code",
   "execution_count": 70,
   "metadata": {},
   "outputs": [],
   "source": [
    "df = quiniela_df.copy()"
   ]
  },
  {
   "cell_type": "code",
   "execution_count": 93,
   "metadata": {},
   "outputs": [],
   "source": [
    "df['LOCAL'] = [teams_dict[i] for i in df['LOCAL']]\n",
    "df['VISITANTE'] = [teams_dict[i] for i in df['VISITANTE']]"
   ]
  },
  {
   "cell_type": "markdown",
   "metadata": {},
   "source": [
    "Next piece of code is meant to use only if new team names are found"
   ]
  },
  {
   "cell_type": "code",
   "execution_count": 92,
   "metadata": {},
   "outputs": [],
   "source": [
    "#teams_dict.update({'Alavés':'Alaves'})"
   ]
  },
  {
   "cell_type": "code",
   "execution_count": 97,
   "metadata": {},
   "outputs": [],
   "source": [
    "#teams_dict"
   ]
  },
  {
   "cell_type": "code",
   "execution_count": null,
   "metadata": {},
   "outputs": [],
   "source": [
    "#with open('../bbdd/teams_dict.json', 'w') as outfile:\n",
    "#    json.dump(teams_dict, outfile)"
   ]
  },
  {
   "cell_type": "markdown",
   "metadata": {},
   "source": [
    "Check next Quiniela"
   ]
  },
  {
   "cell_type": "code",
   "execution_count": 104,
   "metadata": {},
   "outputs": [
    {
     "data": {
      "text/html": [
       "<div>\n",
       "<style scoped>\n",
       "    .dataframe tbody tr th:only-of-type {\n",
       "        vertical-align: middle;\n",
       "    }\n",
       "\n",
       "    .dataframe tbody tr th {\n",
       "        vertical-align: top;\n",
       "    }\n",
       "\n",
       "    .dataframe thead th {\n",
       "        text-align: right;\n",
       "    }\n",
       "</style>\n",
       "<table border=\"1\" class=\"dataframe\">\n",
       "  <thead>\n",
       "    <tr style=\"text-align: right;\">\n",
       "      <th></th>\n",
       "      <th>LOCAL</th>\n",
       "      <th>VISITANTE</th>\n",
       "    </tr>\n",
       "  </thead>\n",
       "  <tbody>\n",
       "    <tr>\n",
       "      <th>0</th>\n",
       "      <td>Mallorca</td>\n",
       "      <td>Sevilla</td>\n",
       "    </tr>\n",
       "    <tr>\n",
       "      <th>1</th>\n",
       "      <td>Villarreal</td>\n",
       "      <td>Getafe</td>\n",
       "    </tr>\n",
       "    <tr>\n",
       "      <th>2</th>\n",
       "      <td>Valladolid</td>\n",
       "      <td>Valencia</td>\n",
       "    </tr>\n",
       "  </tbody>\n",
       "</table>\n",
       "</div>"
      ],
      "text/plain": [
       "        LOCAL VISITANTE\n",
       "0    Mallorca   Sevilla\n",
       "1  Villarreal    Getafe\n",
       "2  Valladolid  Valencia"
      ]
     },
     "execution_count": 104,
     "metadata": {},
     "output_type": "execute_result"
    }
   ],
   "source": [
    "df.head(3)"
   ]
  },
  {
   "cell_type": "markdown",
   "metadata": {},
   "source": [
    "### Function to add features to current Quiniela"
   ]
  },
  {
   "cell_type": "code",
   "execution_count": 98,
   "metadata": {},
   "outputs": [],
   "source": [
    "# last n games of home or away team\n",
    "\n",
    "def last_games(df, league, team, date, season, ngames):\n",
    "    select = df[(df['LIGA']==league) & ((df['LOCAL']==team) | (df['VISITANTE']==team)) & \n",
    "            (df['FECHA'] < date) & (df['TEMPORADA']==season)][:ngames]\n",
    "    games = select.shape[0] + 1/2\n",
    "    WINS = (sum(select['QUINIELA'][select.LOCAL==team]=='1') + sum(select['QUINIELA'][select.VISITANTE==team]=='2') + 1/6)/games\n",
    "    DRAW = (sum(select['QUINIELA']=='X') + 1/6)/games\n",
    "    LOSE = (1 - WINS - DRAW)\n",
    "    return(WINS, DRAW, LOSE)"
   ]
  },
  {
   "cell_type": "code",
   "execution_count": 99,
   "metadata": {},
   "outputs": [],
   "source": [
    "# total league. local as a local\n",
    "\n",
    "def league_local_local(df, league, home_team, date, season):\n",
    "    select = df[(df['LIGA']==league) & ((df['LOCAL']==home_team)) & \n",
    "            (df['FECHA'] < date) & (df['TEMPORADA']==season)]\n",
    "    games = select.shape[0] + 1/2\n",
    "    H_WINS = (sum(select['QUINIELA'][select.LOCAL==home_team]=='1') + 1/6)/games\n",
    "    H_DRAW = (sum(select['QUINIELA']=='X') + 1/6)/games\n",
    "    H_LOSE = (1 - H_WINS - H_DRAW)\n",
    "    return(H_WINS, H_DRAW, H_LOSE)"
   ]
  },
  {
   "cell_type": "code",
   "execution_count": 100,
   "metadata": {},
   "outputs": [],
   "source": [
    "# total league. local as a local\n",
    "\n",
    "def league_local_local(df, league, home_team, date, season):\n",
    "    select = df[(df['LIGA']==league) & ((df['LOCAL']==home_team)) & \n",
    "            (df['FECHA'] < date) & (df['TEMPORADA']==season)]\n",
    "    games = select.shape[0] + 1/2\n",
    "    H_WINS = (sum(select['QUINIELA'][select.LOCAL==home_team]=='1') + 1/6)/games\n",
    "    H_DRAW = (sum(select['QUINIELA']=='X') + 1/6)/games\n",
    "    H_LOSE = (1 - H_WINS - H_DRAW)\n",
    "    return(H_WINS, H_DRAW, H_LOSE)"
   ]
  },
  {
   "cell_type": "code",
   "execution_count": 101,
   "metadata": {},
   "outputs": [],
   "source": [
    "# total league. visitor as a visitor\n",
    "\n",
    "def league_visitor_visitor(df, league, away_team, date, season):\n",
    "    select = df[(df['LIGA']==league) & ((df['VISITANTE']==away_team)) & \n",
    "            (df['FECHA'] < date) & (df['TEMPORADA']==season)]\n",
    "    games = select.shape[0] + 1/2\n",
    "    V_WINS = (sum(select['QUINIELA'][select.VISITANTE==away_team]=='2') + 1/6)/games\n",
    "    V_DRAW = (sum(select['QUINIELA']=='X') + 1/6)/games\n",
    "    V_LOSE = (1 - V_WINS - V_DRAW)\n",
    "    return(V_WINS, V_DRAW, V_LOSE)"
   ]
  },
  {
   "cell_type": "code",
   "execution_count": 102,
   "metadata": {},
   "outputs": [],
   "source": [
    "# h2h last 10 games total\n",
    "\n",
    "def h2h_10_hda(df, date, home_team, away_team):\n",
    "    select = df[(df['FECHA'] < date) & (((df['LOCAL']==home_team) & (df['VISITANTE']==away_team)) |  \n",
    "            ((df['LOCAL']==away_team) & (df['VISITANTE']==home_team)))][:10]\n",
    "    games = select.shape[0] + 1/2\n",
    "    HOME = (sum(select['QUINIELA'][select.LOCAL==home_team]=='1') + \n",
    "            sum(select['QUINIELA'][select.VISITANTE==home_team]=='2') + 1/6)/games\n",
    "    DRAW = (sum(select['QUINIELA']=='X') + 1/6)/games\n",
    "    AWAY = (1 - HOME - DRAW)\n",
    "    return(HOME, DRAW, AWAY)"
   ]
  },
  {
   "cell_type": "code",
   "execution_count": 103,
   "metadata": {},
   "outputs": [],
   "source": [
    "# h2h last 5 games with same home and away\n",
    "\n",
    "def h2h_5_homeaway(df, date, home_team, away_team):\n",
    "    select = df[(df['FECHA'] < date) & (df['LOCAL']==home_team) & (df['VISITANTE']==away_team)][:5]\n",
    "    games = select.shape[0] + 1/2\n",
    "    HOME = (sum(select['QUINIELA'][select.LOCAL==home_team]=='1') + 1/6)/games\n",
    "    DRAW = (sum(select['QUINIELA'][select.LOCAL==home_team]=='X') + 1/6)/games\n",
    "    AWAY = (1 - HOME - DRAW)\n",
    "    return(HOME, DRAW, AWAY)"
   ]
  },
  {
   "cell_type": "markdown",
   "metadata": {},
   "source": [
    "### Add features to Quiniela"
   ]
  },
  {
   "cell_type": "code",
   "execution_count": 105,
   "metadata": {},
   "outputs": [],
   "source": [
    "import pandas as pd\n",
    "\n",
    "xl = pd.ExcelFile('../bbdd/FULL_BBDD_only_results.xlsx')\n",
    "historic = xl.parse(xl.sheet_names[0])"
   ]
  },
  {
   "cell_type": "code",
   "execution_count": 121,
   "metadata": {},
   "outputs": [],
   "source": [
    "select_1 = list(historic[(historic['TEMPORADA']==2019) & (historic['LIGA']==1)].LOCAL.unique())\n",
    "select_2 = list(historic[(historic['TEMPORADA']==2019) & (historic['LIGA']==2)].LOCAL.unique())\n",
    "teams_1 = { i : 1 for i in select_1 }\n",
    "teams_2 = { i : 2 for i in select_2 }\n",
    "teams_league_dict = {**teams_1, **teams_2}"
   ]
  },
  {
   "cell_type": "code",
   "execution_count": 144,
   "metadata": {},
   "outputs": [
    {
     "name": "stderr",
     "output_type": "stream",
     "text": [
      "C:\\Users\\Albert\\Anaconda3\\lib\\site-packages\\ipykernel_launcher.py:3: SettingWithCopyWarning: \n",
      "A value is trying to be set on a copy of a slice from a DataFrame.\n",
      "Try using .loc[row_indexer,col_indexer] = value instead\n",
      "\n",
      "See the caveats in the documentation: http://pandas.pydata.org/pandas-docs/stable/indexing.html#indexing-view-versus-copy\n",
      "  This is separate from the ipykernel package so we can avoid doing imports until\n",
      "C:\\Users\\Albert\\Anaconda3\\lib\\site-packages\\ipykernel_launcher.py:4: SettingWithCopyWarning: \n",
      "A value is trying to be set on a copy of a slice from a DataFrame.\n",
      "Try using .loc[row_indexer,col_indexer] = value instead\n",
      "\n",
      "See the caveats in the documentation: http://pandas.pydata.org/pandas-docs/stable/indexing.html#indexing-view-versus-copy\n",
      "  after removing the cwd from sys.path.\n",
      "C:\\Users\\Albert\\Anaconda3\\lib\\site-packages\\ipykernel_launcher.py:5: SettingWithCopyWarning: \n",
      "A value is trying to be set on a copy of a slice from a DataFrame.\n",
      "Try using .loc[row_indexer,col_indexer] = value instead\n",
      "\n",
      "See the caveats in the documentation: http://pandas.pydata.org/pandas-docs/stable/indexing.html#indexing-view-versus-copy\n",
      "  \"\"\"\n",
      "C:\\Users\\Albert\\Anaconda3\\lib\\site-packages\\ipykernel_launcher.py:6: SettingWithCopyWarning: \n",
      "A value is trying to be set on a copy of a slice from a DataFrame.\n",
      "Try using .loc[row_indexer,col_indexer] = value instead\n",
      "\n",
      "See the caveats in the documentation: http://pandas.pydata.org/pandas-docs/stable/indexing.html#indexing-view-versus-copy\n",
      "  \n"
     ]
    },
    {
     "data": {
      "text/html": [
       "<div>\n",
       "<style scoped>\n",
       "    .dataframe tbody tr th:only-of-type {\n",
       "        vertical-align: middle;\n",
       "    }\n",
       "\n",
       "    .dataframe tbody tr th {\n",
       "        vertical-align: top;\n",
       "    }\n",
       "\n",
       "    .dataframe thead th {\n",
       "        text-align: right;\n",
       "    }\n",
       "</style>\n",
       "<table border=\"1\" class=\"dataframe\">\n",
       "  <thead>\n",
       "    <tr style=\"text-align: right;\">\n",
       "      <th></th>\n",
       "      <th>TEMPORADA</th>\n",
       "      <th>LIGA</th>\n",
       "      <th>JORNADA</th>\n",
       "      <th>FECHA</th>\n",
       "      <th>LOCAL</th>\n",
       "      <th>VISITANTE</th>\n",
       "    </tr>\n",
       "  </thead>\n",
       "  <tbody>\n",
       "    <tr>\n",
       "      <th>0</th>\n",
       "      <td>2019</td>\n",
       "      <td>1</td>\n",
       "      <td>X</td>\n",
       "      <td>2019-12-22</td>\n",
       "      <td>Mallorca</td>\n",
       "      <td>Sevilla</td>\n",
       "    </tr>\n",
       "    <tr>\n",
       "      <th>1</th>\n",
       "      <td>2019</td>\n",
       "      <td>1</td>\n",
       "      <td>X</td>\n",
       "      <td>2019-12-22</td>\n",
       "      <td>Villarreal</td>\n",
       "      <td>Getafe</td>\n",
       "    </tr>\n",
       "  </tbody>\n",
       "</table>\n",
       "</div>"
      ],
      "text/plain": [
       "   TEMPORADA  LIGA JORNADA       FECHA       LOCAL VISITANTE\n",
       "0       2019     1       X  2019-12-22    Mallorca   Sevilla\n",
       "1       2019     1       X  2019-12-22  Villarreal    Getafe"
      ]
     },
     "execution_count": 144,
     "metadata": {},
     "output_type": "execute_result"
    }
   ],
   "source": [
    "from datetime import datetime\n",
    "\n",
    "df['LIGA'] = [teams_league_dict[i] for i in df['LOCAL']]\n",
    "df['TEMPORADA'] = 2019\n",
    "df['JORNADA'] = 'X'\n",
    "df['FECHA'] = datetime.today().strftime('%Y-%m-%d')\n",
    "df = df[['TEMPORADA', 'LIGA', 'JORNADA', 'FECHA', 'LOCAL', 'VISITANTE']]\n",
    "df.head(2)"
   ]
  },
  {
   "cell_type": "code",
   "execution_count": 145,
   "metadata": {},
   "outputs": [],
   "source": [
    "df['last2_hometeam_wdl'] = df.apply(lambda x: last_games(historic, x[1], x[4], x[3], x[0], 2), axis=1)\n",
    "df['last5_hometeam_wdl'] = df.apply(lambda x: last_games(historic, x[1], x[4], x[3], x[0], 5), axis=1)\n",
    "df['last10_hometeam_wdl'] = df.apply(lambda x: last_games(historic, x[1], x[4], x[3], x[0], 10), axis=1)"
   ]
  },
  {
   "cell_type": "code",
   "execution_count": 146,
   "metadata": {},
   "outputs": [],
   "source": [
    "df['last2_awayteam_wdl'] = df.apply(lambda x: last_games(historic, x[1], x[5], x[3], x[0], 2), axis=1)\n",
    "df['last5_awayteam_wdl'] = df.apply(lambda x: last_games(historic, x[1], x[5], x[3], x[0], 5), axis=1)\n",
    "df['last10_awayteam_wdl'] = df.apply(lambda x: last_games(historic, x[1], x[5], x[3], x[0], 10), axis=1)"
   ]
  },
  {
   "cell_type": "code",
   "execution_count": 147,
   "metadata": {},
   "outputs": [],
   "source": [
    "df['league_local_local_wdl'] = df.apply(lambda x: league_local_local(historic, x[1], x[4], x[3], x[0]), axis=1)\n",
    "df['league_visitor_visitor_wdl'] = df.apply(lambda x: league_visitor_visitor(historic, x[1], x[5], x[3], x[0]), axis=1)"
   ]
  },
  {
   "cell_type": "code",
   "execution_count": 148,
   "metadata": {},
   "outputs": [],
   "source": [
    "df['h2h_last_10_hda'] = df.apply(lambda x: h2h_10_hda(historic, x[3], x[4], x[5]), axis=1)\n",
    "df['h2h_5_homeaway_hda'] = df.apply(lambda x: h2h_5_homeaway(historic, x[3], x[4], x[5]), axis=1)"
   ]
  },
  {
   "cell_type": "markdown",
   "metadata": {},
   "source": [
    "### Split tuples and delete columns"
   ]
  },
  {
   "cell_type": "code",
   "execution_count": 155,
   "metadata": {},
   "outputs": [],
   "source": [
    "columns = list(df.columns[[x[-3:] in ['wdl','hda'] for x in df.columns]])"
   ]
  },
  {
   "cell_type": "code",
   "execution_count": 156,
   "metadata": {},
   "outputs": [],
   "source": [
    "for i in columns:\n",
    "    field_type = i[-3:]\n",
    "    name1 = i[:-3] + field_type[0]\n",
    "    name2 = i[:-3] + field_type[1]\n",
    "    name3 = i[:-3] + field_type[2]\n",
    "    \n",
    "    df[name1] = df[i].apply(lambda x: x[0])\n",
    "    df[name2] = df[i].apply(lambda x: x[1])\n",
    "    df[name3] = df[i].apply(lambda x: x[2])"
   ]
  },
  {
   "cell_type": "code",
   "execution_count": 157,
   "metadata": {},
   "outputs": [],
   "source": [
    "df.drop(columns, inplace=True, axis=1)"
   ]
  },
  {
   "cell_type": "code",
   "execution_count": 158,
   "metadata": {},
   "outputs": [
    {
     "data": {
      "text/plain": [
       "Index(['TEMPORADA', 'LIGA', 'JORNADA', 'FECHA', 'LOCAL', 'VISITANTE',\n",
       "       'last2_hometeam_w', 'last2_hometeam_d', 'last2_hometeam_l',\n",
       "       'last5_hometeam_w', 'last5_hometeam_d', 'last5_hometeam_l',\n",
       "       'last10_hometeam_w', 'last10_hometeam_d', 'last10_hometeam_l',\n",
       "       'last2_awayteam_w', 'last2_awayteam_d', 'last2_awayteam_l',\n",
       "       'last5_awayteam_w', 'last5_awayteam_d', 'last5_awayteam_l',\n",
       "       'last10_awayteam_w', 'last10_awayteam_d', 'last10_awayteam_l',\n",
       "       'league_local_local_w', 'league_local_local_d', 'league_local_local_l',\n",
       "       'league_visitor_visitor_w', 'league_visitor_visitor_d',\n",
       "       'league_visitor_visitor_l', 'h2h_last_10_h', 'h2h_last_10_d',\n",
       "       'h2h_last_10_a', 'h2h_5_homeaway_h', 'h2h_5_homeaway_d',\n",
       "       'h2h_5_homeaway_a'],\n",
       "      dtype='object')"
      ]
     },
     "execution_count": 158,
     "metadata": {},
     "output_type": "execute_result"
    }
   ],
   "source": [
    "df.columns"
   ]
  },
  {
   "cell_type": "code",
   "execution_count": null,
   "metadata": {},
   "outputs": [],
   "source": []
  }
 ],
 "metadata": {
  "kernelspec": {
   "display_name": "Python 3",
   "language": "python",
   "name": "python3"
  },
  "language_info": {
   "codemirror_mode": {
    "name": "ipython",
    "version": 3
   },
   "file_extension": ".py",
   "mimetype": "text/x-python",
   "name": "python",
   "nbconvert_exporter": "python",
   "pygments_lexer": "ipython3",
   "version": "3.7.4"
  }
 },
 "nbformat": 4,
 "nbformat_minor": 2
}
